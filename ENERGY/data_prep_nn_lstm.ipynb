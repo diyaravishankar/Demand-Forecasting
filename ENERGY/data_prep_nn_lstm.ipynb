{
 "cells": [
  {
   "cell_type": "code",
   "execution_count": 21,
   "metadata": {},
   "outputs": [],
   "source": [
    "import numpy as np\n",
    "import pandas as pd\n",
    "import matplotlib.pyplot as plt\n",
    "import seaborn as sns\n",
    "%matplotlib inline\n",
    "sns.set_style('dark')\n",
    "\n",
    "import keras\n",
    "import tensorflow\n",
    "\n",
    "from sklearn.decomposition import PCA\n",
    "from sklearn.preprocessing import MinMaxScaler\n",
    "from sklearn.metrics import mean_absolute_error\n",
    "from sklearn.model_selection import TimeSeriesSplit\n",
    "from sklearn.pipeline import make_pipeline\n",
    "\n",
    "from model_persistence import get_persistence_dataset, train_test_split, calculate_errors, plot_error\n",
    "from features_preprocessing import make_shifted_features, transform_to_windows\n",
    "from create_day_types import get_days_dummies\n"
   ]
  },
  {
   "cell_type": "code",
   "execution_count": 502,
   "metadata": {},
   "outputs": [],
   "source": [
    "def split_sequences(sequences, n_steps, extra_lag=False, long_lag_step=7, max_step=30, idx=0, multivar=False):\n",
    "    \"\"\"\n",
    "    Function modified for use from Deep learning time series forecasting by Jason Brownlee\n",
    "    \"\"\"\n",
    "    \n",
    "    if not extra_lag:\n",
    "        max_step=n_steps\n",
    "        n_steps+=1\n",
    "    \n",
    "    X, y = list(), list()\n",
    "    for i in range(len(sequences)):\n",
    "        \n",
    "        # find the end of this pattern\n",
    "        #end_ix = i + n_steps\n",
    "        end_ix = i + max_step\n",
    "        \n",
    "        slices = [x for x in range(end_ix-1,end_ix-n_steps, -1)] + [y for y in range(end_ix-n_steps, i, -long_lag_step)]\n",
    "        \n",
    "        slices = list(reversed(slices))\n",
    "        \n",
    "        # check if we are beyond the dataset\n",
    "        if end_ix > len(sequences)-1:\n",
    "            break\n",
    "        \n",
    " \n",
    "\n",
    "        seq_x = sequences[slices, :]\n",
    "        \n",
    "        # gather input and output parts of the pattern\n",
    "        #seq_x = sequences[i:end_ix, :]\n",
    "        seq_y = sequences[end_ix, :]\n",
    "\n",
    "        X.append(seq_x)\n",
    "        y.append(seq_y)\n",
    "        \n",
    "    X = np.array(X)\n",
    "    y = np.array(y)\n",
    "    \n",
    "    if multivar:\n",
    "        #unstack the 3rd dimension and select the first element(energy load)\n",
    "        y = y[:,idx]\n",
    "    \n",
    "    return X, y"
   ]
  },
  {
   "cell_type": "code",
   "execution_count": 484,
   "metadata": {},
   "outputs": [
    {
     "name": "stdout",
     "output_type": "stream",
     "text": [
      "[[ 10  15  25]\n",
      " [ 20  25  45]\n",
      " [ 30  35  65]\n",
      " [ 40  45  85]\n",
      " [ 50  55 105]\n",
      " [ 60  65 125]\n",
      " [ 70  75 145]\n",
      " [ 80  85 165]\n",
      " [ 90  95 185]\n",
      " [ 10  15  25]\n",
      " [ 20  25  45]\n",
      " [ 30  35  65]\n",
      " [ 40  45  85]\n",
      " [ 50  55 105]\n",
      " [ 60  65 125]\n",
      " [ 70  75 145]\n",
      " [ 80  85 165]\n",
      " [ 90  95 185]\n",
      " [ 10  15  25]\n",
      " [ 20  25  45]\n",
      " [ 30  35  65]\n",
      " [ 40  45  85]\n",
      " [ 50  55 105]\n",
      " [ 60  65 125]\n",
      " [ 70  75 145]\n",
      " [ 80  85 165]\n",
      " [ 90  95 185]\n",
      " [ 10  15  25]\n",
      " [ 20  25  45]\n",
      " [ 30  35  65]\n",
      " [ 40  45  85]\n",
      " [ 50  55 105]\n",
      " [ 60  65 125]\n",
      " [ 70  75 145]\n",
      " [ 80  85 165]\n",
      " [ 90  95 185]]\n",
      " \n",
      "[6, 13, 20, 27, 28, 29]\n",
      "[7, 14, 21, 28, 29, 30]\n",
      "[8, 15, 22, 29, 30, 31]\n",
      "[9, 16, 23, 30, 31, 32]\n",
      "[10, 17, 24, 31, 32, 33]\n",
      "[11, 18, 25, 32, 33, 34]\n",
      "(6, 6, 3) (6, 3)\n",
      "[[ 70  75 145]\n",
      " [ 50  55 105]\n",
      " [ 30  35  65]\n",
      " [ 10  15  25]\n",
      " [ 20  25  45]\n",
      " [ 30  35  65]] [40 45 85]\n",
      "[[ 80  85 165]\n",
      " [ 60  65 125]\n",
      " [ 40  45  85]\n",
      " [ 20  25  45]\n",
      " [ 30  35  65]\n",
      " [ 40  45  85]] [ 50  55 105]\n"
     ]
    }
   ],
   "source": [
    "in_seq1 = np.array([10, 20, 30, 40, 50, 60, 70, 80, 90,10, 20, 30, 40, 50, 60, 70, 80, 90,10, 20, 30, 40, 50, 60, 70, 80, 90, 10, 20, 30, 40, 50, 60, 70, 80, 90])\n",
    "in_seq2 = np.array([15, 25, 35, 45, 55, 65, 75, 85, 95, 15, 25, 35, 45, 55, 65, 75, 85, 95, 15, 25, 35, 45, 55, 65, 75, 85, 95, 15, 25, 35, 45, 55, 65, 75, 85, 95])\n",
    "out_seq = np.array([in_seq1[i]+in_seq2[i] for i in range(len(in_seq1))])\n",
    "\n",
    "# convert to [rows, columns] structure\n",
    "in_seq1 = in_seq1.reshape((len(in_seq1), 1))\n",
    "in_seq2 = in_seq2.reshape((len(in_seq2), 1))\n",
    "out_seq = out_seq.reshape((len(out_seq), 1))\n",
    "\n",
    "in_multi_1 = np.array([1,1,1,1])\n",
    "in_multi_2 = np.array([1,2,3,4])\n",
    "in_multi_3 = np.array([2,3,4,5])\n",
    "\n",
    "# horizontally stack columns\n",
    "dataset = np.hstack((in_seq1, in_seq2, out_seq))\n",
    "\n",
    "print(dataset)\n",
    "print(\" \")\n",
    "n_steps = 3\n",
    "# convert into input/output\n",
    "X, y = split_sequences(dataset, n_steps, extra_lag=True)\n",
    "\n",
    "print(X.shape, y.shape)\n",
    "# summarize the data\n",
    "for i in range(2):\n",
    "    print(X[i], y[i])"
   ]
  },
  {
   "cell_type": "code",
   "execution_count": 424,
   "metadata": {},
   "outputs": [
    {
     "data": {
      "text/plain": [
       "[0, 1, 2, 3, 4, 5, 6, 14, 21, 28]"
      ]
     },
     "execution_count": 424,
     "metadata": {},
     "output_type": "execute_result"
    }
   ],
   "source": [
    "[l for l in range(n_steps)] + [l_s for l_s in range(n_steps+1, 30) if l_s%7==0]"
   ]
  },
  {
   "cell_type": "code",
   "execution_count": null,
   "metadata": {},
   "outputs": [],
   "source": []
  },
  {
   "cell_type": "code",
   "execution_count": 472,
   "metadata": {},
   "outputs": [
    {
     "name": "stdout",
     "output_type": "stream",
     "text": [
      "[29, 28, 23, 18, 13, 8, 3]\n",
      "[28, 23, 18, 13, 8, 3]\n",
      "[3, 8, 13, 18, 23, 28, 29]\n",
      "30\n",
      "[30, 29, 24, 19, 14, 9, 4]\n",
      "[29, 24, 19, 14, 9, 4]\n",
      "[4, 9, 14, 19, 24, 29, 30]\n",
      "31\n",
      "[31, 30, 25, 20, 15, 10, 5]\n",
      "[30, 25, 20, 15, 10, 5]\n",
      "[5, 10, 15, 20, 25, 30, 31]\n",
      "32\n",
      "[32, 31, 26, 21, 16, 11, 6]\n",
      "[31, 26, 21, 16, 11, 6]\n",
      "[6, 11, 16, 21, 26, 31, 32]\n",
      "33\n",
      "[33, 32, 27, 22, 17, 12, 7]\n",
      "[32, 27, 22, 17, 12, 7]\n",
      "[7, 12, 17, 22, 27, 32, 33]\n",
      "34\n",
      "[34, 33, 28, 23, 18, 13, 8]\n",
      "[33, 28, 23, 18, 13, 8]\n",
      "[8, 13, 18, 23, 28, 33, 34]\n",
      "35\n",
      "[35, 34, 29, 24, 19, 14, 9]\n",
      "[34, 29, 24, 19, 14, 9]\n",
      "[9, 14, 19, 24, 29, 34, 35]\n",
      "36\n",
      "[36, 35, 30, 25, 20, 15, 10]\n",
      "[35, 30, 25, 20, 15, 10]\n",
      "[10, 15, 20, 25, 30, 35, 36]\n",
      "37\n",
      "[37, 36, 31, 26, 21, 16, 11]\n",
      "[36, 31, 26, 21, 16, 11]\n",
      "[11, 16, 21, 26, 31, 36, 37]\n",
      "38\n",
      "[38, 37, 32, 27, 22, 17, 12]\n",
      "[37, 32, 27, 22, 17, 12]\n",
      "[12, 17, 22, 27, 32, 37, 38]\n",
      "39\n",
      "[39, 38, 33, 28, 23, 18, 13]\n",
      "[38, 33, 28, 23, 18, 13]\n",
      "[13, 18, 23, 28, 33, 38, 39]\n",
      "40\n",
      "[40, 39, 34, 29, 24, 19, 14]\n",
      "[39, 34, 29, 24, 19, 14]\n",
      "[14, 19, 24, 29, 34, 39, 40]\n",
      "41\n",
      "[41, 40, 35, 30, 25, 20, 15]\n",
      "[40, 35, 30, 25, 20, 15]\n",
      "[15, 20, 25, 30, 35, 40, 41]\n",
      "42\n",
      "[42, 41, 36, 31, 26, 21, 16]\n",
      "[41, 36, 31, 26, 21, 16]\n",
      "[16, 21, 26, 31, 36, 41, 42]\n",
      "43\n",
      "[43, 42, 37, 32, 27, 22, 17]\n",
      "[42, 37, 32, 27, 22, 17]\n",
      "[17, 22, 27, 32, 37, 42, 43]\n",
      "44\n",
      "[44, 43, 38, 33, 28, 23, 18]\n",
      "[43, 38, 33, 28, 23, 18]\n",
      "[18, 23, 28, 33, 38, 43, 44]\n",
      "45\n",
      "[45, 44, 39, 34, 29, 24, 19]\n",
      "[44, 39, 34, 29, 24, 19]\n",
      "[19, 24, 29, 34, 39, 44, 45]\n",
      "46\n",
      "[46, 45, 40, 35, 30, 25, 20]\n",
      "[45, 40, 35, 30, 25, 20]\n",
      "[20, 25, 30, 35, 40, 45, 46]\n",
      "47\n",
      "[47, 46, 41, 36, 31, 26, 21]\n",
      "[46, 41, 36, 31, 26, 21]\n",
      "[21, 26, 31, 36, 41, 46, 47]\n",
      "48\n",
      "[48, 47, 42, 37, 32, 27, 22]\n",
      "[47, 42, 37, 32, 27, 22]\n",
      "[22, 27, 32, 37, 42, 47, 48]\n",
      "49\n",
      "[49, 48, 43, 38, 33, 28, 23]\n",
      "[48, 43, 38, 33, 28, 23]\n",
      "[23, 28, 33, 38, 43, 48, 49]\n",
      "50\n",
      "[50, 49, 44, 39, 34, 29, 24]\n",
      "[49, 44, 39, 34, 29, 24]\n",
      "[24, 29, 34, 39, 44, 49, 50]\n",
      "51\n",
      "[51, 50, 45, 40, 35, 30, 25]\n",
      "[50, 45, 40, 35, 30, 25]\n",
      "[25, 30, 35, 40, 45, 50, 51]\n",
      "52\n",
      "[52, 51, 46, 41, 36, 31, 26]\n",
      "[51, 46, 41, 36, 31, 26]\n",
      "[26, 31, 36, 41, 46, 51, 52]\n",
      "53\n",
      "[53, 52, 47, 42, 37, 32, 27]\n",
      "[52, 47, 42, 37, 32, 27]\n",
      "[27, 32, 37, 42, 47, 52, 53]\n",
      "54\n",
      "[54, 53, 48, 43, 38, 33, 28]\n",
      "[53, 48, 43, 38, 33, 28]\n",
      "[28, 33, 38, 43, 48, 53, 54]\n",
      "55\n",
      "[55, 54, 49, 44, 39, 34, 29]\n",
      "[54, 49, 44, 39, 34, 29]\n",
      "[29, 34, 39, 44, 49, 54, 55]\n",
      "56\n",
      "[56, 55, 50, 45, 40, 35, 30]\n",
      "[55, 50, 45, 40, 35, 30]\n",
      "[30, 35, 40, 45, 50, 55, 56]\n",
      "57\n",
      "[57, 56, 51, 46, 41, 36, 31]\n",
      "[56, 51, 46, 41, 36, 31]\n",
      "[31, 36, 41, 46, 51, 56, 57]\n",
      "58\n",
      "[58, 57, 52, 47, 42, 37, 32]\n",
      "[57, 52, 47, 42, 37, 32]\n",
      "[32, 37, 42, 47, 52, 57, 58]\n",
      "59\n",
      "[59, 58, 53, 48, 43, 38, 33]\n",
      "[58, 53, 48, 43, 38, 33]\n",
      "[33, 38, 43, 48, 53, 58, 59]\n",
      "60\n",
      "[60, 59, 54, 49, 44, 39, 34]\n",
      "[59, 54, 49, 44, 39, 34]\n",
      "[34, 39, 44, 49, 54, 59, 60]\n",
      "61\n",
      "[61, 60, 55, 50, 45, 40, 35]\n",
      "[60, 55, 50, 45, 40, 35]\n",
      "[35, 40, 45, 50, 55, 60, 61]\n",
      "62\n",
      "[62, 61, 56, 51, 46, 41, 36]\n",
      "[61, 56, 51, 46, 41, 36]\n",
      "[36, 41, 46, 51, 56, 61, 62]\n",
      "63\n",
      "[63, 62, 57, 52, 47, 42, 37]\n",
      "[62, 57, 52, 47, 42, 37]\n",
      "[37, 42, 47, 52, 57, 62, 63]\n",
      "64\n",
      "[64, 63, 58, 53, 48, 43, 38]\n",
      "[63, 58, 53, 48, 43, 38]\n",
      "[38, 43, 48, 53, 58, 63, 64]\n",
      "65\n"
     ]
    }
   ],
   "source": [
    "max_step = 30\n",
    "inital_lags = 2\n",
    "long_lag_step = 5\n",
    "\n",
    "for i in range(len(dataset)):\n",
    "    \n",
    "    # find the end of this pattern\n",
    "    #end_ix = i + n_steps\n",
    "    end_ix = i + max_step\n",
    "    \n",
    "\n",
    "    t = [x for x in range(end_ix-1,end_ix-inital_lags, -1)] \n",
    "    r = [y for y in range(end_ix-inital_lags, i, -long_lag_step)]\n",
    "    print(t+r)\n",
    "    print(r)\n",
    "    print(list(reversed(t+r)))\n",
    "    \n",
    "    print(end_ix)"
   ]
  },
  {
   "cell_type": "code",
   "execution_count": null,
   "metadata": {},
   "outputs": [],
   "source": []
  },
  {
   "cell_type": "code",
   "execution_count": 411,
   "metadata": {},
   "outputs": [
    {
     "data": {
      "text/plain": [
       "array([[10, 15, 25],\n",
       "       [30, 35, 65],\n",
       "       [10, 15, 25]])"
      ]
     },
     "execution_count": 411,
     "metadata": {},
     "output_type": "execute_result"
    }
   ],
   "source": [
    "dataset[[0,2,9]]"
   ]
  },
  {
   "cell_type": "code",
   "execution_count": 412,
   "metadata": {},
   "outputs": [
    {
     "data": {
      "text/plain": [
       "array([[20, 25, 45],\n",
       "       [40, 45, 85],\n",
       "       [20, 25, 45]])"
      ]
     },
     "execution_count": 412,
     "metadata": {},
     "output_type": "execute_result"
    }
   ],
   "source": [
    "dataset[[1,3,10]]"
   ]
  },
  {
   "cell_type": "code",
   "execution_count": 413,
   "metadata": {},
   "outputs": [
    {
     "data": {
      "text/plain": [
       "array([[ 30,  35,  65],\n",
       "       [ 50,  55, 105],\n",
       "       [ 30,  35,  65]])"
      ]
     },
     "execution_count": 413,
     "metadata": {},
     "output_type": "execute_result"
    }
   ],
   "source": [
    "dataset[[2,4,11]]"
   ]
  },
  {
   "cell_type": "code",
   "execution_count": null,
   "metadata": {},
   "outputs": [],
   "source": []
  },
  {
   "cell_type": "code",
   "execution_count": 387,
   "metadata": {},
   "outputs": [
    {
     "data": {
      "text/plain": [
       "[14, 21, 28]"
      ]
     },
     "execution_count": 387,
     "metadata": {},
     "output_type": "execute_result"
    }
   ],
   "source": [
    "n_steps=7\n",
    "\n",
    "long_steps = [l_s for l_s in range(n_steps+1, 30) if l_s%7==0]\n",
    "long_steps"
   ]
  },
  {
   "cell_type": "code",
   "execution_count": null,
   "metadata": {},
   "outputs": [],
   "source": []
  },
  {
   "cell_type": "code",
   "execution_count": null,
   "metadata": {},
   "outputs": [],
   "source": []
  },
  {
   "cell_type": "code",
   "execution_count": null,
   "metadata": {},
   "outputs": [],
   "source": []
  },
  {
   "cell_type": "code",
   "execution_count": null,
   "metadata": {},
   "outputs": [],
   "source": []
  },
  {
   "cell_type": "code",
   "execution_count": null,
   "metadata": {},
   "outputs": [],
   "source": []
  },
  {
   "cell_type": "code",
   "execution_count": 9,
   "metadata": {},
   "outputs": [
    {
     "data": {
      "text/html": [
       "<div>\n",
       "<style scoped>\n",
       "    .dataframe tbody tr th:only-of-type {\n",
       "        vertical-align: middle;\n",
       "    }\n",
       "\n",
       "    .dataframe tbody tr th {\n",
       "        vertical-align: top;\n",
       "    }\n",
       "\n",
       "    .dataframe thead th {\n",
       "        text-align: right;\n",
       "    }\n",
       "</style>\n",
       "<table border=\"1\" class=\"dataframe\">\n",
       "  <thead>\n",
       "    <tr style=\"text-align: right;\">\n",
       "      <th></th>\n",
       "      <th>actual_load</th>\n",
       "      <th>temp</th>\n",
       "      <th>pressure</th>\n",
       "      <th>wind_speed</th>\n",
       "      <th>rain_1h</th>\n",
       "      <th>rain_3h</th>\n",
       "      <th>snow_3h</th>\n",
       "      <th>heatdd</th>\n",
       "      <th>cooldd</th>\n",
       "    </tr>\n",
       "    <tr>\n",
       "      <th>time</th>\n",
       "      <th></th>\n",
       "      <th></th>\n",
       "      <th></th>\n",
       "      <th></th>\n",
       "      <th></th>\n",
       "      <th></th>\n",
       "      <th></th>\n",
       "      <th></th>\n",
       "      <th></th>\n",
       "    </tr>\n",
       "  </thead>\n",
       "  <tbody>\n",
       "    <tr>\n",
       "      <td>2015-01-01 00:00:00</td>\n",
       "      <td>25385.0</td>\n",
       "      <td>271.239327</td>\n",
       "      <td>998.190492</td>\n",
       "      <td>2.078209</td>\n",
       "      <td>0.0</td>\n",
       "      <td>0.0</td>\n",
       "      <td>0.0</td>\n",
       "      <td>19.910673</td>\n",
       "      <td>0.0</td>\n",
       "    </tr>\n",
       "    <tr>\n",
       "      <td>2015-01-01 01:00:00</td>\n",
       "      <td>24382.0</td>\n",
       "      <td>271.245271</td>\n",
       "      <td>998.134512</td>\n",
       "      <td>2.078209</td>\n",
       "      <td>0.0</td>\n",
       "      <td>0.0</td>\n",
       "      <td>0.0</td>\n",
       "      <td>19.904729</td>\n",
       "      <td>0.0</td>\n",
       "    </tr>\n",
       "    <tr>\n",
       "      <td>2015-01-01 02:00:00</td>\n",
       "      <td>22734.0</td>\n",
       "      <td>270.544537</td>\n",
       "      <td>998.507545</td>\n",
       "      <td>2.230083</td>\n",
       "      <td>0.0</td>\n",
       "      <td>0.0</td>\n",
       "      <td>0.0</td>\n",
       "      <td>20.605463</td>\n",
       "      <td>0.0</td>\n",
       "    </tr>\n",
       "  </tbody>\n",
       "</table>\n",
       "</div>"
      ],
      "text/plain": [
       "                     actual_load        temp    pressure  wind_speed  rain_1h  \\\n",
       "time                                                                            \n",
       "2015-01-01 00:00:00      25385.0  271.239327  998.190492    2.078209      0.0   \n",
       "2015-01-01 01:00:00      24382.0  271.245271  998.134512    2.078209      0.0   \n",
       "2015-01-01 02:00:00      22734.0  270.544537  998.507545    2.230083      0.0   \n",
       "\n",
       "                     rain_3h  snow_3h     heatdd  cooldd  \n",
       "time                                                      \n",
       "2015-01-01 00:00:00      0.0      0.0  19.910673     0.0  \n",
       "2015-01-01 01:00:00      0.0      0.0  19.904729     0.0  \n",
       "2015-01-01 02:00:00      0.0      0.0  20.605463     0.0  "
      ]
     },
     "execution_count": 9,
     "metadata": {},
     "output_type": "execute_result"
    }
   ],
   "source": [
    "data_comb = pd.read_csv('./data/cleaned_data/energy_weather_2015_2018.csv', parse_dates=True, index_col='time')\n",
    "data_comb.head(3)"
   ]
  },
  {
   "cell_type": "code",
   "execution_count": 13,
   "metadata": {},
   "outputs": [
    {
     "data": {
      "text/plain": [
       "(Timestamp('2015-01-01 00:00:00'), Timestamp('2018-12-31 23:00:00'))"
      ]
     },
     "execution_count": 13,
     "metadata": {},
     "output_type": "execute_result"
    }
   ],
   "source": [
    "data_comb.index.min(), data_comb.index.max()"
   ]
  },
  {
   "cell_type": "code",
   "execution_count": 14,
   "metadata": {},
   "outputs": [
    {
     "data": {
      "text/html": [
       "<div>\n",
       "<style scoped>\n",
       "    .dataframe tbody tr th:only-of-type {\n",
       "        vertical-align: middle;\n",
       "    }\n",
       "\n",
       "    .dataframe tbody tr th {\n",
       "        vertical-align: top;\n",
       "    }\n",
       "\n",
       "    .dataframe thead th {\n",
       "        text-align: right;\n",
       "    }\n",
       "</style>\n",
       "<table border=\"1\" class=\"dataframe\">\n",
       "  <thead>\n",
       "    <tr style=\"text-align: right;\">\n",
       "      <th></th>\n",
       "      <th>mon</th>\n",
       "      <th>tue</th>\n",
       "      <th>wed</th>\n",
       "      <th>thur</th>\n",
       "      <th>fri</th>\n",
       "      <th>sat</th>\n",
       "      <th>sun</th>\n",
       "    </tr>\n",
       "  </thead>\n",
       "  <tbody>\n",
       "    <tr>\n",
       "      <td>2015-01-01 00:00:00</td>\n",
       "      <td>0</td>\n",
       "      <td>0</td>\n",
       "      <td>0</td>\n",
       "      <td>1</td>\n",
       "      <td>0</td>\n",
       "      <td>0</td>\n",
       "      <td>0</td>\n",
       "    </tr>\n",
       "    <tr>\n",
       "      <td>2015-01-01 01:00:00</td>\n",
       "      <td>0</td>\n",
       "      <td>0</td>\n",
       "      <td>0</td>\n",
       "      <td>1</td>\n",
       "      <td>0</td>\n",
       "      <td>0</td>\n",
       "      <td>0</td>\n",
       "    </tr>\n",
       "    <tr>\n",
       "      <td>2015-01-01 02:00:00</td>\n",
       "      <td>0</td>\n",
       "      <td>0</td>\n",
       "      <td>0</td>\n",
       "      <td>1</td>\n",
       "      <td>0</td>\n",
       "      <td>0</td>\n",
       "      <td>0</td>\n",
       "    </tr>\n",
       "  </tbody>\n",
       "</table>\n",
       "</div>"
      ],
      "text/plain": [
       "                     mon  tue  wed  thur  fri  sat  sun\n",
       "2015-01-01 00:00:00    0    0    0     1    0    0    0\n",
       "2015-01-01 01:00:00    0    0    0     1    0    0    0\n",
       "2015-01-01 02:00:00    0    0    0     1    0    0    0"
      ]
     },
     "execution_count": 14,
     "metadata": {},
     "output_type": "execute_result"
    }
   ],
   "source": [
    "days_df = get_days_dummies(start='2015-01-01', stop='2018-12-31', frequency='H')\n",
    "days_df.head(3)"
   ]
  },
  {
   "cell_type": "code",
   "execution_count": 15,
   "metadata": {},
   "outputs": [
    {
     "data": {
      "text/plain": [
       "(Timestamp('2015-01-01 00:00:00'), Timestamp('2018-12-31 00:00:00'))"
      ]
     },
     "execution_count": 15,
     "metadata": {},
     "output_type": "execute_result"
    }
   ],
   "source": [
    "days_df.index.min(), days_df.index.max()"
   ]
  },
  {
   "cell_type": "code",
   "execution_count": 22,
   "metadata": {},
   "outputs": [],
   "source": [
    "## apply PCA pipeline to the weather features.\n",
    "\n",
    "#initate a min max scaler\n",
    "minmax = MinMaxScaler()\n",
    "\n",
    "#initate a PCA object to cpature 90% of dimensionality\n",
    "pca = PCA(n_components=2)\n",
    "\n",
    "#initate the pipeline for pca\n",
    "pca_pipe = make_pipeline(pca, minmax)\n",
    "\n",
    "minmax_pipe = make_pipeline(minmax)\n",
    "\n",
    "weather_cols = ['temp','pressure','wind_speed','rain_1h','rain_3h','snow_3h','heatdd','cooldd']\n",
    "\n",
    "#select the weather columns and make sure there are no Nans before transform\n",
    "data_weather = data_comb[weather_cols].interpolate(method='linear')\n",
    "\n",
    "#transform the weather data\n",
    "pca_weather = pca_pipe.fit_transform(data_weather)\n",
    "\n",
    "#make dataframe with the transformed weather pca\n",
    "pca_weather_df = pd.DataFrame(pca_weather, index=data_weather.index, columns=['pca1', 'pca2'])"
   ]
  },
  {
   "cell_type": "code",
   "execution_count": 23,
   "metadata": {},
   "outputs": [
    {
     "data": {
      "text/html": [
       "<div>\n",
       "<style scoped>\n",
       "    .dataframe tbody tr th:only-of-type {\n",
       "        vertical-align: middle;\n",
       "    }\n",
       "\n",
       "    .dataframe tbody tr th {\n",
       "        vertical-align: top;\n",
       "    }\n",
       "\n",
       "    .dataframe thead th {\n",
       "        text-align: right;\n",
       "    }\n",
       "</style>\n",
       "<table border=\"1\" class=\"dataframe\">\n",
       "  <thead>\n",
       "    <tr style=\"text-align: right;\">\n",
       "      <th></th>\n",
       "      <th>pca1</th>\n",
       "      <th>pca2</th>\n",
       "    </tr>\n",
       "    <tr>\n",
       "      <th>time</th>\n",
       "      <th></th>\n",
       "      <th></th>\n",
       "    </tr>\n",
       "  </thead>\n",
       "  <tbody>\n",
       "    <tr>\n",
       "      <td>2015-01-01 00:00:00</td>\n",
       "      <td>0.000932</td>\n",
       "      <td>0.051902</td>\n",
       "    </tr>\n",
       "    <tr>\n",
       "      <td>2015-01-01 01:00:00</td>\n",
       "      <td>0.000932</td>\n",
       "      <td>0.052050</td>\n",
       "    </tr>\n",
       "    <tr>\n",
       "      <td>2015-01-01 02:00:00</td>\n",
       "      <td>0.000933</td>\n",
       "      <td>0.034670</td>\n",
       "    </tr>\n",
       "  </tbody>\n",
       "</table>\n",
       "</div>"
      ],
      "text/plain": [
       "                         pca1      pca2\n",
       "time                                   \n",
       "2015-01-01 00:00:00  0.000932  0.051902\n",
       "2015-01-01 01:00:00  0.000932  0.052050\n",
       "2015-01-01 02:00:00  0.000933  0.034670"
      ]
     },
     "execution_count": 23,
     "metadata": {},
     "output_type": "execute_result"
    }
   ],
   "source": [
    "pca_weather_df.head(3)"
   ]
  },
  {
   "cell_type": "code",
   "execution_count": 24,
   "metadata": {},
   "outputs": [
    {
     "data": {
      "text/plain": [
       "Timestamp('2018-12-31 23:00:00')"
      ]
     },
     "execution_count": 24,
     "metadata": {},
     "output_type": "execute_result"
    }
   ],
   "source": [
    "pca_weather_df.index.max()"
   ]
  },
  {
   "cell_type": "code",
   "execution_count": 162,
   "metadata": {},
   "outputs": [
    {
     "data": {
      "text/html": [
       "<div>\n",
       "<style scoped>\n",
       "    .dataframe tbody tr th:only-of-type {\n",
       "        vertical-align: middle;\n",
       "    }\n",
       "\n",
       "    .dataframe tbody tr th {\n",
       "        vertical-align: top;\n",
       "    }\n",
       "\n",
       "    .dataframe thead th {\n",
       "        text-align: right;\n",
       "    }\n",
       "</style>\n",
       "<table border=\"1\" class=\"dataframe\">\n",
       "  <thead>\n",
       "    <tr style=\"text-align: right;\">\n",
       "      <th></th>\n",
       "      <th>actual_load</th>\n",
       "      <th>pca1</th>\n",
       "      <th>pca2</th>\n",
       "      <th>mon</th>\n",
       "      <th>tue</th>\n",
       "      <th>wed</th>\n",
       "      <th>thur</th>\n",
       "      <th>fri</th>\n",
       "      <th>sat</th>\n",
       "      <th>sun</th>\n",
       "    </tr>\n",
       "  </thead>\n",
       "  <tbody>\n",
       "    <tr>\n",
       "      <td>2015-01-01 00:00:00</td>\n",
       "      <td>25385.0</td>\n",
       "      <td>0.000932</td>\n",
       "      <td>0.051902</td>\n",
       "      <td>0.0</td>\n",
       "      <td>0.0</td>\n",
       "      <td>0.0</td>\n",
       "      <td>1.0</td>\n",
       "      <td>0.0</td>\n",
       "      <td>0.0</td>\n",
       "      <td>0.0</td>\n",
       "    </tr>\n",
       "    <tr>\n",
       "      <td>2015-01-01 01:00:00</td>\n",
       "      <td>24382.0</td>\n",
       "      <td>0.000932</td>\n",
       "      <td>0.052050</td>\n",
       "      <td>0.0</td>\n",
       "      <td>0.0</td>\n",
       "      <td>0.0</td>\n",
       "      <td>1.0</td>\n",
       "      <td>0.0</td>\n",
       "      <td>0.0</td>\n",
       "      <td>0.0</td>\n",
       "    </tr>\n",
       "    <tr>\n",
       "      <td>2015-01-01 02:00:00</td>\n",
       "      <td>22734.0</td>\n",
       "      <td>0.000933</td>\n",
       "      <td>0.034670</td>\n",
       "      <td>0.0</td>\n",
       "      <td>0.0</td>\n",
       "      <td>0.0</td>\n",
       "      <td>1.0</td>\n",
       "      <td>0.0</td>\n",
       "      <td>0.0</td>\n",
       "      <td>0.0</td>\n",
       "    </tr>\n",
       "  </tbody>\n",
       "</table>\n",
       "</div>"
      ],
      "text/plain": [
       "                     actual_load      pca1      pca2  mon  tue  wed  thur  \\\n",
       "2015-01-01 00:00:00      25385.0  0.000932  0.051902  0.0  0.0  0.0   1.0   \n",
       "2015-01-01 01:00:00      24382.0  0.000932  0.052050  0.0  0.0  0.0   1.0   \n",
       "2015-01-01 02:00:00      22734.0  0.000933  0.034670  0.0  0.0  0.0   1.0   \n",
       "\n",
       "                     fri  sat  sun  \n",
       "2015-01-01 00:00:00  0.0  0.0  0.0  \n",
       "2015-01-01 01:00:00  0.0  0.0  0.0  \n",
       "2015-01-01 02:00:00  0.0  0.0  0.0  "
      ]
     },
     "execution_count": 162,
     "metadata": {},
     "output_type": "execute_result"
    }
   ],
   "source": [
    "all_data = pd.concat([data_comb['actual_load'], pca_weather_df, days_df], axis=1)\n",
    "all_data.head(3)"
   ]
  },
  {
   "cell_type": "code",
   "execution_count": 26,
   "metadata": {},
   "outputs": [],
   "source": [
    "all_data.to_csv('./data/lstm/nn_dataset_2015_2018.csv')"
   ]
  },
  {
   "cell_type": "code",
   "execution_count": 170,
   "metadata": {},
   "outputs": [
    {
     "data": {
      "text/html": [
       "<div>\n",
       "<style scoped>\n",
       "    .dataframe tbody tr th:only-of-type {\n",
       "        vertical-align: middle;\n",
       "    }\n",
       "\n",
       "    .dataframe tbody tr th {\n",
       "        vertical-align: top;\n",
       "    }\n",
       "\n",
       "    .dataframe thead th {\n",
       "        text-align: right;\n",
       "    }\n",
       "</style>\n",
       "<table border=\"1\" class=\"dataframe\">\n",
       "  <thead>\n",
       "    <tr style=\"text-align: right;\">\n",
       "      <th></th>\n",
       "      <th>actual_load</th>\n",
       "      <th>pca1</th>\n",
       "      <th>pca2</th>\n",
       "      <th>mon</th>\n",
       "      <th>tue</th>\n",
       "      <th>wed</th>\n",
       "      <th>thur</th>\n",
       "      <th>fri</th>\n",
       "      <th>sat</th>\n",
       "      <th>sun</th>\n",
       "    </tr>\n",
       "  </thead>\n",
       "  <tbody>\n",
       "    <tr>\n",
       "      <td>2015-01-01 00:00:00</td>\n",
       "      <td>25385.0</td>\n",
       "      <td>0.000932</td>\n",
       "      <td>0.051902</td>\n",
       "      <td>0.0</td>\n",
       "      <td>0.0</td>\n",
       "      <td>0.0</td>\n",
       "      <td>1.0</td>\n",
       "      <td>0.0</td>\n",
       "      <td>0.0</td>\n",
       "      <td>0.0</td>\n",
       "    </tr>\n",
       "    <tr>\n",
       "      <td>2015-01-01 01:00:00</td>\n",
       "      <td>24382.0</td>\n",
       "      <td>0.000932</td>\n",
       "      <td>0.052050</td>\n",
       "      <td>0.0</td>\n",
       "      <td>0.0</td>\n",
       "      <td>0.0</td>\n",
       "      <td>1.0</td>\n",
       "      <td>0.0</td>\n",
       "      <td>0.0</td>\n",
       "      <td>0.0</td>\n",
       "    </tr>\n",
       "  </tbody>\n",
       "</table>\n",
       "</div>"
      ],
      "text/plain": [
       "                     actual_load      pca1      pca2  mon  tue  wed  thur  \\\n",
       "2015-01-01 00:00:00      25385.0  0.000932  0.051902  0.0  0.0  0.0   1.0   \n",
       "2015-01-01 01:00:00      24382.0  0.000932  0.052050  0.0  0.0  0.0   1.0   \n",
       "\n",
       "                     fri  sat  sun  \n",
       "2015-01-01 00:00:00  0.0  0.0  0.0  \n",
       "2015-01-01 01:00:00  0.0  0.0  0.0  "
      ]
     },
     "execution_count": 170,
     "metadata": {},
     "output_type": "execute_result"
    }
   ],
   "source": [
    "data = pd.read_csv('./data/lstm/nn_dataset_2015_2018.csv', parse_dates=True, index_col=0)\n",
    "data.head(2)"
   ]
  },
  {
   "cell_type": "code",
   "execution_count": 330,
   "metadata": {},
   "outputs": [
    {
     "data": {
      "text/html": [
       "<div>\n",
       "<style scoped>\n",
       "    .dataframe tbody tr th:only-of-type {\n",
       "        vertical-align: middle;\n",
       "    }\n",
       "\n",
       "    .dataframe tbody tr th {\n",
       "        vertical-align: top;\n",
       "    }\n",
       "\n",
       "    .dataframe thead th {\n",
       "        text-align: right;\n",
       "    }\n",
       "</style>\n",
       "<table border=\"1\" class=\"dataframe\">\n",
       "  <thead>\n",
       "    <tr style=\"text-align: right;\">\n",
       "      <th></th>\n",
       "      <th>actual_load</th>\n",
       "      <th>pca1</th>\n",
       "      <th>pca2</th>\n",
       "      <th>mon</th>\n",
       "      <th>tue</th>\n",
       "      <th>wed</th>\n",
       "      <th>thur</th>\n",
       "      <th>fri</th>\n",
       "      <th>sat</th>\n",
       "      <th>sun</th>\n",
       "    </tr>\n",
       "  </thead>\n",
       "  <tbody>\n",
       "    <tr>\n",
       "      <td>2015-01-01 00:00:00</td>\n",
       "      <td>25385.0</td>\n",
       "      <td>0.000932</td>\n",
       "      <td>0.051902</td>\n",
       "      <td>0.0</td>\n",
       "      <td>0.0</td>\n",
       "      <td>0.0</td>\n",
       "      <td>1.0</td>\n",
       "      <td>0.0</td>\n",
       "      <td>0.0</td>\n",
       "      <td>0.0</td>\n",
       "    </tr>\n",
       "    <tr>\n",
       "      <td>2015-01-01 01:00:00</td>\n",
       "      <td>24382.0</td>\n",
       "      <td>0.000932</td>\n",
       "      <td>0.052050</td>\n",
       "      <td>0.0</td>\n",
       "      <td>0.0</td>\n",
       "      <td>0.0</td>\n",
       "      <td>1.0</td>\n",
       "      <td>0.0</td>\n",
       "      <td>0.0</td>\n",
       "      <td>0.0</td>\n",
       "    </tr>\n",
       "    <tr>\n",
       "      <td>2015-01-01 02:00:00</td>\n",
       "      <td>22734.0</td>\n",
       "      <td>0.000933</td>\n",
       "      <td>0.034670</td>\n",
       "      <td>0.0</td>\n",
       "      <td>0.0</td>\n",
       "      <td>0.0</td>\n",
       "      <td>1.0</td>\n",
       "      <td>0.0</td>\n",
       "      <td>0.0</td>\n",
       "      <td>0.0</td>\n",
       "    </tr>\n",
       "  </tbody>\n",
       "</table>\n",
       "</div>"
      ],
      "text/plain": [
       "                     actual_load      pca1      pca2  mon  tue  wed  thur  \\\n",
       "2015-01-01 00:00:00      25385.0  0.000932  0.051902  0.0  0.0  0.0   1.0   \n",
       "2015-01-01 01:00:00      24382.0  0.000932  0.052050  0.0  0.0  0.0   1.0   \n",
       "2015-01-01 02:00:00      22734.0  0.000933  0.034670  0.0  0.0  0.0   1.0   \n",
       "\n",
       "                     fri  sat  sun  \n",
       "2015-01-01 00:00:00  0.0  0.0  0.0  \n",
       "2015-01-01 01:00:00  0.0  0.0  0.0  \n",
       "2015-01-01 02:00:00  0.0  0.0  0.0  "
      ]
     },
     "execution_count": 330,
     "metadata": {},
     "output_type": "execute_result"
    }
   ],
   "source": [
    "all_data = pd.read_csv('./data/lstm/nn_dataset_2015_2018.csv', parse_dates=True, index_col=0)\n",
    "\n",
    "data = all_data['2015-01-01':'2015-01-05'].copy()\n",
    "\n",
    "all_data.head(3)"
   ]
  },
  {
   "cell_type": "code",
   "execution_count": 333,
   "metadata": {},
   "outputs": [
    {
     "ename": "AttributeError",
     "evalue": "'numpy.ndarray' object has no attribute 'values'",
     "output_type": "error",
     "traceback": [
      "\u001b[0;31m---------------------------------------------------------------------------\u001b[0m",
      "\u001b[0;31mAttributeError\u001b[0m                            Traceback (most recent call last)",
      "\u001b[0;32m<ipython-input-333-ca13a0775c0c>\u001b[0m in \u001b[0;36m<module>\u001b[0;34m\u001b[0m\n\u001b[1;32m      1\u001b[0m \u001b[0mcheck\u001b[0m \u001b[0;34m=\u001b[0m \u001b[0mdata\u001b[0m\u001b[0;34m[\u001b[0m\u001b[0;34m'actual_load'\u001b[0m\u001b[0;34m]\u001b[0m\u001b[0;34m.\u001b[0m\u001b[0mvalues\u001b[0m\u001b[0;34m.\u001b[0m\u001b[0mreshape\u001b[0m\u001b[0;34m(\u001b[0m\u001b[0;34m-\u001b[0m\u001b[0;36m1\u001b[0m\u001b[0;34m,\u001b[0m\u001b[0;36m1\u001b[0m\u001b[0;34m)\u001b[0m\u001b[0;34m\u001b[0m\u001b[0;34m\u001b[0m\u001b[0m\n\u001b[1;32m      2\u001b[0m \u001b[0;34m\u001b[0m\u001b[0m\n\u001b[0;32m----> 3\u001b[0;31m \u001b[0mc\u001b[0m\u001b[0;34m,\u001b[0m \u001b[0ms\u001b[0m \u001b[0;34m=\u001b[0m \u001b[0mnormalize_df\u001b[0m\u001b[0;34m(\u001b[0m\u001b[0mcheck\u001b[0m\u001b[0;34m)\u001b[0m\u001b[0;34m\u001b[0m\u001b[0;34m\u001b[0m\u001b[0m\n\u001b[0m",
      "\u001b[0;32m<ipython-input-327-b362a8e602e4>\u001b[0m in \u001b[0;36mnormalize_df\u001b[0;34m(data)\u001b[0m\n\u001b[1;32m      2\u001b[0m \u001b[0;34m\u001b[0m\u001b[0m\n\u001b[1;32m      3\u001b[0m     \u001b[0;31m#normalize the dataset for working with the lstm nn\u001b[0m\u001b[0;34m\u001b[0m\u001b[0;34m\u001b[0m\u001b[0;34m\u001b[0m\u001b[0m\n\u001b[0;32m----> 4\u001b[0;31m     \u001b[0mscaler\u001b[0m \u001b[0;34m=\u001b[0m \u001b[0mMinMaxScaler\u001b[0m\u001b[0;34m(\u001b[0m\u001b[0;34m)\u001b[0m\u001b[0;34m.\u001b[0m\u001b[0mfit\u001b[0m\u001b[0;34m(\u001b[0m\u001b[0mdata\u001b[0m\u001b[0;34m.\u001b[0m\u001b[0mvalues\u001b[0m\u001b[0;34m.\u001b[0m\u001b[0mreshape\u001b[0m\u001b[0;34m(\u001b[0m\u001b[0;34m-\u001b[0m\u001b[0;36m1\u001b[0m\u001b[0;34m,\u001b[0m\u001b[0;36m1\u001b[0m\u001b[0;34m)\u001b[0m\u001b[0;34m)\u001b[0m\u001b[0;34m\u001b[0m\u001b[0;34m\u001b[0m\u001b[0m\n\u001b[0m\u001b[1;32m      5\u001b[0m     \u001b[0mdata_normd\u001b[0m \u001b[0;34m=\u001b[0m \u001b[0mscaler\u001b[0m\u001b[0;34m.\u001b[0m\u001b[0mtransform\u001b[0m\u001b[0;34m(\u001b[0m\u001b[0mdata\u001b[0m\u001b[0;34m.\u001b[0m\u001b[0mvalues\u001b[0m\u001b[0;34m)\u001b[0m\u001b[0;34m\u001b[0m\u001b[0;34m\u001b[0m\u001b[0m\n\u001b[1;32m      6\u001b[0m \u001b[0;34m\u001b[0m\u001b[0m\n",
      "\u001b[0;31mAttributeError\u001b[0m: 'numpy.ndarray' object has no attribute 'values'"
     ]
    }
   ],
   "source": [
    "check = data['actual_load'].values.reshape(-1,1)\n",
    "\n",
    "c, s = normalize_df(check)"
   ]
  },
  {
   "cell_type": "code",
   "execution_count": null,
   "metadata": {},
   "outputs": [],
   "source": []
  },
  {
   "cell_type": "code",
   "execution_count": null,
   "metadata": {},
   "outputs": [],
   "source": []
  },
  {
   "cell_type": "code",
   "execution_count": 240,
   "metadata": {},
   "outputs": [],
   "source": [
    "data.loc[:,'year'] = data.index.year\n",
    "data.loc[:,'month'] = data.index.month\n",
    "data.loc[:,'day'] = data.index.day\n",
    "data.loc[:,'hours'] = data.index.hour"
   ]
  },
  {
   "cell_type": "code",
   "execution_count": 241,
   "metadata": {},
   "outputs": [
    {
     "data": {
      "text/html": [
       "<div>\n",
       "<style scoped>\n",
       "    .dataframe tbody tr th:only-of-type {\n",
       "        vertical-align: middle;\n",
       "    }\n",
       "\n",
       "    .dataframe tbody tr th {\n",
       "        vertical-align: top;\n",
       "    }\n",
       "\n",
       "    .dataframe thead th {\n",
       "        text-align: right;\n",
       "    }\n",
       "</style>\n",
       "<table border=\"1\" class=\"dataframe\">\n",
       "  <thead>\n",
       "    <tr style=\"text-align: right;\">\n",
       "      <th></th>\n",
       "      <th>actual_load</th>\n",
       "      <th>pca1</th>\n",
       "      <th>pca2</th>\n",
       "      <th>mon</th>\n",
       "      <th>tue</th>\n",
       "      <th>wed</th>\n",
       "      <th>thur</th>\n",
       "      <th>fri</th>\n",
       "      <th>sat</th>\n",
       "      <th>sun</th>\n",
       "      <th>year</th>\n",
       "      <th>month</th>\n",
       "      <th>day</th>\n",
       "      <th>hours</th>\n",
       "    </tr>\n",
       "  </thead>\n",
       "  <tbody>\n",
       "    <tr>\n",
       "      <td>2015-01-01 00:00:00</td>\n",
       "      <td>25385.0</td>\n",
       "      <td>0.000932</td>\n",
       "      <td>0.051902</td>\n",
       "      <td>0.0</td>\n",
       "      <td>0.0</td>\n",
       "      <td>0.0</td>\n",
       "      <td>1.0</td>\n",
       "      <td>0.0</td>\n",
       "      <td>0.0</td>\n",
       "      <td>0.0</td>\n",
       "      <td>2015</td>\n",
       "      <td>1</td>\n",
       "      <td>1</td>\n",
       "      <td>0</td>\n",
       "    </tr>\n",
       "    <tr>\n",
       "      <td>2015-01-01 01:00:00</td>\n",
       "      <td>24382.0</td>\n",
       "      <td>0.000932</td>\n",
       "      <td>0.052050</td>\n",
       "      <td>0.0</td>\n",
       "      <td>0.0</td>\n",
       "      <td>0.0</td>\n",
       "      <td>1.0</td>\n",
       "      <td>0.0</td>\n",
       "      <td>0.0</td>\n",
       "      <td>0.0</td>\n",
       "      <td>2015</td>\n",
       "      <td>1</td>\n",
       "      <td>1</td>\n",
       "      <td>1</td>\n",
       "    </tr>\n",
       "    <tr>\n",
       "      <td>2015-01-01 02:00:00</td>\n",
       "      <td>22734.0</td>\n",
       "      <td>0.000933</td>\n",
       "      <td>0.034670</td>\n",
       "      <td>0.0</td>\n",
       "      <td>0.0</td>\n",
       "      <td>0.0</td>\n",
       "      <td>1.0</td>\n",
       "      <td>0.0</td>\n",
       "      <td>0.0</td>\n",
       "      <td>0.0</td>\n",
       "      <td>2015</td>\n",
       "      <td>1</td>\n",
       "      <td>1</td>\n",
       "      <td>2</td>\n",
       "    </tr>\n",
       "  </tbody>\n",
       "</table>\n",
       "</div>"
      ],
      "text/plain": [
       "                     actual_load      pca1      pca2  mon  tue  wed  thur  \\\n",
       "2015-01-01 00:00:00      25385.0  0.000932  0.051902  0.0  0.0  0.0   1.0   \n",
       "2015-01-01 01:00:00      24382.0  0.000932  0.052050  0.0  0.0  0.0   1.0   \n",
       "2015-01-01 02:00:00      22734.0  0.000933  0.034670  0.0  0.0  0.0   1.0   \n",
       "\n",
       "                     fri  sat  sun  year  month  day  hours  \n",
       "2015-01-01 00:00:00  0.0  0.0  0.0  2015      1    1      0  \n",
       "2015-01-01 01:00:00  0.0  0.0  0.0  2015      1    1      1  \n",
       "2015-01-01 02:00:00  0.0  0.0  0.0  2015      1    1      2  "
      ]
     },
     "execution_count": 241,
     "metadata": {},
     "output_type": "execute_result"
    }
   ],
   "source": [
    "data.head(3)"
   ]
  },
  {
   "cell_type": "code",
   "execution_count": 487,
   "metadata": {},
   "outputs": [
    {
     "ename": "AttributeError",
     "evalue": "'DataFrame' object has no attribute 'hours'",
     "output_type": "error",
     "traceback": [
      "\u001b[0;31m---------------------------------------------------------------------------\u001b[0m",
      "\u001b[0;31mAttributeError\u001b[0m                            Traceback (most recent call last)",
      "\u001b[0;32m<ipython-input-487-a41f8111f5d4>\u001b[0m in \u001b[0;36m<module>\u001b[0;34m\u001b[0m\n\u001b[1;32m      1\u001b[0m \u001b[0mhours\u001b[0m \u001b[0;34m=\u001b[0m \u001b[0;34m[\u001b[0m\u001b[0;34m]\u001b[0m\u001b[0;34m\u001b[0m\u001b[0;34m\u001b[0m\u001b[0m\n\u001b[1;32m      2\u001b[0m \u001b[0;34m\u001b[0m\u001b[0m\n\u001b[0;32m----> 3\u001b[0;31m \u001b[0;32mfor\u001b[0m \u001b[0mh\u001b[0m \u001b[0;32min\u001b[0m \u001b[0mdata\u001b[0m\u001b[0;34m.\u001b[0m\u001b[0mhours\u001b[0m\u001b[0;34m.\u001b[0m\u001b[0munique\u001b[0m\u001b[0;34m(\u001b[0m\u001b[0;34m)\u001b[0m\u001b[0;34m:\u001b[0m\u001b[0;34m\u001b[0m\u001b[0;34m\u001b[0m\u001b[0m\n\u001b[0m\u001b[1;32m      4\u001b[0m     \u001b[0mhour\u001b[0m \u001b[0;34m=\u001b[0m \u001b[0mdata\u001b[0m\u001b[0;34m[\u001b[0m\u001b[0mdata\u001b[0m\u001b[0;34m.\u001b[0m\u001b[0mhours\u001b[0m\u001b[0;34m==\u001b[0m\u001b[0;36m0\u001b[0m\u001b[0;34m]\u001b[0m\u001b[0;34m.\u001b[0m\u001b[0mcopy\u001b[0m\u001b[0;34m(\u001b[0m\u001b[0;34m)\u001b[0m\u001b[0;34m\u001b[0m\u001b[0;34m\u001b[0m\u001b[0m\n\u001b[1;32m      5\u001b[0m     \u001b[0mhour\u001b[0m\u001b[0;34m.\u001b[0m\u001b[0mdrop\u001b[0m\u001b[0;34m(\u001b[0m\u001b[0;34m[\u001b[0m\u001b[0;34m'year'\u001b[0m\u001b[0;34m,\u001b[0m \u001b[0;34m'month'\u001b[0m\u001b[0;34m,\u001b[0m \u001b[0;34m'day'\u001b[0m\u001b[0;34m,\u001b[0m \u001b[0;34m'hours'\u001b[0m\u001b[0;34m]\u001b[0m\u001b[0;34m,\u001b[0m \u001b[0maxis\u001b[0m\u001b[0;34m=\u001b[0m\u001b[0;36m1\u001b[0m\u001b[0;34m,\u001b[0m \u001b[0minplace\u001b[0m\u001b[0;34m=\u001b[0m\u001b[0;32mTrue\u001b[0m\u001b[0;34m)\u001b[0m\u001b[0;34m\u001b[0m\u001b[0;34m\u001b[0m\u001b[0m\n",
      "\u001b[0;32m~/anaconda3/envs/bk_py3/lib/python3.6/site-packages/pandas/core/generic.py\u001b[0m in \u001b[0;36m__getattr__\u001b[0;34m(self, name)\u001b[0m\n\u001b[1;32m   5177\u001b[0m             \u001b[0;32mif\u001b[0m \u001b[0mself\u001b[0m\u001b[0;34m.\u001b[0m\u001b[0m_info_axis\u001b[0m\u001b[0;34m.\u001b[0m\u001b[0m_can_hold_identifiers_and_holds_name\u001b[0m\u001b[0;34m(\u001b[0m\u001b[0mname\u001b[0m\u001b[0;34m)\u001b[0m\u001b[0;34m:\u001b[0m\u001b[0;34m\u001b[0m\u001b[0;34m\u001b[0m\u001b[0m\n\u001b[1;32m   5178\u001b[0m                 \u001b[0;32mreturn\u001b[0m \u001b[0mself\u001b[0m\u001b[0;34m[\u001b[0m\u001b[0mname\u001b[0m\u001b[0;34m]\u001b[0m\u001b[0;34m\u001b[0m\u001b[0;34m\u001b[0m\u001b[0m\n\u001b[0;32m-> 5179\u001b[0;31m             \u001b[0;32mreturn\u001b[0m \u001b[0mobject\u001b[0m\u001b[0;34m.\u001b[0m\u001b[0m__getattribute__\u001b[0m\u001b[0;34m(\u001b[0m\u001b[0mself\u001b[0m\u001b[0;34m,\u001b[0m \u001b[0mname\u001b[0m\u001b[0;34m)\u001b[0m\u001b[0;34m\u001b[0m\u001b[0;34m\u001b[0m\u001b[0m\n\u001b[0m\u001b[1;32m   5180\u001b[0m \u001b[0;34m\u001b[0m\u001b[0m\n\u001b[1;32m   5181\u001b[0m     \u001b[0;32mdef\u001b[0m \u001b[0m__setattr__\u001b[0m\u001b[0;34m(\u001b[0m\u001b[0mself\u001b[0m\u001b[0;34m,\u001b[0m \u001b[0mname\u001b[0m\u001b[0;34m,\u001b[0m \u001b[0mvalue\u001b[0m\u001b[0;34m)\u001b[0m\u001b[0;34m:\u001b[0m\u001b[0;34m\u001b[0m\u001b[0;34m\u001b[0m\u001b[0m\n",
      "\u001b[0;31mAttributeError\u001b[0m: 'DataFrame' object has no attribute 'hours'"
     ]
    }
   ],
   "source": [
    "hours = [] \n",
    "\n",
    "for h in data.hours.unique():\n",
    "    hour = data[data.hours==0].copy()\n",
    "    hour.drop(['year', 'month', 'day', 'hours'], axis=1, inplace=True)\n",
    "    hours.append(hour)"
   ]
  },
  {
   "cell_type": "code",
   "execution_count": 247,
   "metadata": {},
   "outputs": [
    {
     "data": {
      "text/html": [
       "<div>\n",
       "<style scoped>\n",
       "    .dataframe tbody tr th:only-of-type {\n",
       "        vertical-align: middle;\n",
       "    }\n",
       "\n",
       "    .dataframe tbody tr th {\n",
       "        vertical-align: top;\n",
       "    }\n",
       "\n",
       "    .dataframe thead th {\n",
       "        text-align: right;\n",
       "    }\n",
       "</style>\n",
       "<table border=\"1\" class=\"dataframe\">\n",
       "  <thead>\n",
       "    <tr style=\"text-align: right;\">\n",
       "      <th></th>\n",
       "      <th>actual_load</th>\n",
       "      <th>pca1</th>\n",
       "      <th>pca2</th>\n",
       "      <th>mon</th>\n",
       "      <th>tue</th>\n",
       "      <th>wed</th>\n",
       "      <th>thur</th>\n",
       "      <th>fri</th>\n",
       "      <th>sat</th>\n",
       "      <th>sun</th>\n",
       "    </tr>\n",
       "  </thead>\n",
       "  <tbody>\n",
       "    <tr>\n",
       "      <td>2015-01-01</td>\n",
       "      <td>25385.0</td>\n",
       "      <td>0.000932</td>\n",
       "      <td>0.051902</td>\n",
       "      <td>0.0</td>\n",
       "      <td>0.0</td>\n",
       "      <td>0.0</td>\n",
       "      <td>1.0</td>\n",
       "      <td>0.0</td>\n",
       "      <td>0.0</td>\n",
       "      <td>0.0</td>\n",
       "    </tr>\n",
       "    <tr>\n",
       "      <td>2015-01-02</td>\n",
       "      <td>27070.0</td>\n",
       "      <td>0.000951</td>\n",
       "      <td>0.071115</td>\n",
       "      <td>0.0</td>\n",
       "      <td>0.0</td>\n",
       "      <td>0.0</td>\n",
       "      <td>0.0</td>\n",
       "      <td>1.0</td>\n",
       "      <td>0.0</td>\n",
       "      <td>0.0</td>\n",
       "    </tr>\n",
       "    <tr>\n",
       "      <td>2015-01-03</td>\n",
       "      <td>25564.0</td>\n",
       "      <td>0.001038</td>\n",
       "      <td>0.119969</td>\n",
       "      <td>0.0</td>\n",
       "      <td>0.0</td>\n",
       "      <td>0.0</td>\n",
       "      <td>0.0</td>\n",
       "      <td>0.0</td>\n",
       "      <td>1.0</td>\n",
       "      <td>0.0</td>\n",
       "    </tr>\n",
       "    <tr>\n",
       "      <td>2015-01-04</td>\n",
       "      <td>25254.0</td>\n",
       "      <td>0.000936</td>\n",
       "      <td>0.124913</td>\n",
       "      <td>0.0</td>\n",
       "      <td>0.0</td>\n",
       "      <td>0.0</td>\n",
       "      <td>0.0</td>\n",
       "      <td>0.0</td>\n",
       "      <td>0.0</td>\n",
       "      <td>1.0</td>\n",
       "    </tr>\n",
       "    <tr>\n",
       "      <td>2015-01-05</td>\n",
       "      <td>25069.0</td>\n",
       "      <td>0.001006</td>\n",
       "      <td>0.141094</td>\n",
       "      <td>1.0</td>\n",
       "      <td>0.0</td>\n",
       "      <td>0.0</td>\n",
       "      <td>0.0</td>\n",
       "      <td>0.0</td>\n",
       "      <td>0.0</td>\n",
       "      <td>0.0</td>\n",
       "    </tr>\n",
       "  </tbody>\n",
       "</table>\n",
       "</div>"
      ],
      "text/plain": [
       "            actual_load      pca1      pca2  mon  tue  wed  thur  fri  sat  \\\n",
       "2015-01-01      25385.0  0.000932  0.051902  0.0  0.0  0.0   1.0  0.0  0.0   \n",
       "2015-01-02      27070.0  0.000951  0.071115  0.0  0.0  0.0   0.0  1.0  0.0   \n",
       "2015-01-03      25564.0  0.001038  0.119969  0.0  0.0  0.0   0.0  0.0  1.0   \n",
       "2015-01-04      25254.0  0.000936  0.124913  0.0  0.0  0.0   0.0  0.0  0.0   \n",
       "2015-01-05      25069.0  0.001006  0.141094  1.0  0.0  0.0   0.0  0.0  0.0   \n",
       "\n",
       "            sun  \n",
       "2015-01-01  0.0  \n",
       "2015-01-02  0.0  \n",
       "2015-01-03  0.0  \n",
       "2015-01-04  1.0  \n",
       "2015-01-05  0.0  "
      ]
     },
     "execution_count": 247,
     "metadata": {},
     "output_type": "execute_result"
    }
   ],
   "source": [
    "hours[1]"
   ]
  },
  {
   "cell_type": "code",
   "execution_count": 248,
   "metadata": {},
   "outputs": [
    {
     "ename": "AttributeError",
     "evalue": "'list' object has no attribute 'shape'",
     "output_type": "error",
     "traceback": [
      "\u001b[0;31m---------------------------------------------------------------------------\u001b[0m",
      "\u001b[0;31mAttributeError\u001b[0m                            Traceback (most recent call last)",
      "\u001b[0;32m<ipython-input-248-239fd06730f3>\u001b[0m in \u001b[0;36m<module>\u001b[0;34m\u001b[0m\n\u001b[0;32m----> 1\u001b[0;31m \u001b[0mhours\u001b[0m\u001b[0;34m.\u001b[0m\u001b[0mshape\u001b[0m\u001b[0;34m\u001b[0m\u001b[0;34m\u001b[0m\u001b[0m\n\u001b[0m",
      "\u001b[0;31mAttributeError\u001b[0m: 'list' object has no attribute 'shape'"
     ]
    }
   ],
   "source": [
    "hours.shape"
   ]
  },
  {
   "cell_type": "code",
   "execution_count": null,
   "metadata": {},
   "outputs": [],
   "source": [
    "#reshape so each stack is 3D\n",
    "\n",
    "for hour in hours:\n",
    "hours_3d = np.reshape(hours.values, (hours.shape[0], hours.shape[1], 1))\n",
    "    \n",
    "\n"
   ]
  },
  {
   "cell_type": "code",
   "execution_count": 321,
   "metadata": {},
   "outputs": [
    {
     "data": {
      "text/html": [
       "<div>\n",
       "<style scoped>\n",
       "    .dataframe tbody tr th:only-of-type {\n",
       "        vertical-align: middle;\n",
       "    }\n",
       "\n",
       "    .dataframe tbody tr th {\n",
       "        vertical-align: top;\n",
       "    }\n",
       "\n",
       "    .dataframe thead th {\n",
       "        text-align: right;\n",
       "    }\n",
       "</style>\n",
       "<table border=\"1\" class=\"dataframe\">\n",
       "  <thead>\n",
       "    <tr style=\"text-align: right;\">\n",
       "      <th></th>\n",
       "      <th>actual_load</th>\n",
       "      <th>pca1</th>\n",
       "      <th>pca2</th>\n",
       "      <th>mon</th>\n",
       "      <th>tue</th>\n",
       "      <th>wed</th>\n",
       "      <th>thur</th>\n",
       "      <th>fri</th>\n",
       "      <th>sat</th>\n",
       "      <th>sun</th>\n",
       "      <th>year</th>\n",
       "      <th>month</th>\n",
       "      <th>day</th>\n",
       "      <th>hours</th>\n",
       "    </tr>\n",
       "  </thead>\n",
       "  <tbody>\n",
       "    <tr>\n",
       "      <td>2015-01-01</td>\n",
       "      <td>25385.0</td>\n",
       "      <td>0.000932</td>\n",
       "      <td>0.051902</td>\n",
       "      <td>0.0</td>\n",
       "      <td>0.0</td>\n",
       "      <td>0.0</td>\n",
       "      <td>1.0</td>\n",
       "      <td>0.0</td>\n",
       "      <td>0.0</td>\n",
       "      <td>0.0</td>\n",
       "      <td>2015</td>\n",
       "      <td>1</td>\n",
       "      <td>1</td>\n",
       "      <td>0</td>\n",
       "    </tr>\n",
       "    <tr>\n",
       "      <td>2015-01-02</td>\n",
       "      <td>27070.0</td>\n",
       "      <td>0.000951</td>\n",
       "      <td>0.071115</td>\n",
       "      <td>0.0</td>\n",
       "      <td>0.0</td>\n",
       "      <td>0.0</td>\n",
       "      <td>0.0</td>\n",
       "      <td>1.0</td>\n",
       "      <td>0.0</td>\n",
       "      <td>0.0</td>\n",
       "      <td>2015</td>\n",
       "      <td>1</td>\n",
       "      <td>2</td>\n",
       "      <td>0</td>\n",
       "    </tr>\n",
       "    <tr>\n",
       "      <td>2015-01-03</td>\n",
       "      <td>25564.0</td>\n",
       "      <td>0.001038</td>\n",
       "      <td>0.119969</td>\n",
       "      <td>0.0</td>\n",
       "      <td>0.0</td>\n",
       "      <td>0.0</td>\n",
       "      <td>0.0</td>\n",
       "      <td>0.0</td>\n",
       "      <td>1.0</td>\n",
       "      <td>0.0</td>\n",
       "      <td>2015</td>\n",
       "      <td>1</td>\n",
       "      <td>3</td>\n",
       "      <td>0</td>\n",
       "    </tr>\n",
       "    <tr>\n",
       "      <td>2015-01-04</td>\n",
       "      <td>25254.0</td>\n",
       "      <td>0.000936</td>\n",
       "      <td>0.124913</td>\n",
       "      <td>0.0</td>\n",
       "      <td>0.0</td>\n",
       "      <td>0.0</td>\n",
       "      <td>0.0</td>\n",
       "      <td>0.0</td>\n",
       "      <td>0.0</td>\n",
       "      <td>1.0</td>\n",
       "      <td>2015</td>\n",
       "      <td>1</td>\n",
       "      <td>4</td>\n",
       "      <td>0</td>\n",
       "    </tr>\n",
       "    <tr>\n",
       "      <td>2015-01-05</td>\n",
       "      <td>25069.0</td>\n",
       "      <td>0.001006</td>\n",
       "      <td>0.141094</td>\n",
       "      <td>1.0</td>\n",
       "      <td>0.0</td>\n",
       "      <td>0.0</td>\n",
       "      <td>0.0</td>\n",
       "      <td>0.0</td>\n",
       "      <td>0.0</td>\n",
       "      <td>0.0</td>\n",
       "      <td>2015</td>\n",
       "      <td>1</td>\n",
       "      <td>5</td>\n",
       "      <td>0</td>\n",
       "    </tr>\n",
       "  </tbody>\n",
       "</table>\n",
       "</div>"
      ],
      "text/plain": [
       "            actual_load      pca1      pca2  mon  tue  wed  thur  fri  sat  \\\n",
       "2015-01-01      25385.0  0.000932  0.051902  0.0  0.0  0.0   1.0  0.0  0.0   \n",
       "2015-01-02      27070.0  0.000951  0.071115  0.0  0.0  0.0   0.0  1.0  0.0   \n",
       "2015-01-03      25564.0  0.001038  0.119969  0.0  0.0  0.0   0.0  0.0  1.0   \n",
       "2015-01-04      25254.0  0.000936  0.124913  0.0  0.0  0.0   0.0  0.0  0.0   \n",
       "2015-01-05      25069.0  0.001006  0.141094  1.0  0.0  0.0   0.0  0.0  0.0   \n",
       "\n",
       "            sun  year  month  day  hours  \n",
       "2015-01-01  0.0  2015      1    1      0  \n",
       "2015-01-02  0.0  2015      1    2      0  \n",
       "2015-01-03  0.0  2015      1    3      0  \n",
       "2015-01-04  1.0  2015      1    4      0  \n",
       "2015-01-05  0.0  2015      1    5      0  "
      ]
     },
     "execution_count": 321,
     "metadata": {},
     "output_type": "execute_result"
    }
   ],
   "source": [
    "data[data.hours==0]"
   ]
  },
  {
   "cell_type": "code",
   "execution_count": 316,
   "metadata": {},
   "outputs": [],
   "source": [
    "hours_tup = [] \n",
    "\n",
    "for h in data.hours.unique():\n",
    "    hour = data[data.hours==h].copy()\n",
    "    hour.drop(['year', 'month', 'day', 'hours'], axis=1, inplace=True)\n",
    "    hour = np.reshape(hour.values, (hour.shape[0], hour.shape[1], 1))\n",
    "    \n",
    "    hours_tup.append(hour)"
   ]
  },
  {
   "cell_type": "code",
   "execution_count": 320,
   "metadata": {},
   "outputs": [
    {
     "data": {
      "text/plain": [
       "array([[[2.53850000e+04],\n",
       "        [9.31802143e-04],\n",
       "        [5.19024480e-02],\n",
       "        [0.00000000e+00],\n",
       "        [0.00000000e+00],\n",
       "        [0.00000000e+00],\n",
       "        [1.00000000e+00],\n",
       "        [0.00000000e+00],\n",
       "        [0.00000000e+00],\n",
       "        [0.00000000e+00]],\n",
       "\n",
       "       [[2.70700000e+04],\n",
       "        [9.51295989e-04],\n",
       "        [7.11146036e-02],\n",
       "        [0.00000000e+00],\n",
       "        [0.00000000e+00],\n",
       "        [0.00000000e+00],\n",
       "        [0.00000000e+00],\n",
       "        [1.00000000e+00],\n",
       "        [0.00000000e+00],\n",
       "        [0.00000000e+00]],\n",
       "\n",
       "       [[2.55640000e+04],\n",
       "        [1.03769440e-03],\n",
       "        [1.19968967e-01],\n",
       "        [0.00000000e+00],\n",
       "        [0.00000000e+00],\n",
       "        [0.00000000e+00],\n",
       "        [0.00000000e+00],\n",
       "        [0.00000000e+00],\n",
       "        [1.00000000e+00],\n",
       "        [0.00000000e+00]],\n",
       "\n",
       "       [[2.52540000e+04],\n",
       "        [9.36364229e-04],\n",
       "        [1.24912660e-01],\n",
       "        [0.00000000e+00],\n",
       "        [0.00000000e+00],\n",
       "        [0.00000000e+00],\n",
       "        [0.00000000e+00],\n",
       "        [0.00000000e+00],\n",
       "        [0.00000000e+00],\n",
       "        [1.00000000e+00]],\n",
       "\n",
       "       [[2.50690000e+04],\n",
       "        [1.00602597e-03],\n",
       "        [1.41094165e-01],\n",
       "        [1.00000000e+00],\n",
       "        [0.00000000e+00],\n",
       "        [0.00000000e+00],\n",
       "        [0.00000000e+00],\n",
       "        [0.00000000e+00],\n",
       "        [0.00000000e+00],\n",
       "        [0.00000000e+00]]])"
      ]
     },
     "execution_count": 320,
     "metadata": {},
     "output_type": "execute_result"
    }
   ],
   "source": [
    "hours_tup[0]"
   ]
  },
  {
   "cell_type": "code",
   "execution_count": null,
   "metadata": {},
   "outputs": [],
   "source": []
  },
  {
   "cell_type": "code",
   "execution_count": null,
   "metadata": {},
   "outputs": [],
   "source": []
  },
  {
   "cell_type": "code",
   "execution_count": null,
   "metadata": {},
   "outputs": [],
   "source": []
  },
  {
   "cell_type": "code",
   "execution_count": 255,
   "metadata": {},
   "outputs": [],
   "source": [
    "tup = tuple(hours_tup)\n",
    "\n",
    "hours_stacked = np.dstack(tup)"
   ]
  },
  {
   "cell_type": "code",
   "execution_count": 253,
   "metadata": {},
   "outputs": [
    {
     "data": {
      "text/plain": [
       "(5, 10, 1)"
      ]
     },
     "execution_count": 253,
     "metadata": {},
     "output_type": "execute_result"
    }
   ],
   "source": [
    "#5 days, 10 features, 1 hour\n",
    "hours[0].shape"
   ]
  },
  {
   "cell_type": "code",
   "execution_count": 256,
   "metadata": {},
   "outputs": [
    {
     "data": {
      "text/plain": [
       "(5, 10, 24)"
      ]
     },
     "execution_count": 256,
     "metadata": {},
     "output_type": "execute_result"
    }
   ],
   "source": [
    "#5days, 10 features, 24 hours\n",
    "hours_stacked.shape"
   ]
  },
  {
   "cell_type": "code",
   "execution_count": 257,
   "metadata": {},
   "outputs": [],
   "source": [
    "flat_hours = hours_stacked.reshape(-1, hours_stacked.shape[-1])"
   ]
  },
  {
   "cell_type": "code",
   "execution_count": 258,
   "metadata": {},
   "outputs": [
    {
     "data": {
      "text/plain": [
       "(50, 24)"
      ]
     },
     "execution_count": 258,
     "metadata": {},
     "output_type": "execute_result"
    }
   ],
   "source": [
    "flat_hours.shape"
   ]
  },
  {
   "cell_type": "code",
   "execution_count": 265,
   "metadata": {},
   "outputs": [
    {
     "data": {
      "text/plain": [
       "array([2.53850000e+04, 9.31802143e-04, 5.19024480e-02, 0.00000000e+00,\n",
       "       0.00000000e+00, 0.00000000e+00, 1.00000000e+00, 0.00000000e+00,\n",
       "       0.00000000e+00, 0.00000000e+00])"
      ]
     },
     "execution_count": 265,
     "metadata": {},
     "output_type": "execute_result"
    }
   ],
   "source": [
    "flat_hours[:10,0]"
   ]
  },
  {
   "cell_type": "code",
   "execution_count": 485,
   "metadata": {},
   "outputs": [],
   "source": [
    "#make samples from hours stacked\n",
    "\n",
    "n_steps=7\n",
    "\n",
    "X, y= split_sequences(hours_stacked, n_steps, extra_lag=False, long_lag_step=7, max_step=30, idx=0, multivar=False)"
   ]
  },
  {
   "cell_type": "code",
   "execution_count": 486,
   "metadata": {},
   "outputs": [
    {
     "data": {
      "text/plain": [
       "(0,)"
      ]
     },
     "execution_count": 486,
     "metadata": {},
     "output_type": "execute_result"
    }
   ],
   "source": [
    "#3 samples, 2 lags, 10 features, 24 hours\n",
    "X.shape"
   ]
  },
  {
   "cell_type": "code",
   "execution_count": 272,
   "metadata": {},
   "outputs": [
    {
     "data": {
      "text/plain": [
       "(3, 20, 24)"
      ]
     },
     "execution_count": 272,
     "metadata": {},
     "output_type": "execute_result"
    }
   ],
   "source": [
    "new = []\n",
    "\n",
    "for j in range(len(X)):\n",
    "    n = X[j].reshape(-1, hours_stacked.shape[-1])\n",
    "    new.append(n)\n",
    "new = np.array(new)\n",
    "\n",
    "#3 samples, 20 lags*features, 24 hours\n",
    "new.shape"
   ]
  },
  {
   "cell_type": "code",
   "execution_count": 353,
   "metadata": {},
   "outputs": [],
   "source": [
    "X, y, scaler_loads = get_lstm_multivariable_data_3d(start='2015-01-01', stop='2015-01-05', n_lags=2)"
   ]
  },
  {
   "cell_type": "code",
   "execution_count": 354,
   "metadata": {},
   "outputs": [
    {
     "data": {
      "text/plain": [
       "(3, 20, 24)"
      ]
     },
     "execution_count": 354,
     "metadata": {},
     "output_type": "execute_result"
    }
   ],
   "source": [
    "X.shape"
   ]
  },
  {
   "cell_type": "code",
   "execution_count": 355,
   "metadata": {},
   "outputs": [
    {
     "data": {
      "text/plain": [
       "(3, 24)"
      ]
     },
     "execution_count": 355,
     "metadata": {},
     "output_type": "execute_result"
    }
   ],
   "source": [
    "y.shape"
   ]
  },
  {
   "cell_type": "code",
   "execution_count": 356,
   "metadata": {},
   "outputs": [
    {
     "data": {
      "text/plain": [
       "array([0.41117489, 0.26731091, 0.16631548, 0.10106808, 0.09009664,\n",
       "       0.10252125, 0.12853302, 0.16144736, 0.2071496 , 0.34505558,\n",
       "       0.47584102, 0.5125336 , 0.49487757, 0.50112621, 0.47308   ,\n",
       "       0.39649786, 0.35348398, 0.33393882, 0.36961418, 0.58555547,\n",
       "       0.71125481, 0.72433336, 0.65930393, 0.50555838])"
      ]
     },
     "execution_count": 356,
     "metadata": {},
     "output_type": "execute_result"
    }
   ],
   "source": [
    "y[0]"
   ]
  },
  {
   "cell_type": "code",
   "execution_count": null,
   "metadata": {},
   "outputs": [],
   "source": [
    "n, scaler = normalize_df() \n",
    "n.head(3)"
   ]
  },
  {
   "cell_type": "code",
   "execution_count": null,
   "metadata": {},
   "outputs": [],
   "source": []
  },
  {
   "cell_type": "code",
   "execution_count": 305,
   "metadata": {},
   "outputs": [
    {
     "name": "stdout",
     "output_type": "stream",
     "text": [
      "25564.0\n",
      "25254.0\n",
      "25069.0\n"
     ]
    }
   ],
   "source": []
  },
  {
   "cell_type": "code",
   "execution_count": 503,
   "metadata": {},
   "outputs": [],
   "source": [
    "#work with a subset\n",
    "all_data = all_data['2015-01-01': '2015-01-05']\n",
    "\n",
    "def get_lstm_multivariable_data_3d(start='2015-01-01', stop='2015-01-05', n_lags=2):\n",
    "\n",
    "    #load in the prepared dataset\n",
    "    all_data = pd.read_csv('./data/lstm/nn_dataset_2015_2018.csv', parse_dates=True, index_col=0)\n",
    "\n",
    "    #select data time slice\n",
    "    data = all_data[start: stop].copy()\n",
    "    \n",
    "    #reshape the energy load columns to prepare for minmax scaling\n",
    "    energy = data['actual_load'].values.reshape(-1,1)\n",
    "    \n",
    "    #minmax scale the energy column\n",
    "    scaler = MinMaxScaler().fit(energy)\n",
    "    data_normd = scaler.transform(energy)\n",
    "    \n",
    "    #reset the energy column to the actual loads\n",
    "    data['actual_load'] = data_normd.copy()\n",
    "    \n",
    "    #create single columns with time features\n",
    "    data.loc[:,'year'] = data.index.year\n",
    "    data.loc[:,'month'] = data.index.month\n",
    "    data.loc[:,'day'] = data.index.day\n",
    "    data.loc[:,'hours'] = data.index.hour\n",
    "    \n",
    "    hours_tup = [] \n",
    "\n",
    "    #for each unique hour isolate the features and dates\n",
    "    for h in data.hours.unique():\n",
    "        \n",
    "        #boolean mask for each hour of the day\n",
    "        hour = data[data.hours==h].copy()\n",
    "        #drop the unneeded columns\n",
    "        hour.drop(['year', 'month', 'day', 'hours'], axis=1, inplace=True)\n",
    "        #reshape 2D into a 3D matrix for stacking\n",
    "        hour = np.reshape(hour.values, (hour.shape[0], hour.shape[1], 1))\n",
    "        #append each 3d slice into list\n",
    "        hours_tup.append(hour)\n",
    "    \n",
    "    \n",
    "    tup = tuple(hours_tup)\n",
    "    \n",
    "    #stack all the 3D arraysinto 1 single 3D array\n",
    "    hours_stacked = np.dstack(tup)\n",
    "    \n",
    "    #make samples from hours stacked. result is 4D and 2D\n",
    "    X_4d, y = split_sequences(hours_stacked, n_steps, extra_lag=False, long_lag_step=7, max_step=30, idx=0, multivar=True)\n",
    "    \n",
    "    \n",
    "    X = []\n",
    "\n",
    "    #flatten the 2nd and 3rd dimensions together to have a final array of samples, lags & features, hours\n",
    "    for j in range(len(X_4d)):\n",
    "        #reshape the inner dimensions\n",
    "        n = X_4d[j].reshape(-1, hours_stacked.shape[-1])\n",
    "        X.append(n)\n",
    "    \n",
    "    X = np.array(X)\n",
    "    \n",
    "    \n",
    "    return X, y, scaler"
   ]
  },
  {
   "cell_type": "code",
   "execution_count": 504,
   "metadata": {},
   "outputs": [],
   "source": [
    "X, y, scaler = get_lstm_multivariable_data_3d(start='2015-01-01', stop='2015-01-30', n_lags=7)"
   ]
  },
  {
   "cell_type": "code",
   "execution_count": 505,
   "metadata": {},
   "outputs": [
    {
     "data": {
      "text/plain": [
       "((23, 70, 24), (23, 24))"
      ]
     },
     "execution_count": 505,
     "metadata": {},
     "output_type": "execute_result"
    }
   ],
   "source": [
    "X.shape, y.shape"
   ]
  },
  {
   "cell_type": "code",
   "execution_count": 501,
   "metadata": {},
   "outputs": [
    {
     "data": {
      "text/plain": [
       "(23, 24)"
      ]
     },
     "execution_count": 501,
     "metadata": {},
     "output_type": "execute_result"
    }
   ],
   "source": [
    "y[:,0].shape"
   ]
  },
  {
   "cell_type": "code",
   "execution_count": 292,
   "metadata": {},
   "outputs": [],
   "source": [
    "def split_sequences(sequences, n_steps, idx=0, multivar=False):\n",
    "    \"\"\"\n",
    "    Function modified for use from Deep learning time series forecasting by Jason Brownlee\n",
    "    \"\"\"\n",
    "    \n",
    "    X, y = list(), list()\n",
    "    for i in range(len(sequences)):\n",
    "        # find the end of this pattern\n",
    "        end_ix = i + n_steps\n",
    "        \n",
    "        # check if we are beyond the dataset\n",
    "        if end_ix > len(sequences)-1:\n",
    "            break\n",
    "        # gather input and output parts of the pattern\n",
    "        seq_x = sequences[i:end_ix, :]\n",
    "        seq_y = sequences[end_ix, :]\n",
    "\n",
    "        X.append(seq_x)\n",
    "        y.append(seq_y)\n",
    "        \n",
    "    X = np.array(X)\n",
    "    y = np.array(y)\n",
    "    \n",
    "    if multivar:\n",
    "        #retun only the feature target in the indx column \n",
    "        y = y[:,idx]\n",
    "    \n",
    "    return X, y"
   ]
  },
  {
   "cell_type": "code",
   "execution_count": null,
   "metadata": {},
   "outputs": [],
   "source": []
  },
  {
   "cell_type": "code",
   "execution_count": null,
   "metadata": {},
   "outputs": [],
   "source": []
  },
  {
   "cell_type": "code",
   "execution_count": null,
   "metadata": {},
   "outputs": [],
   "source": []
  },
  {
   "cell_type": "code",
   "execution_count": null,
   "metadata": {},
   "outputs": [],
   "source": []
  },
  {
   "cell_type": "code",
   "execution_count": 224,
   "metadata": {},
   "outputs": [],
   "source": [
    "#work with a subset\n",
    "all_data = all_data['2015-01-01': '2015-01-05']\n",
    "\n",
    "def get_lstm_multivariable_data(start='2015-01-01', stop='2015-01-05', n_lags=2):\n",
    "\n",
    "    #load in the prepared dataset\n",
    "    all_data = pd.read_csv('./data/lstm/nn_dataset_2015_2018.csv', parse_dates=True, index_col=0)\n",
    "\n",
    "    #select data time slice\n",
    "    data = all_data[start: stop].copy()\n",
    "    \n",
    "    #list to store the windows of 2D feature data\n",
    "    windowed_data = []\n",
    "\n",
    "    #for each 2d feautre window \n",
    "    for col in data.columns:\n",
    "        #transform each column to row of dates, with columns as the hourly slices\n",
    "        window = transform_to_windows(data, load_type=col)\n",
    "\n",
    "        #if the column is actual load, we need to scale it, otherwise all columns are already scaled\n",
    "        if col == 'actual_load':\n",
    "            window, scaler = normalize_df(window)\n",
    "\n",
    "        #reshape each 2D feature window into 3D so it can be stacked\n",
    "        window = np.reshape(window.values, (window.shape[0], window.shape[1], 1))\n",
    "        \n",
    "        #append to list\n",
    "        windowed_data.append(window)\n",
    "        \n",
    "    #convert list of 2D feature windows to a numpy array\n",
    "    windowed_data = np.array(windowed_data)\n",
    "\n",
    "    tup = []\n",
    "\n",
    "    #make a list of each 2D dataslice to stack\n",
    "    for i in range(len(windowed_data)):\n",
    "        tup.append(windowed_data[i])\n",
    "\n",
    "    #tun into a tuple\n",
    "    tup = tuple(tup)\n",
    "\n",
    "    #stack up the 2d feature windows to a 3D array\n",
    "    windows_stacked = np.dstack(tup)\n",
    "\n",
    "    #split the 3D data into 4D slices of X and y. multivar True to select only the index value of the y array.\n",
    "    #indx is the location of the y target values.\n",
    "    X, y = split_sequences(windows_stacked, n_lags, idx=0, multivar=True)\n",
    "    \n",
    "    return X, y, scaler\n"
   ]
  },
  {
   "cell_type": "code",
   "execution_count": 226,
   "metadata": {},
   "outputs": [],
   "source": [
    "X, y, scaler = get_lstm_multivariable_data(start='2015-01-01', stop='2015-01-05')"
   ]
  },
  {
   "cell_type": "code",
   "execution_count": 227,
   "metadata": {},
   "outputs": [
    {
     "data": {
      "text/plain": [
       "((3, 2, 24, 10), (3, 24))"
      ]
     },
     "execution_count": 227,
     "metadata": {},
     "output_type": "execute_result"
    }
   ],
   "source": [
    "X.shape, y.shape"
   ]
  },
  {
   "cell_type": "code",
   "execution_count": 223,
   "metadata": {},
   "outputs": [
    {
     "data": {
      "text/plain": [
       "array([[[0.24737631],\n",
       "        [0.12556634],\n",
       "        [0.1680261 ],\n",
       "        [0.08394698],\n",
       "        [0.4808952 ],\n",
       "        [0.61615721],\n",
       "        [0.41341615],\n",
       "        [0.31608943],\n",
       "        [0.32376551],\n",
       "        [0.43502274],\n",
       "        [0.50437912],\n",
       "        [0.47224913],\n",
       "        [0.40036259],\n",
       "        [0.46074933],\n",
       "        [0.52126758],\n",
       "        [0.45238998],\n",
       "        [0.39264251],\n",
       "        [0.39773732],\n",
       "        [0.43370127],\n",
       "        [0.59643109],\n",
       "        [0.65680246],\n",
       "        [0.52951389],\n",
       "        [0.51071682],\n",
       "        [0.51691314]],\n",
       "\n",
       "       [[0.09245377],\n",
       "        [0.14886731],\n",
       "        [0.5040783 ],\n",
       "        [0.74300442],\n",
       "        [0.90884279],\n",
       "        [1.        ],\n",
       "        [1.        ],\n",
       "        [1.        ],\n",
       "        [1.        ],\n",
       "        [1.        ],\n",
       "        [1.        ],\n",
       "        [1.        ],\n",
       "        [1.        ],\n",
       "        [1.        ],\n",
       "        [0.9152686 ],\n",
       "        [1.        ],\n",
       "        [1.        ],\n",
       "        [1.        ],\n",
       "        [0.79488613],\n",
       "        [0.54138522],\n",
       "        [0.55207533],\n",
       "        [0.58804563],\n",
       "        [0.3987225 ],\n",
       "        [0.41611423]],\n",
       "\n",
       "       [[0.        ],\n",
       "        [0.        ],\n",
       "        [0.        ],\n",
       "        [0.        ],\n",
       "        [0.28056769],\n",
       "        [0.17641921],\n",
       "        [0.06012422],\n",
       "        [0.        ],\n",
       "        [0.08538069],\n",
       "        [0.19937189],\n",
       "        [0.19004199],\n",
       "        [0.12207612],\n",
       "        [0.        ],\n",
       "        [0.        ],\n",
       "        [0.        ],\n",
       "        [0.        ],\n",
       "        [0.        ],\n",
       "        [0.        ],\n",
       "        [0.        ],\n",
       "        [0.        ],\n",
       "        [0.        ],\n",
       "        [0.        ],\n",
       "        [0.        ],\n",
       "        [0.        ]]])"
      ]
     },
     "execution_count": 223,
     "metadata": {},
     "output_type": "execute_result"
    }
   ],
   "source": [
    "y"
   ]
  },
  {
   "cell_type": "code",
   "execution_count": 201,
   "metadata": {},
   "outputs": [
    {
     "data": {
      "text/plain": [
       "array([[[2.47376312e-01, 1.03769440e-03, 1.19968967e-01, 0.00000000e+00,\n",
       "         0.00000000e+00, 0.00000000e+00, 0.00000000e+00, 0.00000000e+00,\n",
       "         1.00000000e+00, 0.00000000e+00],\n",
       "        [1.25566343e-01, 9.54558913e-04, 1.00556206e-01, 0.00000000e+00,\n",
       "         0.00000000e+00, 0.00000000e+00, 0.00000000e+00, 0.00000000e+00,\n",
       "         1.00000000e+00, 0.00000000e+00],\n",
       "        [1.68026101e-01, 9.53887226e-04, 9.62076719e-02, 0.00000000e+00,\n",
       "         0.00000000e+00, 0.00000000e+00, 0.00000000e+00, 0.00000000e+00,\n",
       "         1.00000000e+00, 0.00000000e+00],\n",
       "        [8.39469809e-02, 9.53593813e-04, 8.00140870e-02, 0.00000000e+00,\n",
       "         0.00000000e+00, 0.00000000e+00, 0.00000000e+00, 0.00000000e+00,\n",
       "         1.00000000e+00, 0.00000000e+00],\n",
       "        [4.80895197e-01, 9.53593815e-04, 7.99217486e-02, 0.00000000e+00,\n",
       "         0.00000000e+00, 0.00000000e+00, 0.00000000e+00, 0.00000000e+00,\n",
       "         1.00000000e+00, 0.00000000e+00],\n",
       "        [6.16157205e-01, 9.52628302e-04, 7.99322091e-02, 0.00000000e+00,\n",
       "         0.00000000e+00, 0.00000000e+00, 0.00000000e+00, 0.00000000e+00,\n",
       "         1.00000000e+00, 0.00000000e+00],\n",
       "        [4.13416149e-01, 9.51636664e-04, 6.55494593e-02, 0.00000000e+00,\n",
       "         0.00000000e+00, 0.00000000e+00, 0.00000000e+00, 0.00000000e+00,\n",
       "         1.00000000e+00, 0.00000000e+00],\n",
       "        [3.16089434e-01, 9.51930385e-04, 6.65894879e-02, 0.00000000e+00,\n",
       "         0.00000000e+00, 0.00000000e+00, 0.00000000e+00, 0.00000000e+00,\n",
       "         1.00000000e+00, 0.00000000e+00],\n",
       "        [3.23765507e-01, 9.52308174e-04, 7.84204094e-02, 0.00000000e+00,\n",
       "         0.00000000e+00, 0.00000000e+00, 0.00000000e+00, 0.00000000e+00,\n",
       "         1.00000000e+00, 0.00000000e+00],\n",
       "        [4.35022742e-01, 9.53188498e-04, 1.23271394e-01, 0.00000000e+00,\n",
       "         0.00000000e+00, 0.00000000e+00, 0.00000000e+00, 0.00000000e+00,\n",
       "         1.00000000e+00, 0.00000000e+00],\n",
       "        [5.04379124e-01, 9.53188361e-04, 1.29946812e-01, 0.00000000e+00,\n",
       "         0.00000000e+00, 0.00000000e+00, 0.00000000e+00, 0.00000000e+00,\n",
       "         1.00000000e+00, 0.00000000e+00],\n",
       "        [4.72249135e-01, 9.52511837e-04, 3.60641576e-01, 0.00000000e+00,\n",
       "         0.00000000e+00, 0.00000000e+00, 0.00000000e+00, 0.00000000e+00,\n",
       "         1.00000000e+00, 0.00000000e+00],\n",
       "        [4.00362593e-01, 9.52511741e-04, 3.65314386e-01, 0.00000000e+00,\n",
       "         0.00000000e+00, 0.00000000e+00, 0.00000000e+00, 0.00000000e+00,\n",
       "         1.00000000e+00, 0.00000000e+00],\n",
       "        [4.60749331e-01, 9.52511775e-04, 3.63662777e-01, 0.00000000e+00,\n",
       "         0.00000000e+00, 0.00000000e+00, 0.00000000e+00, 0.00000000e+00,\n",
       "         1.00000000e+00, 0.00000000e+00],\n",
       "        [5.21267582e-01, 9.52511635e-04, 3.70443712e-01, 0.00000000e+00,\n",
       "         0.00000000e+00, 0.00000000e+00, 0.00000000e+00, 0.00000000e+00,\n",
       "         1.00000000e+00, 0.00000000e+00],\n",
       "        [4.52389985e-01, 9.42603009e-04, 4.38375293e-01, 0.00000000e+00,\n",
       "         0.00000000e+00, 0.00000000e+00, 0.00000000e+00, 0.00000000e+00,\n",
       "         1.00000000e+00, 0.00000000e+00],\n",
       "        [3.92642506e-01, 9.89553374e-04, 3.90888021e-01, 0.00000000e+00,\n",
       "         0.00000000e+00, 0.00000000e+00, 0.00000000e+00, 0.00000000e+00,\n",
       "         1.00000000e+00, 0.00000000e+00],\n",
       "        [3.97737317e-01, 1.12313562e-03, 3.83814202e-01, 0.00000000e+00,\n",
       "         0.00000000e+00, 0.00000000e+00, 0.00000000e+00, 0.00000000e+00,\n",
       "         1.00000000e+00, 0.00000000e+00],\n",
       "        [4.33701271e-01, 1.12489934e-03, 3.22328395e-01, 0.00000000e+00,\n",
       "         0.00000000e+00, 0.00000000e+00, 0.00000000e+00, 0.00000000e+00,\n",
       "         1.00000000e+00, 0.00000000e+00],\n",
       "        [5.96431092e-01, 9.42019118e-04, 2.63505985e-01, 0.00000000e+00,\n",
       "         0.00000000e+00, 0.00000000e+00, 0.00000000e+00, 0.00000000e+00,\n",
       "         1.00000000e+00, 0.00000000e+00],\n",
       "        [6.56802460e-01, 9.45604825e-04, 1.64338065e-01, 0.00000000e+00,\n",
       "         0.00000000e+00, 0.00000000e+00, 0.00000000e+00, 0.00000000e+00,\n",
       "         1.00000000e+00, 0.00000000e+00],\n",
       "        [5.29513889e-01, 9.38661677e-04, 1.52699420e-01, 0.00000000e+00,\n",
       "         0.00000000e+00, 0.00000000e+00, 0.00000000e+00, 0.00000000e+00,\n",
       "         1.00000000e+00, 0.00000000e+00],\n",
       "        [5.10716820e-01, 9.39653357e-04, 1.64084583e-01, 0.00000000e+00,\n",
       "         0.00000000e+00, 0.00000000e+00, 0.00000000e+00, 0.00000000e+00,\n",
       "         1.00000000e+00, 0.00000000e+00],\n",
       "        [5.16913140e-01, 9.36364119e-04, 1.30123169e-01, 0.00000000e+00,\n",
       "         0.00000000e+00, 0.00000000e+00, 0.00000000e+00, 0.00000000e+00,\n",
       "         1.00000000e+00, 0.00000000e+00]],\n",
       "\n",
       "       [[9.24537731e-02, 9.36364229e-04, 1.24912660e-01, 0.00000000e+00,\n",
       "         0.00000000e+00, 0.00000000e+00, 0.00000000e+00, 0.00000000e+00,\n",
       "         0.00000000e+00, 1.00000000e+00],\n",
       "        [1.48867314e-01, 9.35372225e-04, 1.28781664e-01, 0.00000000e+00,\n",
       "         0.00000000e+00, 0.00000000e+00, 0.00000000e+00, 0.00000000e+00,\n",
       "         0.00000000e+00, 1.00000000e+00],\n",
       "        [5.04078303e-01, 9.31410756e-04, 1.19788193e-01, 0.00000000e+00,\n",
       "         0.00000000e+00, 0.00000000e+00, 0.00000000e+00, 0.00000000e+00,\n",
       "         0.00000000e+00, 1.00000000e+00],\n",
       "        [7.43004418e-01, 9.32108918e-04, 1.20613819e-01, 0.00000000e+00,\n",
       "         0.00000000e+00, 0.00000000e+00, 0.00000000e+00, 0.00000000e+00,\n",
       "         0.00000000e+00, 1.00000000e+00],\n",
       "        [9.08842795e-01, 9.31117046e-04, 1.18213846e-01, 0.00000000e+00,\n",
       "         0.00000000e+00, 0.00000000e+00, 0.00000000e+00, 0.00000000e+00,\n",
       "         0.00000000e+00, 1.00000000e+00],\n",
       "        [1.00000000e+00, 9.30529707e-04, 1.11396494e-01, 0.00000000e+00,\n",
       "         0.00000000e+00, 0.00000000e+00, 0.00000000e+00, 0.00000000e+00,\n",
       "         0.00000000e+00, 1.00000000e+00],\n",
       "        [1.00000000e+00, 9.30529767e-04, 1.08475625e-01, 0.00000000e+00,\n",
       "         0.00000000e+00, 0.00000000e+00, 0.00000000e+00, 0.00000000e+00,\n",
       "         0.00000000e+00, 1.00000000e+00],\n",
       "        [1.00000000e+00, 9.30529708e-04, 1.11346146e-01, 0.00000000e+00,\n",
       "         0.00000000e+00, 0.00000000e+00, 0.00000000e+00, 0.00000000e+00,\n",
       "         0.00000000e+00, 1.00000000e+00],\n",
       "        [1.00000000e+00, 9.31788693e-04, 1.24607409e-01, 0.00000000e+00,\n",
       "         0.00000000e+00, 0.00000000e+00, 0.00000000e+00, 0.00000000e+00,\n",
       "         0.00000000e+00, 1.00000000e+00],\n",
       "        [1.00000000e+00, 9.31787768e-04, 1.69016509e-01, 0.00000000e+00,\n",
       "         0.00000000e+00, 0.00000000e+00, 0.00000000e+00, 0.00000000e+00,\n",
       "         0.00000000e+00, 1.00000000e+00],\n",
       "        [1.00000000e+00, 9.32779386e-04, 1.83298293e-01, 0.00000000e+00,\n",
       "         0.00000000e+00, 0.00000000e+00, 0.00000000e+00, 0.00000000e+00,\n",
       "         0.00000000e+00, 1.00000000e+00],\n",
       "        [1.00000000e+00, 9.32779346e-04, 1.85212077e-01, 0.00000000e+00,\n",
       "         0.00000000e+00, 0.00000000e+00, 0.00000000e+00, 0.00000000e+00,\n",
       "         0.00000000e+00, 1.00000000e+00],\n",
       "        [1.00000000e+00, 9.27821073e-04, 4.11634722e-01, 0.00000000e+00,\n",
       "         0.00000000e+00, 0.00000000e+00, 0.00000000e+00, 0.00000000e+00,\n",
       "         0.00000000e+00, 1.00000000e+00],\n",
       "        [1.00000000e+00, 9.27527263e-04, 4.14521964e-01, 0.00000000e+00,\n",
       "         0.00000000e+00, 0.00000000e+00, 0.00000000e+00, 0.00000000e+00,\n",
       "         0.00000000e+00, 1.00000000e+00],\n",
       "        [9.15268599e-01, 1.00999595e-03, 4.40973802e-01, 0.00000000e+00,\n",
       "         0.00000000e+00, 0.00000000e+00, 0.00000000e+00, 0.00000000e+00,\n",
       "         0.00000000e+00, 1.00000000e+00],\n",
       "        [1.00000000e+00, 9.19870288e-04, 4.59954776e-01, 0.00000000e+00,\n",
       "         0.00000000e+00, 0.00000000e+00, 0.00000000e+00, 0.00000000e+00,\n",
       "         0.00000000e+00, 1.00000000e+00],\n",
       "        [1.00000000e+00, 9.19870346e-04, 4.56741493e-01, 0.00000000e+00,\n",
       "         0.00000000e+00, 0.00000000e+00, 0.00000000e+00, 0.00000000e+00,\n",
       "         0.00000000e+00, 1.00000000e+00],\n",
       "        [1.00000000e+00, 9.19578300e-04, 3.74543915e-01, 0.00000000e+00,\n",
       "         0.00000000e+00, 0.00000000e+00, 0.00000000e+00, 0.00000000e+00,\n",
       "         0.00000000e+00, 1.00000000e+00],\n",
       "        [7.94886125e-01, 9.20656270e-04, 2.89532341e-01, 0.00000000e+00,\n",
       "         0.00000000e+00, 0.00000000e+00, 0.00000000e+00, 0.00000000e+00,\n",
       "         0.00000000e+00, 1.00000000e+00],\n",
       "        [5.41385220e-01, 9.21244738e-04, 2.41763692e-01, 0.00000000e+00,\n",
       "         0.00000000e+00, 0.00000000e+00, 0.00000000e+00, 0.00000000e+00,\n",
       "         0.00000000e+00, 1.00000000e+00],\n",
       "        [5.52075327e-01, 9.22909409e-04, 1.94030405e-01, 0.00000000e+00,\n",
       "         0.00000000e+00, 0.00000000e+00, 0.00000000e+00, 0.00000000e+00,\n",
       "         0.00000000e+00, 1.00000000e+00],\n",
       "        [5.88045635e-01, 9.34970038e-04, 1.86078486e-01, 0.00000000e+00,\n",
       "         0.00000000e+00, 0.00000000e+00, 0.00000000e+00, 0.00000000e+00,\n",
       "         0.00000000e+00, 1.00000000e+00],\n",
       "        [3.98722498e-01, 9.22615785e-04, 1.88274379e-01, 0.00000000e+00,\n",
       "         0.00000000e+00, 0.00000000e+00, 0.00000000e+00, 0.00000000e+00,\n",
       "         0.00000000e+00, 1.00000000e+00],\n",
       "        [4.16114227e-01, 9.32693313e-04, 1.46073489e-01, 0.00000000e+00,\n",
       "         0.00000000e+00, 0.00000000e+00, 0.00000000e+00, 0.00000000e+00,\n",
       "         0.00000000e+00, 1.00000000e+00]],\n",
       "\n",
       "       [[0.00000000e+00, 1.00602597e-03, 1.41094165e-01, 1.00000000e+00,\n",
       "         0.00000000e+00, 0.00000000e+00, 0.00000000e+00, 0.00000000e+00,\n",
       "         0.00000000e+00, 0.00000000e+00],\n",
       "        [0.00000000e+00, 9.21331150e-04, 1.38845420e-01, 1.00000000e+00,\n",
       "         0.00000000e+00, 0.00000000e+00, 0.00000000e+00, 0.00000000e+00,\n",
       "         0.00000000e+00, 0.00000000e+00],\n",
       "        [0.00000000e+00, 9.20743781e-04, 1.33942711e-01, 1.00000000e+00,\n",
       "         0.00000000e+00, 0.00000000e+00, 0.00000000e+00, 0.00000000e+00,\n",
       "         0.00000000e+00, 0.00000000e+00],\n",
       "        [0.00000000e+00, 9.17747936e-04, 1.17707798e-01, 1.00000000e+00,\n",
       "         0.00000000e+00, 0.00000000e+00, 0.00000000e+00, 0.00000000e+00,\n",
       "         0.00000000e+00, 0.00000000e+00],\n",
       "        [2.80567686e-01, 9.16756033e-04, 1.17212330e-01, 1.00000000e+00,\n",
       "         0.00000000e+00, 0.00000000e+00, 0.00000000e+00, 0.00000000e+00,\n",
       "         0.00000000e+00, 0.00000000e+00],\n",
       "        [1.76419214e-01, 9.16377801e-04, 1.26544056e-01, 1.00000000e+00,\n",
       "         0.00000000e+00, 0.00000000e+00, 0.00000000e+00, 0.00000000e+00,\n",
       "         0.00000000e+00, 0.00000000e+00],\n",
       "        [6.01242236e-02, 9.16377977e-04, 1.18023158e-01, 1.00000000e+00,\n",
       "         0.00000000e+00, 0.00000000e+00, 0.00000000e+00, 0.00000000e+00,\n",
       "         0.00000000e+00, 0.00000000e+00],\n",
       "        [0.00000000e+00, 9.17076089e-04, 1.20851573e-01, 1.00000000e+00,\n",
       "         0.00000000e+00, 0.00000000e+00, 0.00000000e+00, 0.00000000e+00,\n",
       "         0.00000000e+00, 0.00000000e+00],\n",
       "        [8.53806860e-02, 9.17075913e-04, 1.29375640e-01, 1.00000000e+00,\n",
       "         0.00000000e+00, 0.00000000e+00, 0.00000000e+00, 0.00000000e+00,\n",
       "         0.00000000e+00, 0.00000000e+00],\n",
       "        [1.99371887e-01, 9.19777506e-04, 1.69932780e-01, 1.00000000e+00,\n",
       "         0.00000000e+00, 0.00000000e+00, 0.00000000e+00, 0.00000000e+00,\n",
       "         0.00000000e+00, 0.00000000e+00],\n",
       "        [1.90041992e-01, 9.16109322e-04, 1.81891826e-01, 1.00000000e+00,\n",
       "         0.00000000e+00, 0.00000000e+00, 0.00000000e+00, 0.00000000e+00,\n",
       "         0.00000000e+00, 0.00000000e+00],\n",
       "        [1.22076125e-01, 9.18810779e-04, 2.28990325e-01, 1.00000000e+00,\n",
       "         0.00000000e+00, 0.00000000e+00, 0.00000000e+00, 0.00000000e+00,\n",
       "         0.00000000e+00, 0.00000000e+00],\n",
       "        [0.00000000e+00, 9.15113478e-04, 3.72216938e-01, 1.00000000e+00,\n",
       "         0.00000000e+00, 0.00000000e+00, 0.00000000e+00, 0.00000000e+00,\n",
       "         0.00000000e+00, 0.00000000e+00],\n",
       "        [0.00000000e+00, 9.13827585e-04, 3.86079805e-01, 1.00000000e+00,\n",
       "         0.00000000e+00, 0.00000000e+00, 0.00000000e+00, 0.00000000e+00,\n",
       "         0.00000000e+00, 0.00000000e+00],\n",
       "        [0.00000000e+00, 9.05232010e-04, 4.05095190e-01, 1.00000000e+00,\n",
       "         0.00000000e+00, 0.00000000e+00, 0.00000000e+00, 0.00000000e+00,\n",
       "         0.00000000e+00, 0.00000000e+00],\n",
       "        [0.00000000e+00, 9.94729689e-04, 4.07653915e-01, 1.00000000e+00,\n",
       "         0.00000000e+00, 0.00000000e+00, 0.00000000e+00, 0.00000000e+00,\n",
       "         0.00000000e+00, 0.00000000e+00],\n",
       "        [0.00000000e+00, 9.77088616e-04, 3.42780933e-01, 1.00000000e+00,\n",
       "         0.00000000e+00, 0.00000000e+00, 0.00000000e+00, 0.00000000e+00,\n",
       "         0.00000000e+00, 0.00000000e+00],\n",
       "        [0.00000000e+00, 1.08522040e-03, 3.57912179e-01, 1.00000000e+00,\n",
       "         0.00000000e+00, 0.00000000e+00, 0.00000000e+00, 0.00000000e+00,\n",
       "         0.00000000e+00, 0.00000000e+00],\n",
       "        [0.00000000e+00, 1.08821765e-03, 3.05387346e-01, 1.00000000e+00,\n",
       "         0.00000000e+00, 0.00000000e+00, 0.00000000e+00, 0.00000000e+00,\n",
       "         0.00000000e+00, 0.00000000e+00],\n",
       "        [0.00000000e+00, 9.45715924e-04, 2.27453132e-01, 1.00000000e+00,\n",
       "         0.00000000e+00, 0.00000000e+00, 0.00000000e+00, 0.00000000e+00,\n",
       "         0.00000000e+00, 0.00000000e+00],\n",
       "        [0.00000000e+00, 9.00661392e-04, 1.65231703e-01, 1.00000000e+00,\n",
       "         0.00000000e+00, 0.00000000e+00, 0.00000000e+00, 0.00000000e+00,\n",
       "         0.00000000e+00, 0.00000000e+00],\n",
       "        [0.00000000e+00, 9.00661351e-04, 1.65484870e-01, 1.00000000e+00,\n",
       "         0.00000000e+00, 0.00000000e+00, 0.00000000e+00, 0.00000000e+00,\n",
       "         0.00000000e+00, 0.00000000e+00],\n",
       "        [0.00000000e+00, 8.99669438e-04, 1.67233935e-01, 1.00000000e+00,\n",
       "         0.00000000e+00, 0.00000000e+00, 0.00000000e+00, 0.00000000e+00,\n",
       "         0.00000000e+00, 0.00000000e+00],\n",
       "        [0.00000000e+00, 8.96295667e-04, 1.46322213e-01, 1.00000000e+00,\n",
       "         0.00000000e+00, 0.00000000e+00, 0.00000000e+00, 0.00000000e+00,\n",
       "         0.00000000e+00, 0.00000000e+00]]])"
      ]
     },
     "execution_count": 201,
     "metadata": {},
     "output_type": "execute_result"
    }
   ],
   "source": [
    "y"
   ]
  },
  {
   "cell_type": "code",
   "execution_count": 209,
   "metadata": {},
   "outputs": [
    {
     "data": {
      "text/plain": [
       "(3, 24, 10)"
      ]
     },
     "execution_count": 209,
     "metadata": {},
     "output_type": "execute_result"
    }
   ],
   "source": [
    "y.shape"
   ]
  },
  {
   "cell_type": "code",
   "execution_count": 215,
   "metadata": {},
   "outputs": [
    {
     "data": {
      "text/plain": [
       "array([[[0.24737631],\n",
       "        [0.12556634],\n",
       "        [0.1680261 ],\n",
       "        [0.08394698],\n",
       "        [0.4808952 ],\n",
       "        [0.61615721],\n",
       "        [0.41341615],\n",
       "        [0.31608943],\n",
       "        [0.32376551],\n",
       "        [0.43502274],\n",
       "        [0.50437912],\n",
       "        [0.47224913],\n",
       "        [0.40036259],\n",
       "        [0.46074933],\n",
       "        [0.52126758],\n",
       "        [0.45238998],\n",
       "        [0.39264251],\n",
       "        [0.39773732],\n",
       "        [0.43370127],\n",
       "        [0.59643109],\n",
       "        [0.65680246],\n",
       "        [0.52951389],\n",
       "        [0.51071682],\n",
       "        [0.51691314]],\n",
       "\n",
       "       [[0.09245377],\n",
       "        [0.14886731],\n",
       "        [0.5040783 ],\n",
       "        [0.74300442],\n",
       "        [0.90884279],\n",
       "        [1.        ],\n",
       "        [1.        ],\n",
       "        [1.        ],\n",
       "        [1.        ],\n",
       "        [1.        ],\n",
       "        [1.        ],\n",
       "        [1.        ],\n",
       "        [1.        ],\n",
       "        [1.        ],\n",
       "        [0.9152686 ],\n",
       "        [1.        ],\n",
       "        [1.        ],\n",
       "        [1.        ],\n",
       "        [0.79488613],\n",
       "        [0.54138522],\n",
       "        [0.55207533],\n",
       "        [0.58804563],\n",
       "        [0.3987225 ],\n",
       "        [0.41611423]],\n",
       "\n",
       "       [[0.        ],\n",
       "        [0.        ],\n",
       "        [0.        ],\n",
       "        [0.        ],\n",
       "        [0.28056769],\n",
       "        [0.17641921],\n",
       "        [0.06012422],\n",
       "        [0.        ],\n",
       "        [0.08538069],\n",
       "        [0.19937189],\n",
       "        [0.19004199],\n",
       "        [0.12207612],\n",
       "        [0.        ],\n",
       "        [0.        ],\n",
       "        [0.        ],\n",
       "        [0.        ],\n",
       "        [0.        ],\n",
       "        [0.        ],\n",
       "        [0.        ],\n",
       "        [0.        ],\n",
       "        [0.        ],\n",
       "        [0.        ],\n",
       "        [0.        ],\n",
       "        [0.        ]]])"
      ]
     },
     "execution_count": 215,
     "metadata": {},
     "output_type": "execute_result"
    }
   ],
   "source": [
    "np.dsplit(y,y.shape[-1])[0]"
   ]
  },
  {
   "cell_type": "code",
   "execution_count": null,
   "metadata": {},
   "outputs": [],
   "source": []
  },
  {
   "cell_type": "code",
   "execution_count": null,
   "metadata": {},
   "outputs": [],
   "source": []
  },
  {
   "cell_type": "code",
   "execution_count": 167,
   "metadata": {},
   "outputs": [
    {
     "data": {
      "text/plain": [
       "((3, 2, 24, 2), (3, 24, 1))"
      ]
     },
     "execution_count": 167,
     "metadata": {},
     "output_type": "execute_result"
    }
   ],
   "source": [
    "X.shape, y.shape"
   ]
  },
  {
   "cell_type": "code",
   "execution_count": 168,
   "metadata": {},
   "outputs": [
    {
     "data": {
      "text/plain": [
       "array([[0.24737631],\n",
       "       [0.12556634],\n",
       "       [0.1680261 ],\n",
       "       [0.08394698],\n",
       "       [0.4808952 ],\n",
       "       [0.61615721],\n",
       "       [0.41341615],\n",
       "       [0.31608943],\n",
       "       [0.32376551],\n",
       "       [0.43502274],\n",
       "       [0.50437912],\n",
       "       [0.47224913],\n",
       "       [0.40036259],\n",
       "       [0.46074933],\n",
       "       [0.52126758],\n",
       "       [0.45238998],\n",
       "       [0.39264251],\n",
       "       [0.39773732],\n",
       "       [0.43370127],\n",
       "       [0.59643109],\n",
       "       [0.65680246],\n",
       "       [0.52951389],\n",
       "       [0.51071682],\n",
       "       [0.51691314]])"
      ]
     },
     "execution_count": 168,
     "metadata": {},
     "output_type": "execute_result"
    }
   ],
   "source": [
    "y[0]"
   ]
  },
  {
   "cell_type": "code",
   "execution_count": null,
   "metadata": {},
   "outputs": [],
   "source": []
  },
  {
   "cell_type": "code",
   "execution_count": null,
   "metadata": {},
   "outputs": [],
   "source": []
  },
  {
   "cell_type": "code",
   "execution_count": null,
   "metadata": {},
   "outputs": [],
   "source": []
  },
  {
   "cell_type": "code",
   "execution_count": 165,
   "metadata": {},
   "outputs": [],
   "source": [
    "windowed_data = []\n",
    "\n",
    "for col in ['actual_load', 'pca1']:\n",
    "    window = transform_to_windows(all_data, load_type=col)\n",
    "    \n",
    "    if col == 'actual_load':\n",
    "        window, scaler = normalize_df(window)\n",
    "        \n",
    "    window = np.reshape(window.values, (window.shape[0], window.shape[1], 1))\n",
    "    \n",
    "    windowed_data.append(window)\n",
    "    \n",
    "windowed_data = np.array(windowed_data)\n",
    "\n"
   ]
  },
  {
   "cell_type": "code",
   "execution_count": null,
   "metadata": {},
   "outputs": [],
   "source": []
  },
  {
   "cell_type": "code",
   "execution_count": 164,
   "metadata": {},
   "outputs": [
    {
     "data": {
      "text/html": [
       "<div>\n",
       "<style scoped>\n",
       "    .dataframe tbody tr th:only-of-type {\n",
       "        vertical-align: middle;\n",
       "    }\n",
       "\n",
       "    .dataframe tbody tr th {\n",
       "        vertical-align: top;\n",
       "    }\n",
       "\n",
       "    .dataframe thead th {\n",
       "        text-align: right;\n",
       "    }\n",
       "</style>\n",
       "<table border=\"1\" class=\"dataframe\">\n",
       "  <thead>\n",
       "    <tr style=\"text-align: right;\">\n",
       "      <th>hours</th>\n",
       "      <th>0</th>\n",
       "      <th>1</th>\n",
       "      <th>2</th>\n",
       "      <th>3</th>\n",
       "      <th>4</th>\n",
       "      <th>5</th>\n",
       "      <th>6</th>\n",
       "      <th>7</th>\n",
       "      <th>8</th>\n",
       "      <th>9</th>\n",
       "      <th>...</th>\n",
       "      <th>14</th>\n",
       "      <th>15</th>\n",
       "      <th>16</th>\n",
       "      <th>17</th>\n",
       "      <th>18</th>\n",
       "      <th>19</th>\n",
       "      <th>20</th>\n",
       "      <th>21</th>\n",
       "      <th>22</th>\n",
       "      <th>23</th>\n",
       "    </tr>\n",
       "    <tr>\n",
       "      <th>date</th>\n",
       "      <th></th>\n",
       "      <th></th>\n",
       "      <th></th>\n",
       "      <th></th>\n",
       "      <th></th>\n",
       "      <th></th>\n",
       "      <th></th>\n",
       "      <th></th>\n",
       "      <th></th>\n",
       "      <th></th>\n",
       "      <th></th>\n",
       "      <th></th>\n",
       "      <th></th>\n",
       "      <th></th>\n",
       "      <th></th>\n",
       "      <th></th>\n",
       "      <th></th>\n",
       "      <th></th>\n",
       "      <th></th>\n",
       "      <th></th>\n",
       "      <th></th>\n",
       "    </tr>\n",
       "  </thead>\n",
       "  <tbody>\n",
       "    <tr>\n",
       "      <td>2015-01-01</td>\n",
       "      <td>0.368894</td>\n",
       "      <td>0.425675</td>\n",
       "      <td>0.394568</td>\n",
       "      <td>0.307336</td>\n",
       "      <td>0.235866</td>\n",
       "      <td>0.204723</td>\n",
       "      <td>0.156752</td>\n",
       "      <td>0.110786</td>\n",
       "      <td>0.080487</td>\n",
       "      <td>0.083461</td>\n",
       "      <td>...</td>\n",
       "      <td>0.112874</td>\n",
       "      <td>0.134571</td>\n",
       "      <td>0.131394</td>\n",
       "      <td>0.137901</td>\n",
       "      <td>0.287402</td>\n",
       "      <td>0.421270</td>\n",
       "      <td>0.349116</td>\n",
       "      <td>0.313648</td>\n",
       "      <td>0.380439</td>\n",
       "      <td>0.359445</td>\n",
       "    </tr>\n",
       "    <tr>\n",
       "      <td>2015-01-02</td>\n",
       "      <td>0.538958</td>\n",
       "      <td>0.482880</td>\n",
       "      <td>0.446714</td>\n",
       "      <td>0.449079</td>\n",
       "      <td>0.443012</td>\n",
       "      <td>0.442065</td>\n",
       "      <td>0.356664</td>\n",
       "      <td>0.275504</td>\n",
       "      <td>0.267323</td>\n",
       "      <td>0.339357</td>\n",
       "      <td>...</td>\n",
       "      <td>0.380364</td>\n",
       "      <td>0.373075</td>\n",
       "      <td>0.351187</td>\n",
       "      <td>0.330388</td>\n",
       "      <td>0.425037</td>\n",
       "      <td>0.598083</td>\n",
       "      <td>0.579727</td>\n",
       "      <td>0.586418</td>\n",
       "      <td>0.640055</td>\n",
       "      <td>0.637494</td>\n",
       "    </tr>\n",
       "    <tr>\n",
       "      <td>2015-01-03</td>\n",
       "      <td>0.386960</td>\n",
       "      <td>0.343126</td>\n",
       "      <td>0.335904</td>\n",
       "      <td>0.308466</td>\n",
       "      <td>0.335482</td>\n",
       "      <td>0.359692</td>\n",
       "      <td>0.303619</td>\n",
       "      <td>0.219644</td>\n",
       "      <td>0.218450</td>\n",
       "      <td>0.281255</td>\n",
       "      <td>...</td>\n",
       "      <td>0.214976</td>\n",
       "      <td>0.232977</td>\n",
       "      <td>0.217805</td>\n",
       "      <td>0.186416</td>\n",
       "      <td>0.210320</td>\n",
       "      <td>0.418761</td>\n",
       "      <td>0.385996</td>\n",
       "      <td>0.333822</td>\n",
       "      <td>0.376462</td>\n",
       "      <td>0.365662</td>\n",
       "    </tr>\n",
       "  </tbody>\n",
       "</table>\n",
       "<p>3 rows × 24 columns</p>\n",
       "</div>"
      ],
      "text/plain": [
       "hours             0         1         2         3         4         5   \\\n",
       "date                                                                     \n",
       "2015-01-01  0.368894  0.425675  0.394568  0.307336  0.235866  0.204723   \n",
       "2015-01-02  0.538958  0.482880  0.446714  0.449079  0.443012  0.442065   \n",
       "2015-01-03  0.386960  0.343126  0.335904  0.308466  0.335482  0.359692   \n",
       "\n",
       "hours             6         7         8         9   ...        14        15  \\\n",
       "date                                                ...                       \n",
       "2015-01-01  0.156752  0.110786  0.080487  0.083461  ...  0.112874  0.134571   \n",
       "2015-01-02  0.356664  0.275504  0.267323  0.339357  ...  0.380364  0.373075   \n",
       "2015-01-03  0.303619  0.219644  0.218450  0.281255  ...  0.214976  0.232977   \n",
       "\n",
       "hours             16        17        18        19        20        21  \\\n",
       "date                                                                     \n",
       "2015-01-01  0.131394  0.137901  0.287402  0.421270  0.349116  0.313648   \n",
       "2015-01-02  0.351187  0.330388  0.425037  0.598083  0.579727  0.586418   \n",
       "2015-01-03  0.217805  0.186416  0.210320  0.418761  0.385996  0.333822   \n",
       "\n",
       "hours             22        23  \n",
       "date                            \n",
       "2015-01-01  0.380439  0.359445  \n",
       "2015-01-02  0.640055  0.637494  \n",
       "2015-01-03  0.376462  0.365662  \n",
       "\n",
       "[3 rows x 24 columns]"
      ]
     },
     "execution_count": 164,
     "metadata": {},
     "output_type": "execute_result"
    }
   ],
   "source": [
    "load = transform_to_windows(all_data, load_type='actual_load')\n",
    "\n",
    "load_scaled, scaler = normalize_df(load)\n",
    "\n",
    "load_scaled.head(3)"
   ]
  },
  {
   "cell_type": "code",
   "execution_count": null,
   "metadata": {},
   "outputs": [],
   "source": []
  },
  {
   "cell_type": "code",
   "execution_count": 350,
   "metadata": {},
   "outputs": [],
   "source": [
    "def normalize_df(data):\n",
    "    \n",
    "    #normalize the dataset for working with the lstm nn\n",
    "    scaler = MinMaxScaler().fit(data.values)\n",
    "    data_normd = scaler.transform(data.values)\n",
    "\n",
    "    data = pd.DataFrame(data_normd, index=data.index, columns=data.columns)\n",
    "    \n",
    "    return data, scaler"
   ]
  },
  {
   "cell_type": "code",
   "execution_count": 339,
   "metadata": {},
   "outputs": [
    {
     "name": "stdout",
     "output_type": "stream",
     "text": [
      "yes\n"
     ]
    },
    {
     "data": {
      "text/plain": [
       "(                     actual_load      pca1      pca2  mon  tue  wed  thur  \\\n",
       " 2015-01-01 00:00:00     0.398169  0.145574  0.062729  0.0  0.0  0.0   1.0   \n",
       " 2015-01-01 01:00:00     0.325292  0.144370  0.063069  0.0  0.0  0.0   1.0   \n",
       " 2015-01-01 02:00:00     0.205551  0.152397  0.023148  0.0  0.0  0.0   1.0   \n",
       " 2015-01-01 03:00:00     0.100341  0.151192  0.022993  0.0  0.0  0.0   1.0   \n",
       " 2015-01-01 04:00:00     0.026084  0.151192  0.023895  0.0  0.0  0.0   1.0   \n",
       " ...                          ...       ...       ...  ...  ...  ...   ...   \n",
       " 2015-01-05 19:00:00     0.155707  0.202620  0.465958  1.0  0.0  0.0   0.0   \n",
       " 2015-01-05 20:00:00     0.214561  0.017899  0.323039  1.0  0.0  0.0   0.0   \n",
       " 2015-01-05 21:00:00     0.414081  0.017899  0.323621  1.0  0.0  0.0   0.0   \n",
       " 2015-01-05 22:00:00     0.397878  0.013832  0.327638  1.0  0.0  0.0   0.0   \n",
       " 2015-01-05 23:00:00     0.284604  0.000000  0.279606  1.0  0.0  0.0   0.0   \n",
       " \n",
       "                      fri  sat  sun  \n",
       " 2015-01-01 00:00:00  0.0  0.0  0.0  \n",
       " 2015-01-01 01:00:00  0.0  0.0  0.0  \n",
       " 2015-01-01 02:00:00  0.0  0.0  0.0  \n",
       " 2015-01-01 03:00:00  0.0  0.0  0.0  \n",
       " 2015-01-01 04:00:00  0.0  0.0  0.0  \n",
       " ...                  ...  ...  ...  \n",
       " 2015-01-05 19:00:00  0.0  0.0  0.0  \n",
       " 2015-01-05 20:00:00  0.0  0.0  0.0  \n",
       " 2015-01-05 21:00:00  0.0  0.0  0.0  \n",
       " 2015-01-05 22:00:00  0.0  0.0  0.0  \n",
       " 2015-01-05 23:00:00  0.0  0.0  0.0  \n",
       " \n",
       " [120 rows x 10 columns], MinMaxScaler(copy=True, feature_range=(0, 1)))"
      ]
     },
     "execution_count": 339,
     "metadata": {},
     "output_type": "execute_result"
    }
   ],
   "source": [
    "normalize_df(data)"
   ]
  },
  {
   "cell_type": "code",
   "execution_count": 156,
   "metadata": {},
   "outputs": [
    {
     "data": {
      "text/plain": [
       "(5, 24, 2)"
      ]
     },
     "execution_count": 156,
     "metadata": {},
     "output_type": "execute_result"
    }
   ],
   "source": [
    "np.dstack((windowed_data[0], windowed_data[1])).shape"
   ]
  },
  {
   "cell_type": "code",
   "execution_count": 155,
   "metadata": {},
   "outputs": [
    {
     "data": {
      "text/plain": [
       "(5, 24, 2)"
      ]
     },
     "execution_count": 155,
     "metadata": {},
     "output_type": "execute_result"
    }
   ],
   "source": [
    "windows_stacked.shape"
   ]
  },
  {
   "cell_type": "code",
   "execution_count": 61,
   "metadata": {},
   "outputs": [],
   "source": [
    "first_try = np.dstack((windowed_data[0], windowed_data[1]))"
   ]
  },
  {
   "cell_type": "code",
   "execution_count": 62,
   "metadata": {},
   "outputs": [
    {
     "data": {
      "text/plain": [
       "(5, 24, 2)"
      ]
     },
     "execution_count": 62,
     "metadata": {},
     "output_type": "execute_result"
    }
   ],
   "source": [
    "#(days, hour slices, features)\n",
    "first_try.shape"
   ]
  },
  {
   "cell_type": "code",
   "execution_count": 63,
   "metadata": {},
   "outputs": [
    {
     "data": {
      "text/plain": [
       "array([[[2.53850000e+04, 9.31802143e-04],\n",
       "        [2.43820000e+04, 9.31508398e-04],\n",
       "        [2.27340000e+04, 9.33466194e-04],\n",
       "        [2.12860000e+04, 9.33172453e-04],\n",
       "        [2.02640000e+04, 9.33172445e-04],\n",
       "        [1.99050000e+04, 9.38210531e-04],\n",
       "        [2.00100000e+04, 9.38210526e-04],\n",
       "        [2.03770000e+04, 9.38504227e-04],\n",
       "        [2.00940000e+04, 9.46746615e-04],\n",
       "        [2.06370000e+04, 9.46746585e-04],\n",
       "        [2.22500000e+04, 9.46746437e-04],\n",
       "        [2.35470000e+04, 9.48000747e-04],\n",
       "        [2.41330000e+04, 9.48000638e-04],\n",
       "        [2.47130000e+04, 9.48000681e-04],\n",
       "        [2.46720000e+04, 1.11685858e-03],\n",
       "        [2.35280000e+04, 1.11881738e-03],\n",
       "        [2.31180000e+04, 1.12030350e-03],\n",
       "        [2.36060000e+04, 1.12377364e-03],\n",
       "        [2.64470000e+04, 1.12706483e-03],\n",
       "        [2.80200000e+04, 1.01920696e-03],\n",
       "        [2.90140000e+04, 1.03752251e-03],\n",
       "        [2.95710000e+04, 9.48005308e-04],\n",
       "        [2.90310000e+04, 9.48005298e-04],\n",
       "        [2.67980000e+04, 9.51295985e-04]],\n",
       "\n",
       "       [[2.70700000e+04, 9.51295989e-04],\n",
       "        [2.49350000e+04, 9.51296015e-04],\n",
       "        [2.32140000e+04, 9.46930228e-04],\n",
       "        [2.25400000e+04, 9.46930248e-04],\n",
       "        [2.20960000e+04, 9.47223989e-04],\n",
       "        [2.20660000e+04, 9.51590348e-04],\n",
       "        [2.22750000e+04, 9.51590354e-04],\n",
       "        [2.30250000e+04, 9.51590314e-04],\n",
       "        [2.36990000e+04, 9.57130171e-04],\n",
       "        [2.58340000e+04, 9.57423888e-04],\n",
       "        [2.79270000e+04, 9.57423737e-04],\n",
       "        [2.90720000e+04, 9.57422316e-04],\n",
       "        [2.90710000e+04, 1.04928834e-03],\n",
       "        [2.94390000e+04, 9.57418873e-04],\n",
       "        [2.92410000e+04, 1.13871984e-03],\n",
       "        [2.79730000e+04, 1.13366719e-03],\n",
       "        [2.73200000e+04, 1.14020223e-03],\n",
       "        [2.71570000e+04, 1.13348511e-03],\n",
       "        [2.90450000e+04, 1.13348637e-03],\n",
       "        [3.19670000e+04, 9.50888001e-04],\n",
       "        [3.32660000e+04, 1.04734465e-03],\n",
       "        [3.36680000e+04, 9.55843621e-04],\n",
       "        [3.24260000e+04, 9.55549876e-04],\n",
       "        [2.97050000e+04, 9.55843745e-04]],\n",
       "\n",
       "       [[2.55640000e+04, 1.03769440e-03],\n",
       "        [2.35840000e+04, 9.54558913e-04],\n",
       "        [2.21940000e+04, 9.53887226e-04],\n",
       "        [2.12960000e+04, 9.53593813e-04],\n",
       "        [2.11450000e+04, 9.53593815e-04],\n",
       "        [2.13160000e+04, 9.52628302e-04],\n",
       "        [2.16740000e+04, 9.51636664e-04],\n",
       "        [2.21270000e+04, 9.51930385e-04],\n",
       "        [2.27560000e+04, 9.52308174e-04],\n",
       "        [2.46540000e+04, 9.53188498e-04],\n",
       "        [2.64540000e+04, 9.53188361e-04],\n",
       "        [2.69590000e+04, 9.52511837e-04],\n",
       "        [2.67160000e+04, 9.52511741e-04],\n",
       "        [2.68020000e+04, 9.52511775e-04],\n",
       "        [2.64160000e+04, 9.52511635e-04],\n",
       "        [2.53620000e+04, 9.42603009e-04],\n",
       "        [2.47700000e+04, 9.89553374e-04],\n",
       "        [2.45010000e+04, 1.12313562e-03],\n",
       "        [2.49920000e+04, 1.12489934e-03],\n",
       "        [2.79640000e+04, 9.42019118e-04],\n",
       "        [2.96940000e+04, 9.45604825e-04],\n",
       "        [2.98740000e+04, 9.38661677e-04],\n",
       "        [2.89790000e+04, 9.39653357e-04],\n",
       "        [2.68630000e+04, 9.36364119e-04]],\n",
       "\n",
       "       [[2.52540000e+04, 9.36364229e-04],\n",
       "        [2.36200000e+04, 9.35372225e-04],\n",
       "        [2.26060000e+04, 9.31410756e-04],\n",
       "        [2.21910000e+04, 9.32108918e-04],\n",
       "        [2.19290000e+04, 9.31117046e-04],\n",
       "        [2.21950000e+04, 9.30529707e-04],\n",
       "        [2.40350000e+04, 9.30529767e-04],\n",
       "        [2.68070000e+04, 9.30529708e-04],\n",
       "        [2.83160000e+04, 9.31788693e-04],\n",
       "        [2.98710000e+04, 9.31787768e-04],\n",
       "        [3.05850000e+04, 9.32779386e-04],\n",
       "        [3.07720000e+04, 9.32779346e-04],\n",
       "        [3.06850000e+04, 9.27821073e-04],\n",
       "        [3.04290000e+04, 9.27527263e-04],\n",
       "        [2.87410000e+04, 1.00999595e-03],\n",
       "        [2.82490000e+04, 9.19870288e-04],\n",
       "        [2.81050000e+04, 9.19870346e-04],\n",
       "        [2.79080000e+04, 9.19578300e-04],\n",
       "        [2.75770000e+04, 9.20656270e-04],\n",
       "        [2.74180000e+04, 9.21244738e-04],\n",
       "        [2.86040000e+04, 9.22909409e-04],\n",
       "        [3.03460000e+04, 9.34970038e-04],\n",
       "        [2.81900000e+04, 9.22615785e-04],\n",
       "        [2.62700000e+04, 9.32693313e-04]],\n",
       "\n",
       "       [[2.50690000e+04, 1.00602597e-03],\n",
       "        [2.33900000e+04, 9.21331150e-04],\n",
       "        [2.19880000e+04, 9.20743781e-04],\n",
       "        [2.11820000e+04, 9.17747936e-04],\n",
       "        [2.07780000e+04, 9.16756033e-04],\n",
       "        [2.03090000e+04, 9.16377801e-04],\n",
       "        [2.02520000e+04, 9.16377977e-04],\n",
       "        [1.99640000e+04, 9.17076089e-04],\n",
       "        [2.07960000e+04, 9.17075913e-04],\n",
       "        [2.24780000e+04, 9.19777506e-04],\n",
       "        [2.38340000e+04, 9.16109322e-04],\n",
       "        [2.44290000e+04, 9.18810779e-04],\n",
       "        [2.40660000e+04, 9.15113478e-04],\n",
       "        [2.37030000e+04, 9.13827585e-04],\n",
       "        [2.33400000e+04, 9.05232010e-04],\n",
       "        [2.29770000e+04, 9.94729689e-04],\n",
       "        [2.26140000e+04, 9.77088616e-04],\n",
       "        [2.22510000e+04, 1.08522040e-03],\n",
       "        [2.18880000e+04, 1.08821765e-03],\n",
       "        [2.20480000e+04, 9.45715924e-04],\n",
       "        [2.28580000e+04, 9.00661392e-04],\n",
       "        [2.56040000e+04, 9.00661351e-04],\n",
       "        [2.53810000e+04, 8.99669438e-04],\n",
       "        [2.38220000e+04, 8.96295667e-04]]])"
      ]
     },
     "execution_count": 63,
     "metadata": {},
     "output_type": "execute_result"
    }
   ],
   "source": [
    "first_try"
   ]
  },
  {
   "cell_type": "code",
   "execution_count": 150,
   "metadata": {},
   "outputs": [
    {
     "name": "stdout",
     "output_type": "stream",
     "text": [
      "(3, 24, 2)\n"
     ]
    }
   ],
   "source": [
    "X, y = modified_split_sequences(first_try, 2, idx=0)"
   ]
  },
  {
   "cell_type": "code",
   "execution_count": 106,
   "metadata": {},
   "outputs": [
    {
     "data": {
      "text/plain": [
       "(3, 2, 24, 2)"
      ]
     },
     "execution_count": 106,
     "metadata": {},
     "output_type": "execute_result"
    }
   ],
   "source": [
    "#(samples, lags, hourly slices, features)\n",
    "X.shape"
   ]
  },
  {
   "cell_type": "code",
   "execution_count": 91,
   "metadata": {},
   "outputs": [
    {
     "data": {
      "text/plain": [
       "array([[2.53850000e+04, 9.31802143e-04],\n",
       "       [2.43820000e+04, 9.31508398e-04],\n",
       "       [2.27340000e+04, 9.33466194e-04],\n",
       "       [2.12860000e+04, 9.33172453e-04],\n",
       "       [2.02640000e+04, 9.33172445e-04],\n",
       "       [1.99050000e+04, 9.38210531e-04],\n",
       "       [2.00100000e+04, 9.38210526e-04],\n",
       "       [2.03770000e+04, 9.38504227e-04],\n",
       "       [2.00940000e+04, 9.46746615e-04],\n",
       "       [2.06370000e+04, 9.46746585e-04],\n",
       "       [2.22500000e+04, 9.46746437e-04],\n",
       "       [2.35470000e+04, 9.48000747e-04],\n",
       "       [2.41330000e+04, 9.48000638e-04],\n",
       "       [2.47130000e+04, 9.48000681e-04],\n",
       "       [2.46720000e+04, 1.11685858e-03],\n",
       "       [2.35280000e+04, 1.11881738e-03],\n",
       "       [2.31180000e+04, 1.12030350e-03],\n",
       "       [2.36060000e+04, 1.12377364e-03],\n",
       "       [2.64470000e+04, 1.12706483e-03],\n",
       "       [2.80200000e+04, 1.01920696e-03],\n",
       "       [2.90140000e+04, 1.03752251e-03],\n",
       "       [2.95710000e+04, 9.48005308e-04],\n",
       "       [2.90310000e+04, 9.48005298e-04],\n",
       "       [2.67980000e+04, 9.51295985e-04]])"
      ]
     },
     "execution_count": 91,
     "metadata": {},
     "output_type": "execute_result"
    }
   ],
   "source": [
    "X[0][0]"
   ]
  },
  {
   "cell_type": "code",
   "execution_count": 151,
   "metadata": {},
   "outputs": [
    {
     "data": {
      "text/plain": [
       "(3, 24, 1)"
      ]
     },
     "execution_count": 151,
     "metadata": {},
     "output_type": "execute_result"
    }
   ],
   "source": [
    "y.shape"
   ]
  },
  {
   "cell_type": "code",
   "execution_count": 152,
   "metadata": {},
   "outputs": [
    {
     "data": {
      "text/plain": [
       "array([[25564.],\n",
       "       [23584.],\n",
       "       [22194.],\n",
       "       [21296.],\n",
       "       [21145.],\n",
       "       [21316.],\n",
       "       [21674.],\n",
       "       [22127.],\n",
       "       [22756.],\n",
       "       [24654.],\n",
       "       [26454.],\n",
       "       [26959.],\n",
       "       [26716.],\n",
       "       [26802.],\n",
       "       [26416.],\n",
       "       [25362.],\n",
       "       [24770.],\n",
       "       [24501.],\n",
       "       [24992.],\n",
       "       [27964.],\n",
       "       [29694.],\n",
       "       [29874.],\n",
       "       [28979.],\n",
       "       [26863.]])"
      ]
     },
     "execution_count": 152,
     "metadata": {},
     "output_type": "execute_result"
    }
   ],
   "source": [
    "y[0]"
   ]
  },
  {
   "cell_type": "code",
   "execution_count": 143,
   "metadata": {},
   "outputs": [
    {
     "data": {
      "text/plain": [
       "[array([[[25564.],\n",
       "         [23584.],\n",
       "         [22194.],\n",
       "         [21296.],\n",
       "         [21145.],\n",
       "         [21316.],\n",
       "         [21674.],\n",
       "         [22127.],\n",
       "         [22756.],\n",
       "         [24654.],\n",
       "         [26454.],\n",
       "         [26959.],\n",
       "         [26716.],\n",
       "         [26802.],\n",
       "         [26416.],\n",
       "         [25362.],\n",
       "         [24770.],\n",
       "         [24501.],\n",
       "         [24992.],\n",
       "         [27964.],\n",
       "         [29694.],\n",
       "         [29874.],\n",
       "         [28979.],\n",
       "         [26863.]],\n",
       " \n",
       "        [[25254.],\n",
       "         [23620.],\n",
       "         [22606.],\n",
       "         [22191.],\n",
       "         [21929.],\n",
       "         [22195.],\n",
       "         [24035.],\n",
       "         [26807.],\n",
       "         [28316.],\n",
       "         [29871.],\n",
       "         [30585.],\n",
       "         [30772.],\n",
       "         [30685.],\n",
       "         [30429.],\n",
       "         [28741.],\n",
       "         [28249.],\n",
       "         [28105.],\n",
       "         [27908.],\n",
       "         [27577.],\n",
       "         [27418.],\n",
       "         [28604.],\n",
       "         [30346.],\n",
       "         [28190.],\n",
       "         [26270.]],\n",
       " \n",
       "        [[25069.],\n",
       "         [23390.],\n",
       "         [21988.],\n",
       "         [21182.],\n",
       "         [20778.],\n",
       "         [20309.],\n",
       "         [20252.],\n",
       "         [19964.],\n",
       "         [20796.],\n",
       "         [22478.],\n",
       "         [23834.],\n",
       "         [24429.],\n",
       "         [24066.],\n",
       "         [23703.],\n",
       "         [23340.],\n",
       "         [22977.],\n",
       "         [22614.],\n",
       "         [22251.],\n",
       "         [21888.],\n",
       "         [22048.],\n",
       "         [22858.],\n",
       "         [25604.],\n",
       "         [25381.],\n",
       "         [23822.]]]), array([[[0.00103769],\n",
       "         [0.00095456],\n",
       "         [0.00095389],\n",
       "         [0.00095359],\n",
       "         [0.00095359],\n",
       "         [0.00095263],\n",
       "         [0.00095164],\n",
       "         [0.00095193],\n",
       "         [0.00095231],\n",
       "         [0.00095319],\n",
       "         [0.00095319],\n",
       "         [0.00095251],\n",
       "         [0.00095251],\n",
       "         [0.00095251],\n",
       "         [0.00095251],\n",
       "         [0.0009426 ],\n",
       "         [0.00098955],\n",
       "         [0.00112314],\n",
       "         [0.0011249 ],\n",
       "         [0.00094202],\n",
       "         [0.0009456 ],\n",
       "         [0.00093866],\n",
       "         [0.00093965],\n",
       "         [0.00093636]],\n",
       " \n",
       "        [[0.00093636],\n",
       "         [0.00093537],\n",
       "         [0.00093141],\n",
       "         [0.00093211],\n",
       "         [0.00093112],\n",
       "         [0.00093053],\n",
       "         [0.00093053],\n",
       "         [0.00093053],\n",
       "         [0.00093179],\n",
       "         [0.00093179],\n",
       "         [0.00093278],\n",
       "         [0.00093278],\n",
       "         [0.00092782],\n",
       "         [0.00092753],\n",
       "         [0.00101   ],\n",
       "         [0.00091987],\n",
       "         [0.00091987],\n",
       "         [0.00091958],\n",
       "         [0.00092066],\n",
       "         [0.00092124],\n",
       "         [0.00092291],\n",
       "         [0.00093497],\n",
       "         [0.00092262],\n",
       "         [0.00093269]],\n",
       " \n",
       "        [[0.00100603],\n",
       "         [0.00092133],\n",
       "         [0.00092074],\n",
       "         [0.00091775],\n",
       "         [0.00091676],\n",
       "         [0.00091638],\n",
       "         [0.00091638],\n",
       "         [0.00091708],\n",
       "         [0.00091708],\n",
       "         [0.00091978],\n",
       "         [0.00091611],\n",
       "         [0.00091881],\n",
       "         [0.00091511],\n",
       "         [0.00091383],\n",
       "         [0.00090523],\n",
       "         [0.00099473],\n",
       "         [0.00097709],\n",
       "         [0.00108522],\n",
       "         [0.00108822],\n",
       "         [0.00094572],\n",
       "         [0.00090066],\n",
       "         [0.00090066],\n",
       "         [0.00089967],\n",
       "         [0.0008963 ]]])]"
      ]
     },
     "execution_count": 143,
     "metadata": {},
     "output_type": "execute_result"
    }
   ],
   "source": [
    "np.dsplit(y,2)"
   ]
  },
  {
   "cell_type": "code",
   "execution_count": null,
   "metadata": {},
   "outputs": [],
   "source": []
  }
 ],
 "metadata": {
  "kernelspec": {
   "display_name": "Python 3",
   "language": "python",
   "name": "python3"
  },
  "language_info": {
   "codemirror_mode": {
    "name": "ipython",
    "version": 3
   },
   "file_extension": ".py",
   "mimetype": "text/x-python",
   "name": "python",
   "nbconvert_exporter": "python",
   "pygments_lexer": "ipython3",
   "version": "3.6.9"
  }
 },
 "nbformat": 4,
 "nbformat_minor": 2
}
