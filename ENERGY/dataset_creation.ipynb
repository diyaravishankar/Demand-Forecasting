{
 "cells": [
  {
   "cell_type": "markdown",
   "metadata": {},
   "source": [
    "# Dataset Creation\n",
    "\n",
    "In previous workbooks we cleaned and prepared data for houly energy load data, weather data, and holidays. This notebook describes how the dataset is compiled using the functions created in these notebooks.\n",
    "\n",
    "#### Objectives\n",
    "1. Create a single dataset that contains the following feautres at hourly intervals\n",
    "    a. actual energy loads, and the TSO's predicted load\n",
    "    b. weather features including temperature, pressure, humidity, rainfall, etc.\n",
    "    c. weekday category and holiday information\n",
    "\n",
    "#### Summary of data availability:\n",
    "1. Energy load data hourly from 2012 onward.\n",
    "2. Weather data starting from aprpox 2013\n",
    "3. Weekday and holidays as needed\n",
    "\n",
    "#### Steps in dataset creation\n",
    "1. Load the weather data\n",
    "2. Build a energy load dataset based on the min and max dates available in the weather data\n",
    "3. Add the relevant day categories and holidays to the dataset."
   ]
  },
  {
   "cell_type": "code",
   "execution_count": 43,
   "metadata": {},
   "outputs": [],
   "source": [
    "#load packages and utility funcitons\n",
    "import pandas as pd\n",
    "from make_holidays_data import get_holidays\n",
    "from make_weather_data import get_weather_data\n",
    "from clean_energy_loads import process_energy_data"
   ]
  },
  {
   "cell_type": "code",
   "execution_count": 44,
   "metadata": {},
   "outputs": [
    {
     "name": "stdout",
     "output_type": "stream",
     "text": [
      "First date 2013-10-01 02:00:00\n",
      "Last date 2019-08-26 02:00:00\n"
     ]
    }
   ],
   "source": [
    "#load the weather data and get min and max dates\n",
    "weather_data = get_weather_data()\n",
    "\n",
    "print('First date {}'.format(weather_data.index.min()))\n",
    "print('Last date {}'.format(weather_data.index.max()))"
   ]
  },
  {
   "cell_type": "code",
   "execution_count": 45,
   "metadata": {},
   "outputs": [
    {
     "data": {
      "text/html": [
       "<div>\n",
       "<style scoped>\n",
       "    .dataframe tbody tr th:only-of-type {\n",
       "        vertical-align: middle;\n",
       "    }\n",
       "\n",
       "    .dataframe tbody tr th {\n",
       "        vertical-align: top;\n",
       "    }\n",
       "\n",
       "    .dataframe thead th {\n",
       "        text-align: right;\n",
       "    }\n",
       "</style>\n",
       "<table border=\"1\" class=\"dataframe\">\n",
       "  <thead>\n",
       "    <tr style=\"text-align: right;\">\n",
       "      <th></th>\n",
       "      <th>dt</th>\n",
       "      <th>dt_iso</th>\n",
       "      <th>city_id</th>\n",
       "      <th>city_name</th>\n",
       "      <th>temp</th>\n",
       "      <th>temp_min</th>\n",
       "      <th>temp_max</th>\n",
       "      <th>pressure</th>\n",
       "      <th>humidity</th>\n",
       "      <th>wind_speed</th>\n",
       "      <th>wind_deg</th>\n",
       "      <th>rain_1h</th>\n",
       "      <th>rain_3h</th>\n",
       "      <th>snow_3h</th>\n",
       "      <th>clouds_all</th>\n",
       "      <th>weather_id</th>\n",
       "      <th>weather_main</th>\n",
       "      <th>weather_description</th>\n",
       "      <th>weather_icon</th>\n",
       "    </tr>\n",
       "    <tr>\n",
       "      <th>dt</th>\n",
       "      <th></th>\n",
       "      <th></th>\n",
       "      <th></th>\n",
       "      <th></th>\n",
       "      <th></th>\n",
       "      <th></th>\n",
       "      <th></th>\n",
       "      <th></th>\n",
       "      <th></th>\n",
       "      <th></th>\n",
       "      <th></th>\n",
       "      <th></th>\n",
       "      <th></th>\n",
       "      <th></th>\n",
       "      <th></th>\n",
       "      <th></th>\n",
       "      <th></th>\n",
       "      <th></th>\n",
       "      <th></th>\n",
       "    </tr>\n",
       "  </thead>\n",
       "  <tbody>\n",
       "    <tr>\n",
       "      <th>2013-10-01 02:00:00</th>\n",
       "      <td>2013-10-01 02:00:00</td>\n",
       "      <td>2013-10-01 00:00:00 +0000 UTC</td>\n",
       "      <td>2509954</td>\n",
       "      <td>Valencia</td>\n",
       "      <td>299.150000</td>\n",
       "      <td>299.150000</td>\n",
       "      <td>299.150000</td>\n",
       "      <td>1008</td>\n",
       "      <td>61</td>\n",
       "      <td>5</td>\n",
       "      <td>290</td>\n",
       "      <td>0.0</td>\n",
       "      <td>0.0</td>\n",
       "      <td>0.0</td>\n",
       "      <td>20</td>\n",
       "      <td>801</td>\n",
       "      <td>clouds</td>\n",
       "      <td>few clouds</td>\n",
       "      <td>02n</td>\n",
       "    </tr>\n",
       "    <tr>\n",
       "      <th>2013-10-01 03:00:00</th>\n",
       "      <td>2013-10-01 03:00:00</td>\n",
       "      <td>2013-10-01 01:00:00 +0000 UTC</td>\n",
       "      <td>2509954</td>\n",
       "      <td>Valencia</td>\n",
       "      <td>298.150000</td>\n",
       "      <td>298.150000</td>\n",
       "      <td>298.150000</td>\n",
       "      <td>1009</td>\n",
       "      <td>65</td>\n",
       "      <td>4</td>\n",
       "      <td>250</td>\n",
       "      <td>0.0</td>\n",
       "      <td>0.0</td>\n",
       "      <td>0.0</td>\n",
       "      <td>20</td>\n",
       "      <td>801</td>\n",
       "      <td>clouds</td>\n",
       "      <td>few clouds</td>\n",
       "      <td>02n</td>\n",
       "    </tr>\n",
       "    <tr>\n",
       "      <th>2013-10-01 04:00:00</th>\n",
       "      <td>2013-10-01 04:00:00</td>\n",
       "      <td>2013-10-01 02:00:00 +0000 UTC</td>\n",
       "      <td>2509954</td>\n",
       "      <td>Valencia</td>\n",
       "      <td>296.161000</td>\n",
       "      <td>296.161000</td>\n",
       "      <td>296.161000</td>\n",
       "      <td>1009</td>\n",
       "      <td>71</td>\n",
       "      <td>4</td>\n",
       "      <td>269</td>\n",
       "      <td>0.0</td>\n",
       "      <td>0.0</td>\n",
       "      <td>0.0</td>\n",
       "      <td>10</td>\n",
       "      <td>800</td>\n",
       "      <td>clear</td>\n",
       "      <td>sky is clear</td>\n",
       "      <td>02</td>\n",
       "    </tr>\n",
       "    <tr>\n",
       "      <th>2013-10-01 05:00:00</th>\n",
       "      <td>2013-10-01 05:00:00</td>\n",
       "      <td>2013-10-01 03:00:00 +0000 UTC</td>\n",
       "      <td>2509954</td>\n",
       "      <td>Valencia</td>\n",
       "      <td>297.150000</td>\n",
       "      <td>297.150000</td>\n",
       "      <td>297.150000</td>\n",
       "      <td>1008</td>\n",
       "      <td>69</td>\n",
       "      <td>1</td>\n",
       "      <td>250</td>\n",
       "      <td>0.0</td>\n",
       "      <td>0.0</td>\n",
       "      <td>0.0</td>\n",
       "      <td>20</td>\n",
       "      <td>801</td>\n",
       "      <td>clouds</td>\n",
       "      <td>few clouds</td>\n",
       "      <td>02n</td>\n",
       "    </tr>\n",
       "    <tr>\n",
       "      <th>2013-10-01 06:00:00</th>\n",
       "      <td>2013-10-01 06:00:00</td>\n",
       "      <td>2013-10-01 04:00:00 +0000 UTC</td>\n",
       "      <td>2509954</td>\n",
       "      <td>Valencia</td>\n",
       "      <td>294.031687</td>\n",
       "      <td>294.031687</td>\n",
       "      <td>294.031687</td>\n",
       "      <td>1009</td>\n",
       "      <td>78</td>\n",
       "      <td>4</td>\n",
       "      <td>288</td>\n",
       "      <td>0.0</td>\n",
       "      <td>0.0</td>\n",
       "      <td>0.0</td>\n",
       "      <td>0</td>\n",
       "      <td>800</td>\n",
       "      <td>clear</td>\n",
       "      <td>sky is clear</td>\n",
       "      <td>01</td>\n",
       "    </tr>\n",
       "  </tbody>\n",
       "</table>\n",
       "</div>"
      ],
      "text/plain": [
       "                                      dt                         dt_iso  \\\n",
       "dt                                                                        \n",
       "2013-10-01 02:00:00  2013-10-01 02:00:00  2013-10-01 00:00:00 +0000 UTC   \n",
       "2013-10-01 03:00:00  2013-10-01 03:00:00  2013-10-01 01:00:00 +0000 UTC   \n",
       "2013-10-01 04:00:00  2013-10-01 04:00:00  2013-10-01 02:00:00 +0000 UTC   \n",
       "2013-10-01 05:00:00  2013-10-01 05:00:00  2013-10-01 03:00:00 +0000 UTC   \n",
       "2013-10-01 06:00:00  2013-10-01 06:00:00  2013-10-01 04:00:00 +0000 UTC   \n",
       "\n",
       "                     city_id city_name        temp    temp_min    temp_max  \\\n",
       "dt                                                                           \n",
       "2013-10-01 02:00:00  2509954  Valencia  299.150000  299.150000  299.150000   \n",
       "2013-10-01 03:00:00  2509954  Valencia  298.150000  298.150000  298.150000   \n",
       "2013-10-01 04:00:00  2509954  Valencia  296.161000  296.161000  296.161000   \n",
       "2013-10-01 05:00:00  2509954  Valencia  297.150000  297.150000  297.150000   \n",
       "2013-10-01 06:00:00  2509954  Valencia  294.031687  294.031687  294.031687   \n",
       "\n",
       "                     pressure  humidity  wind_speed  wind_deg  rain_1h  \\\n",
       "dt                                                                       \n",
       "2013-10-01 02:00:00      1008        61           5       290      0.0   \n",
       "2013-10-01 03:00:00      1009        65           4       250      0.0   \n",
       "2013-10-01 04:00:00      1009        71           4       269      0.0   \n",
       "2013-10-01 05:00:00      1008        69           1       250      0.0   \n",
       "2013-10-01 06:00:00      1009        78           4       288      0.0   \n",
       "\n",
       "                     rain_3h  snow_3h  clouds_all  weather_id weather_main  \\\n",
       "dt                                                                           \n",
       "2013-10-01 02:00:00      0.0      0.0          20         801       clouds   \n",
       "2013-10-01 03:00:00      0.0      0.0          20         801       clouds   \n",
       "2013-10-01 04:00:00      0.0      0.0          10         800        clear   \n",
       "2013-10-01 05:00:00      0.0      0.0          20         801       clouds   \n",
       "2013-10-01 06:00:00      0.0      0.0           0         800        clear   \n",
       "\n",
       "                    weather_description weather_icon  \n",
       "dt                                                    \n",
       "2013-10-01 02:00:00          few clouds          02n  \n",
       "2013-10-01 03:00:00          few clouds          02n  \n",
       "2013-10-01 04:00:00        sky is clear           02  \n",
       "2013-10-01 05:00:00          few clouds          02n  \n",
       "2013-10-01 06:00:00        sky is clear           01  "
      ]
     },
     "execution_count": 45,
     "metadata": {},
     "output_type": "execute_result"
    }
   ],
   "source": [
    "weather_data.head()"
   ]
  },
  {
   "cell_type": "markdown",
   "metadata": {},
   "source": [
    "#### Load energy dataset "
   ]
  },
  {
   "cell_type": "code",
   "execution_count": 46,
   "metadata": {},
   "outputs": [],
   "source": [
    "file_list = ['Total Load - Day Ahead _ Actual_2015.csv',\n",
    "            'Total Load - Day Ahead _ Actual_2016.csv',\n",
    "            'Total Load - Day Ahead _ Actual_2017.csv',\n",
    "            'Total Load - Day Ahead _ Actual_2018.csv',\n",
    "            'Total Load - Day Ahead _ Actual_2019.csv']\n",
    "\n",
    "energy_data = process_energy_data(files=file_list)"
   ]
  },
  {
   "cell_type": "code",
   "execution_count": 47,
   "metadata": {},
   "outputs": [
    {
     "data": {
      "text/html": [
       "<div>\n",
       "<style scoped>\n",
       "    .dataframe tbody tr th:only-of-type {\n",
       "        vertical-align: middle;\n",
       "    }\n",
       "\n",
       "    .dataframe tbody tr th {\n",
       "        vertical-align: top;\n",
       "    }\n",
       "\n",
       "    .dataframe thead th {\n",
       "        text-align: right;\n",
       "    }\n",
       "</style>\n",
       "<table border=\"1\" class=\"dataframe\">\n",
       "  <thead>\n",
       "    <tr style=\"text-align: right;\">\n",
       "      <th></th>\n",
       "      <th>day_forecast</th>\n",
       "      <th>actual_load</th>\n",
       "    </tr>\n",
       "    <tr>\n",
       "      <th>time</th>\n",
       "      <th></th>\n",
       "      <th></th>\n",
       "    </tr>\n",
       "  </thead>\n",
       "  <tbody>\n",
       "    <tr>\n",
       "      <th>2015-01-01 00:00:00</th>\n",
       "      <td>26118.0</td>\n",
       "      <td>25385.0</td>\n",
       "    </tr>\n",
       "    <tr>\n",
       "      <th>2015-01-01 01:00:00</th>\n",
       "      <td>24934.0</td>\n",
       "      <td>24382.0</td>\n",
       "    </tr>\n",
       "    <tr>\n",
       "      <th>2015-01-01 02:00:00</th>\n",
       "      <td>23515.0</td>\n",
       "      <td>22734.0</td>\n",
       "    </tr>\n",
       "    <tr>\n",
       "      <th>2015-01-01 03:00:00</th>\n",
       "      <td>22642.0</td>\n",
       "      <td>21286.0</td>\n",
       "    </tr>\n",
       "    <tr>\n",
       "      <th>2015-01-01 04:00:00</th>\n",
       "      <td>21785.0</td>\n",
       "      <td>20264.0</td>\n",
       "    </tr>\n",
       "  </tbody>\n",
       "</table>\n",
       "</div>"
      ],
      "text/plain": [
       "                     day_forecast  actual_load\n",
       "time                                          \n",
       "2015-01-01 00:00:00       26118.0      25385.0\n",
       "2015-01-01 01:00:00       24934.0      24382.0\n",
       "2015-01-01 02:00:00       23515.0      22734.0\n",
       "2015-01-01 03:00:00       22642.0      21286.0\n",
       "2015-01-01 04:00:00       21785.0      20264.0"
      ]
     },
     "execution_count": 47,
     "metadata": {},
     "output_type": "execute_result"
    }
   ],
   "source": [
    "energy_data.head()"
   ]
  },
  {
   "cell_type": "code",
   "execution_count": 48,
   "metadata": {},
   "outputs": [
    {
     "name": "stdout",
     "output_type": "stream",
     "text": [
      "Nan values in dataset:\n",
      "day_forecast    0\n",
      "actual_load     0\n",
      "dtype: int64\n",
      "First date 2015-01-01 00:00:00\n",
      "Last date 2019-12-31 23:00:00\n"
     ]
    }
   ],
   "source": [
    "#check that everything loaded correctly\n",
    "print('Nan values in dataset:', end='\\n')\n",
    "print(energy_data.isnull().sum())\n",
    "\n",
    "print('First date {}'.format(energy_data.index.min()))\n",
    "print('Last date {}'.format(energy_data.index.max()))"
   ]
  },
  {
   "cell_type": "markdown",
   "metadata": {},
   "source": [
    "The last date in the weather dataset is 2019-08-26, so we will have to remove some rows in order to aling the data between the weather and energy data.\n",
    "\n",
    "#### Aligning the data\n",
    "\n",
    "Strategy is to remove data after 2019-08-25 and before 2015-01-01 inclusive."
   ]
  },
  {
   "cell_type": "code",
   "execution_count": 49,
   "metadata": {},
   "outputs": [
    {
     "name": "stdout",
     "output_type": "stream",
     "text": [
      "Weather data length 207269\n",
      "Energy data length 40752\n"
     ]
    }
   ],
   "source": [
    "weather_data = weather_data['2015-01-01':'2019-08-25']\n",
    "energy_data = energy_data['2015-01-01':'2019-08-25']\n",
    "\n",
    "print('Weather data length {}'.format(len(weather_data)))\n",
    "print('Energy data length {}'.format(len(energy_data)))"
   ]
  },
  {
   "cell_type": "code",
   "execution_count": 50,
   "metadata": {},
   "outputs": [],
   "source": [
    "#export native versions\n",
    "energy_data.to_csv('./data/cleaned_data/energy_loads_2015_2019.csv')"
   ]
  },
  {
   "cell_type": "markdown",
   "metadata": {},
   "source": [
    "#### Create calendar day types for the data"
   ]
  },
  {
   "cell_type": "code",
   "execution_count": 34,
   "metadata": {},
   "outputs": [
    {
     "data": {
      "text/html": [
       "<div>\n",
       "<style scoped>\n",
       "    .dataframe tbody tr th:only-of-type {\n",
       "        vertical-align: middle;\n",
       "    }\n",
       "\n",
       "    .dataframe tbody tr th {\n",
       "        vertical-align: top;\n",
       "    }\n",
       "\n",
       "    .dataframe thead th {\n",
       "        text-align: right;\n",
       "    }\n",
       "</style>\n",
       "<table border=\"1\" class=\"dataframe\">\n",
       "  <thead>\n",
       "    <tr style=\"text-align: right;\">\n",
       "      <th></th>\n",
       "      <th>weekday_id</th>\n",
       "      <th>holiday_bool</th>\n",
       "      <th>holiday_name</th>\n",
       "    </tr>\n",
       "  </thead>\n",
       "  <tbody>\n",
       "    <tr>\n",
       "      <th>2015-01-01</th>\n",
       "      <td>3</td>\n",
       "      <td>True</td>\n",
       "      <td>Año nuevo</td>\n",
       "    </tr>\n",
       "    <tr>\n",
       "      <th>2015-01-02</th>\n",
       "      <td>4</td>\n",
       "      <td>False</td>\n",
       "      <td>None</td>\n",
       "    </tr>\n",
       "    <tr>\n",
       "      <th>2015-01-03</th>\n",
       "      <td>5</td>\n",
       "      <td>False</td>\n",
       "      <td>None</td>\n",
       "    </tr>\n",
       "    <tr>\n",
       "      <th>2015-01-04</th>\n",
       "      <td>6</td>\n",
       "      <td>False</td>\n",
       "      <td>None</td>\n",
       "    </tr>\n",
       "    <tr>\n",
       "      <th>2015-01-05</th>\n",
       "      <td>0</td>\n",
       "      <td>False</td>\n",
       "      <td>None</td>\n",
       "    </tr>\n",
       "  </tbody>\n",
       "</table>\n",
       "</div>"
      ],
      "text/plain": [
       "            weekday_id  holiday_bool holiday_name\n",
       "2015-01-01           3          True    Año nuevo\n",
       "2015-01-02           4         False         None\n",
       "2015-01-03           5         False         None\n",
       "2015-01-04           6         False         None\n",
       "2015-01-05           0         False         None"
      ]
     },
     "execution_count": 34,
     "metadata": {},
     "output_type": "execute_result"
    }
   ],
   "source": [
    "#create a dataframe withthe day of the week, the holiday true false, and the holiday name\n",
    "holidays_data = get_holidays(start='2015-01-01', stop='2019-08-26', country='ES')\n",
    "\n",
    "#save the data\n",
    "holidays_data.to_csv('./data/processed/holidays_data_daily.csv')\n",
    "\n",
    "holidays_data.head()"
   ]
  },
  {
   "cell_type": "markdown",
   "metadata": {},
   "source": [
    "The holidays data is in days while energy data is in hours. One option is to upsample the holidays into hours and concatenate with the energy data."
   ]
  },
  {
   "cell_type": "code",
   "execution_count": 35,
   "metadata": {},
   "outputs": [
    {
     "name": "stdout",
     "output_type": "stream",
     "text": [
      "New length of holiday data 40753\n"
     ]
    }
   ],
   "source": [
    "#upsample to hourly frequency and fill the Nans with the original value.\n",
    "holiday_data = holidays_data.resample('H').pad()\n",
    "\n",
    "print('New length of holiday data {}'.format(len(holiday_data)))"
   ]
  },
  {
   "cell_type": "code",
   "execution_count": 38,
   "metadata": {},
   "outputs": [
    {
     "name": "stdout",
     "output_type": "stream",
     "text": [
      "Start and end times for the weahter data:\n",
      "2015-01-01 00:00:00 2019-08-25 23:00:00\n",
      "Start and end times for the weahter data:\n",
      "2015-01-01 00:00:00 2019-08-25 23:00:00\n"
     ]
    }
   ],
   "source": [
    "#check start and stop times after the upsample\n",
    "print('Start and end times for the weahter data:')\n",
    "print(weather_data.index.min(),weather_data.index.max())\n",
    "print('Start and end times for the weahter data:')\n",
    "print(energy_data.index.min(),energy_data.index.max())"
   ]
  }
 ],
 "metadata": {
  "kernelspec": {
   "display_name": "Python 3",
   "language": "python",
   "name": "python3"
  },
  "language_info": {
   "codemirror_mode": {
    "name": "ipython",
    "version": 3
   },
   "file_extension": ".py",
   "mimetype": "text/x-python",
   "name": "python",
   "nbconvert_exporter": "python",
   "pygments_lexer": "ipython3",
   "version": "3.6.9"
  }
 },
 "nbformat": 4,
 "nbformat_minor": 2
}
