{
 "cells": [
  {
   "cell_type": "markdown",
   "metadata": {},
   "source": [
    "# Data Cleaning: Weather\n",
    "\n",
    "\n",
    "#### Data Source:\n",
    "Weather data for the top 5 largest cities in spain was obtained from OpenWeatherMap. The data contains hourly information on teperature, pressure, rainfall, cloud index, and weather descrption.\n",
    "\n",
    "#### Summary of cleaning actions:\n",
    "- Add names to the cities\n",
    "- Drop columns that contain no data\n",
    "- Convert timestamps to datetimes and set a datetime index\n",
    "- In columns with partial data, assume Nans are zero values.\n",
    "- Set elements to lower case and remove speical characters in categorical columns\n",
    "\n",
    "\n",
    "#### Function list:\n",
    "1. get_clean_weather - takes in weather data and returns a cleaned set for the spain top 5 cities data"
   ]
  },
  {
   "cell_type": "code",
   "execution_count": 26,
   "metadata": {},
   "outputs": [],
   "source": [
    "import pandas as pd\n",
    "import numpy as np"
   ]
  },
  {
   "cell_type": "code",
   "execution_count": 2,
   "metadata": {},
   "outputs": [],
   "source": [
    "#import data\n",
    "path = './data/weather/spain-weather-2013-2019.csv'\n",
    "data = pd.read_csv(path)"
   ]
  },
  {
   "cell_type": "code",
   "execution_count": 3,
   "metadata": {},
   "outputs": [
    {
     "data": {
      "text/html": [
       "<div>\n",
       "<style scoped>\n",
       "    .dataframe tbody tr th:only-of-type {\n",
       "        vertical-align: middle;\n",
       "    }\n",
       "\n",
       "    .dataframe tbody tr th {\n",
       "        vertical-align: top;\n",
       "    }\n",
       "\n",
       "    .dataframe thead th {\n",
       "        text-align: right;\n",
       "    }\n",
       "</style>\n",
       "<table border=\"1\" class=\"dataframe\">\n",
       "  <thead>\n",
       "    <tr style=\"text-align: right;\">\n",
       "      <th></th>\n",
       "      <th>dt</th>\n",
       "      <th>dt_iso</th>\n",
       "      <th>city_id</th>\n",
       "      <th>city_name</th>\n",
       "      <th>lat</th>\n",
       "      <th>lon</th>\n",
       "      <th>temp</th>\n",
       "      <th>temp_min</th>\n",
       "      <th>temp_max</th>\n",
       "      <th>pressure</th>\n",
       "      <th>...</th>\n",
       "      <th>rain_today</th>\n",
       "      <th>snow_1h</th>\n",
       "      <th>snow_3h</th>\n",
       "      <th>snow_24h</th>\n",
       "      <th>snow_today</th>\n",
       "      <th>clouds_all</th>\n",
       "      <th>weather_id</th>\n",
       "      <th>weather_main</th>\n",
       "      <th>weather_description</th>\n",
       "      <th>weather_icon</th>\n",
       "    </tr>\n",
       "  </thead>\n",
       "  <tbody>\n",
       "    <tr>\n",
       "      <td>0</td>\n",
       "      <td>1380585600</td>\n",
       "      <td>2013-10-01 00:00:00 +0000 UTC</td>\n",
       "      <td>2509954</td>\n",
       "      <td>NaN</td>\n",
       "      <td>NaN</td>\n",
       "      <td>NaN</td>\n",
       "      <td>299.150</td>\n",
       "      <td>299.150</td>\n",
       "      <td>299.150</td>\n",
       "      <td>1008</td>\n",
       "      <td>...</td>\n",
       "      <td>NaN</td>\n",
       "      <td>NaN</td>\n",
       "      <td>NaN</td>\n",
       "      <td>NaN</td>\n",
       "      <td>NaN</td>\n",
       "      <td>20</td>\n",
       "      <td>801</td>\n",
       "      <td>Clouds</td>\n",
       "      <td>few clouds</td>\n",
       "      <td>02n</td>\n",
       "    </tr>\n",
       "    <tr>\n",
       "      <td>1</td>\n",
       "      <td>1380589200</td>\n",
       "      <td>2013-10-01 01:00:00 +0000 UTC</td>\n",
       "      <td>2509954</td>\n",
       "      <td>NaN</td>\n",
       "      <td>NaN</td>\n",
       "      <td>NaN</td>\n",
       "      <td>298.150</td>\n",
       "      <td>298.150</td>\n",
       "      <td>298.150</td>\n",
       "      <td>1009</td>\n",
       "      <td>...</td>\n",
       "      <td>NaN</td>\n",
       "      <td>NaN</td>\n",
       "      <td>NaN</td>\n",
       "      <td>NaN</td>\n",
       "      <td>NaN</td>\n",
       "      <td>20</td>\n",
       "      <td>801</td>\n",
       "      <td>Clouds</td>\n",
       "      <td>few clouds</td>\n",
       "      <td>02n</td>\n",
       "    </tr>\n",
       "    <tr>\n",
       "      <td>2</td>\n",
       "      <td>1380592800</td>\n",
       "      <td>2013-10-01 02:00:00 +0000 UTC</td>\n",
       "      <td>2509954</td>\n",
       "      <td>NaN</td>\n",
       "      <td>NaN</td>\n",
       "      <td>NaN</td>\n",
       "      <td>296.161</td>\n",
       "      <td>296.161</td>\n",
       "      <td>296.161</td>\n",
       "      <td>1009</td>\n",
       "      <td>...</td>\n",
       "      <td>NaN</td>\n",
       "      <td>NaN</td>\n",
       "      <td>0.0</td>\n",
       "      <td>NaN</td>\n",
       "      <td>NaN</td>\n",
       "      <td>10</td>\n",
       "      <td>800</td>\n",
       "      <td>Clear</td>\n",
       "      <td>sky is Clear</td>\n",
       "      <td>02</td>\n",
       "    </tr>\n",
       "  </tbody>\n",
       "</table>\n",
       "<p>3 rows × 28 columns</p>\n",
       "</div>"
      ],
      "text/plain": [
       "           dt                         dt_iso  city_id  city_name  lat  lon  \\\n",
       "0  1380585600  2013-10-01 00:00:00 +0000 UTC  2509954        NaN  NaN  NaN   \n",
       "1  1380589200  2013-10-01 01:00:00 +0000 UTC  2509954        NaN  NaN  NaN   \n",
       "2  1380592800  2013-10-01 02:00:00 +0000 UTC  2509954        NaN  NaN  NaN   \n",
       "\n",
       "      temp  temp_min  temp_max  pressure  ...  rain_today  snow_1h  snow_3h  \\\n",
       "0  299.150   299.150   299.150      1008  ...         NaN      NaN      NaN   \n",
       "1  298.150   298.150   298.150      1009  ...         NaN      NaN      NaN   \n",
       "2  296.161   296.161   296.161      1009  ...         NaN      NaN      0.0   \n",
       "\n",
       "   snow_24h  snow_today  clouds_all  weather_id  weather_main  \\\n",
       "0       NaN         NaN          20         801        Clouds   \n",
       "1       NaN         NaN          20         801        Clouds   \n",
       "2       NaN         NaN          10         800         Clear   \n",
       "\n",
       "   weather_description  weather_icon  \n",
       "0           few clouds           02n  \n",
       "1           few clouds           02n  \n",
       "2         sky is Clear            02  \n",
       "\n",
       "[3 rows x 28 columns]"
      ]
     },
     "execution_count": 3,
     "metadata": {},
     "output_type": "execute_result"
    }
   ],
   "source": [
    "#first look at the data\n",
    "data.head(3)"
   ]
  },
  {
   "cell_type": "code",
   "execution_count": 6,
   "metadata": {},
   "outputs": [
    {
     "name": "stdout",
     "output_type": "stream",
     "text": [
      "<class 'pandas.core.frame.DataFrame'>\n",
      "RangeIndex: 263000 entries, 0 to 262999\n",
      "Data columns (total 28 columns):\n",
      "dt                     263000 non-null int64\n",
      "dt_iso                 263000 non-null object\n",
      "city_id                263000 non-null int64\n",
      "city_name              0 non-null float64\n",
      "lat                    0 non-null float64\n",
      "lon                    0 non-null float64\n",
      "temp                   263000 non-null float64\n",
      "temp_min               263000 non-null float64\n",
      "temp_max               263000 non-null float64\n",
      "pressure               263000 non-null int64\n",
      "sea_level              0 non-null float64\n",
      "grnd_level             0 non-null float64\n",
      "humidity               263000 non-null int64\n",
      "wind_speed             263000 non-null int64\n",
      "wind_deg               263000 non-null int64\n",
      "rain_1h                27406 non-null float64\n",
      "rain_3h                20017 non-null float64\n",
      "rain_24h               0 non-null float64\n",
      "rain_today             0 non-null float64\n",
      "snow_1h                2 non-null float64\n",
      "snow_3h                21589 non-null float64\n",
      "snow_24h               0 non-null float64\n",
      "snow_today             0 non-null float64\n",
      "clouds_all             263000 non-null int64\n",
      "weather_id             263000 non-null int64\n",
      "weather_main           263000 non-null object\n",
      "weather_description    263000 non-null object\n",
      "weather_icon           263000 non-null object\n",
      "dtypes: float64(16), int64(8), object(4)\n",
      "memory usage: 56.2+ MB\n"
     ]
    }
   ],
   "source": [
    "data.info()"
   ]
  },
  {
   "cell_type": "code",
   "execution_count": 16,
   "metadata": {},
   "outputs": [],
   "source": [
    "def clean_weather_data(data):\n",
    "    \"\"\"\n",
    "    Input: hourly bulk data export from OpenWeatherMaps.\n",
    "    \n",
    "    Output: cleaned data\n",
    "    \n",
    "    \"\"\"\n",
    "\n",
    "    \n",
    "    #add city names\n",
    "    city_codes = {3128760 : 'Barcelona', \n",
    "                  3117735 : 'Madrid', \n",
    "                  3128026 : 'Bilbao', \n",
    "                  2509954 : 'Valencia', \n",
    "                  6361046 : 'Seville'}\n",
    "    \n",
    "    data['city_name'] = data['city_id'].replace(city_codes)\n",
    "\n",
    "    #drop all columns with only NaN values\n",
    "    data = data.drop(['lat', \n",
    "                      'lon', \n",
    "                      'sea_level', \n",
    "                      'grnd_level', \n",
    "                      'rain_24h', \n",
    "                      'snow_today',\n",
    "                      'rain_today', \n",
    "                      'snow_1h', \n",
    "                      'snow_24h'], axis=1)\n",
    "\n",
    "\n",
    "    #convert timestamp to datetime object\n",
    "    times = pd.to_datetime(data['dt'], unit='s', origin='unix')\n",
    "\n",
    "    #convert the times to local time zone\n",
    "    data['dt'] = times.dt.tz_localize('UTC').dt.tz_convert('Europe/Madrid').dt.strftime('%Y-%m-%d %H:%M:%S')\n",
    "\n",
    "    #replace null values with zeros in columns with relevant informaiton\n",
    "    nul_cols = ['rain_1h', 'rain_3h', 'snow_3h']\n",
    "    data[nul_cols] = data[nul_cols].fillna(0)\n",
    "    \n",
    "    return data"
   ]
  },
  {
   "cell_type": "code",
   "execution_count": 6,
   "metadata": {},
   "outputs": [
    {
     "ename": "NameError",
     "evalue": "name 'get_clean_weather' is not defined",
     "output_type": "error",
     "traceback": [
      "\u001b[0;31m---------------------------------------------------------------------------\u001b[0m",
      "\u001b[0;31mNameError\u001b[0m                                 Traceback (most recent call last)",
      "\u001b[0;32m<ipython-input-6-f6e39c837b0e>\u001b[0m in \u001b[0;36m<module>\u001b[0;34m\u001b[0m\n\u001b[0;32m----> 1\u001b[0;31m \u001b[0mdata\u001b[0m \u001b[0;34m=\u001b[0m \u001b[0mget_clean_weather\u001b[0m\u001b[0;34m(\u001b[0m\u001b[0mdata\u001b[0m\u001b[0;34m)\u001b[0m\u001b[0;34m\u001b[0m\u001b[0;34m\u001b[0m\u001b[0m\n\u001b[0m\u001b[1;32m      2\u001b[0m \u001b[0mdata\u001b[0m\u001b[0;34m.\u001b[0m\u001b[0mhead\u001b[0m\u001b[0;34m(\u001b[0m\u001b[0;36m3\u001b[0m\u001b[0;34m)\u001b[0m\u001b[0;34m\u001b[0m\u001b[0;34m\u001b[0m\u001b[0m\n",
      "\u001b[0;31mNameError\u001b[0m: name 'get_clean_weather' is not defined"
     ]
    }
   ],
   "source": [
    "data = get_clean_weather(data)\n",
    "data.head(3)"
   ]
  },
  {
   "cell_type": "code",
   "execution_count": 9,
   "metadata": {},
   "outputs": [
    {
     "name": "stdout",
     "output_type": "stream",
     "text": [
      "<class 'pandas.core.frame.DataFrame'>\n",
      "RangeIndex: 263000 entries, 0 to 262999\n",
      "Data columns (total 19 columns):\n",
      "dt                     263000 non-null object\n",
      "dt_iso                 263000 non-null object\n",
      "city_id                263000 non-null int64\n",
      "city_name              263000 non-null object\n",
      "temp                   263000 non-null float64\n",
      "temp_min               263000 non-null float64\n",
      "temp_max               263000 non-null float64\n",
      "pressure               263000 non-null int64\n",
      "humidity               263000 non-null int64\n",
      "wind_speed             263000 non-null int64\n",
      "wind_deg               263000 non-null int64\n",
      "rain_1h                263000 non-null float64\n",
      "rain_3h                263000 non-null float64\n",
      "snow_3h                263000 non-null float64\n",
      "clouds_all             263000 non-null int64\n",
      "weather_id             263000 non-null int64\n",
      "weather_main           263000 non-null object\n",
      "weather_description    263000 non-null object\n",
      "weather_icon           263000 non-null object\n",
      "dtypes: float64(6), int64(7), object(6)\n",
      "memory usage: 38.1+ MB\n"
     ]
    }
   ],
   "source": [
    "data.info()"
   ]
  },
  {
   "cell_type": "markdown",
   "metadata": {},
   "source": [
    "#### Converting temperatures\n",
    "\n",
    "The min and max temperatures look to be the same as the hourly temperature indicated. We will check to see if this is always the case. If this is the case these columns will be removed."
   ]
  },
  {
   "cell_type": "code",
   "execution_count": 17,
   "metadata": {},
   "outputs": [
    {
     "name": "stdout",
     "output_type": "stream",
     "text": [
      "Percentage of values different between temperature and min temperature 0.3512661596958175\n",
      "Percentage of values different between temperature and max temperature 0.3512661596958175\n",
      "Percentage of values different between min and max temperature 0.3512661596958175\n"
     ]
    }
   ],
   "source": [
    "diff_temp_min = (data['temp'] == data['temp_min']).sum()/len(data)\n",
    "diff_temp_max = (data['temp'] == data['temp_max']).sum()/len(data)\n",
    "diff_min_max = (data['temp_min'] == data['temp_max']).sum()/len(data)\n",
    "print('Percentage of values different between temperature and min temperature {}'.format(diff_temp_min))\n",
    "print('Percentage of values different between temperature and max temperature {}'.format(diff_temp_min))\n",
    "print('Percentage of values different between min and max temperature {}'.format(diff_temp_min))"
   ]
  },
  {
   "cell_type": "markdown",
   "metadata": {},
   "source": [
    "In this case there are differences between the columns values and the data will be kept."
   ]
  },
  {
   "cell_type": "markdown",
   "metadata": {},
   "source": [
    "#### Checking categorical columns\n",
    "\n",
    "The columns weather_main and weather_description contain categorical information. We will investigate their vlaues and see if any information reduction is possible."
   ]
  },
  {
   "cell_type": "code",
   "execution_count": 22,
   "metadata": {},
   "outputs": [
    {
     "data": {
      "text/plain": [
       "Clear           118166\n",
       "Clouds          107307\n",
       "Rain             24748\n",
       "Mist              4873\n",
       "Fog               3016\n",
       "Drizzle           2333\n",
       "Thunderstorm      1319\n",
       "Haze               491\n",
       "Dust               404\n",
       "Snow               297\n",
       "Smoke               43\n",
       "Squall               1\n",
       "Sand                 1\n",
       "Tornado              1\n",
       "Name: weather_main, dtype: int64"
      ]
     },
     "execution_count": 22,
     "metadata": {},
     "output_type": "execute_result"
    }
   ],
   "source": [
    "#investigate values in the weather main\n",
    "data['weather_main'].value_counts(dropna=False)"
   ]
  },
  {
   "cell_type": "code",
   "execution_count": 21,
   "metadata": {},
   "outputs": [
    {
     "data": {
      "text/plain": [
       "Sky is Clear                        100334\n",
       "few clouds                           52151\n",
       "broken clouds                        25835\n",
       "scattered clouds                     24462\n",
       "light rain                           15131\n",
       "sky is Clear                         11466\n",
       "moderate rain                         5690\n",
       "mist                                  4873\n",
       "overcast clouds                       4859\n",
       "clear sky                             4244\n",
       "fog                                   3016\n",
       "sky is clear                          2122\n",
       "heavy intensity rain                  1719\n",
       "light intensity drizzle               1613\n",
       "light intensity shower rain            806\n",
       "proximity shower rain                  572\n",
       "shower rain                            560\n",
       "proximity thunderstorm                 555\n",
       "drizzle                                542\n",
       "haze                                   491\n",
       "thunderstorm                           440\n",
       "dust                                   399\n",
       "thunderstorm with rain                 170\n",
       "very heavy rain                        161\n",
       "light snow                             156\n",
       "light intensity drizzle rain           116\n",
       "thunderstorm with light rain           113\n",
       "heavy intensity shower rain            104\n",
       "snow                                    80\n",
       "smoke                                   43\n",
       "thunderstorm with heavy rain            38\n",
       "rain and drizzle                        31\n",
       "heavy intensity drizzle                 26\n",
       "light rain and snow                     23\n",
       "sleet                                   13\n",
       "rain and snow                           13\n",
       "proximity moderate rain                  4\n",
       "light shower sleet                       4\n",
       "Sand/Dust Whirls                         3\n",
       "heavy intensity rain and drizzle         3\n",
       "heavy snow                               3\n",
       "light shower snow                        3\n",
       "light thunderstorm                       2\n",
       "sand,dust whirls                         2\n",
       "proximity drizzle                        2\n",
       "SQUALLS                                  1\n",
       "ragged shower rain                       1\n",
       "tornado                                  1\n",
       "shower sleet                             1\n",
       "shower snow                              1\n",
       "sand                                     1\n",
       "ragged thunderstorm                      1\n",
       "Name: weather_description, dtype: int64"
      ]
     },
     "execution_count": 21,
     "metadata": {},
     "output_type": "execute_result"
    }
   ],
   "source": [
    "#investigate values in the weather main\n",
    "data['weather_description'].value_counts(dropna=False)"
   ]
  },
  {
   "cell_type": "markdown",
   "metadata": {},
   "source": [
    "The weather_descrption column appears to be a subcategory of lower granularity information to the weather_main column. Something to consider in the features selection process is if this adds relevant additional information. In this step however we will make all fields lowercase, and remove special characters."
   ]
  },
  {
   "cell_type": "code",
   "execution_count": 8,
   "metadata": {},
   "outputs": [],
   "source": [
    "def clean_descrption_cols(data):\n",
    "    \"\"\"\n",
    "    small function that sets the descrption columns to lower case, and removes special characters from the names.\n",
    "    \n",
    "    \"\"\"\n",
    "    \n",
    "    #make each element in the columns lowercase\n",
    "    data[['weather_main', 'weather_description']] = data[['weather_main', 'weather_description']].apply(lambda x: x.str.lower())\n",
    "    \n",
    "    #remove spcial characters\n",
    "    special_chars = [',', '/', ':', ';', '-']\n",
    "    \n",
    "    for char in special_chars:\n",
    "        data['weather_description'] = data['weather_description'].str.replace(char,' ')\n",
    "        \n",
    "    return data"
   ]
  },
  {
   "cell_type": "code",
   "execution_count": 28,
   "metadata": {},
   "outputs": [],
   "source": [
    "data = clean_descrption_cols(data)"
   ]
  },
  {
   "cell_type": "markdown",
   "metadata": {},
   "source": [
    "#### Export the data"
   ]
  },
  {
   "cell_type": "code",
   "execution_count": 30,
   "metadata": {},
   "outputs": [],
   "source": [
    "data.to_csv('./data/weather_2013_2019.csv')"
   ]
  },
  {
   "cell_type": "code",
   "execution_count": 19,
   "metadata": {},
   "outputs": [],
   "source": [
    "def get_weather_data(path='./data/weather/spain-weather-2013-2019.csv'):\n",
    "\n",
    "    data = pd.read_csv(path)\n",
    "    \n",
    "    weather_data = clean_weather_data(data)\n",
    "    weather_data = clean_descrption_cols(weather_data)\n",
    "    \n",
    "    return weather_data"
   ]
  },
  {
   "cell_type": "code",
   "execution_count": 20,
   "metadata": {},
   "outputs": [
    {
     "data": {
      "text/html": [
       "<div>\n",
       "<style scoped>\n",
       "    .dataframe tbody tr th:only-of-type {\n",
       "        vertical-align: middle;\n",
       "    }\n",
       "\n",
       "    .dataframe tbody tr th {\n",
       "        vertical-align: top;\n",
       "    }\n",
       "\n",
       "    .dataframe thead th {\n",
       "        text-align: right;\n",
       "    }\n",
       "</style>\n",
       "<table border=\"1\" class=\"dataframe\">\n",
       "  <thead>\n",
       "    <tr style=\"text-align: right;\">\n",
       "      <th></th>\n",
       "      <th>dt</th>\n",
       "      <th>dt_iso</th>\n",
       "      <th>city_id</th>\n",
       "      <th>city_name</th>\n",
       "      <th>temp</th>\n",
       "      <th>temp_min</th>\n",
       "      <th>temp_max</th>\n",
       "      <th>pressure</th>\n",
       "      <th>humidity</th>\n",
       "      <th>wind_speed</th>\n",
       "      <th>wind_deg</th>\n",
       "      <th>rain_1h</th>\n",
       "      <th>rain_3h</th>\n",
       "      <th>snow_3h</th>\n",
       "      <th>clouds_all</th>\n",
       "      <th>weather_id</th>\n",
       "      <th>weather_main</th>\n",
       "      <th>weather_description</th>\n",
       "      <th>weather_icon</th>\n",
       "    </tr>\n",
       "  </thead>\n",
       "  <tbody>\n",
       "    <tr>\n",
       "      <td>0</td>\n",
       "      <td>2013-10-01 02:00:00</td>\n",
       "      <td>2013-10-01 00:00:00 +0000 UTC</td>\n",
       "      <td>2509954</td>\n",
       "      <td>Valencia</td>\n",
       "      <td>299.150</td>\n",
       "      <td>299.150</td>\n",
       "      <td>299.150</td>\n",
       "      <td>1008</td>\n",
       "      <td>61</td>\n",
       "      <td>5</td>\n",
       "      <td>290</td>\n",
       "      <td>0.0</td>\n",
       "      <td>0.0</td>\n",
       "      <td>0.0</td>\n",
       "      <td>20</td>\n",
       "      <td>801</td>\n",
       "      <td>clouds</td>\n",
       "      <td>few clouds</td>\n",
       "      <td>02n</td>\n",
       "    </tr>\n",
       "    <tr>\n",
       "      <td>1</td>\n",
       "      <td>2013-10-01 03:00:00</td>\n",
       "      <td>2013-10-01 01:00:00 +0000 UTC</td>\n",
       "      <td>2509954</td>\n",
       "      <td>Valencia</td>\n",
       "      <td>298.150</td>\n",
       "      <td>298.150</td>\n",
       "      <td>298.150</td>\n",
       "      <td>1009</td>\n",
       "      <td>65</td>\n",
       "      <td>4</td>\n",
       "      <td>250</td>\n",
       "      <td>0.0</td>\n",
       "      <td>0.0</td>\n",
       "      <td>0.0</td>\n",
       "      <td>20</td>\n",
       "      <td>801</td>\n",
       "      <td>clouds</td>\n",
       "      <td>few clouds</td>\n",
       "      <td>02n</td>\n",
       "    </tr>\n",
       "    <tr>\n",
       "      <td>2</td>\n",
       "      <td>2013-10-01 04:00:00</td>\n",
       "      <td>2013-10-01 02:00:00 +0000 UTC</td>\n",
       "      <td>2509954</td>\n",
       "      <td>Valencia</td>\n",
       "      <td>296.161</td>\n",
       "      <td>296.161</td>\n",
       "      <td>296.161</td>\n",
       "      <td>1009</td>\n",
       "      <td>71</td>\n",
       "      <td>4</td>\n",
       "      <td>269</td>\n",
       "      <td>0.0</td>\n",
       "      <td>0.0</td>\n",
       "      <td>0.0</td>\n",
       "      <td>10</td>\n",
       "      <td>800</td>\n",
       "      <td>clear</td>\n",
       "      <td>sky is clear</td>\n",
       "      <td>02</td>\n",
       "    </tr>\n",
       "  </tbody>\n",
       "</table>\n",
       "</div>"
      ],
      "text/plain": [
       "                    dt                         dt_iso  city_id city_name  \\\n",
       "0  2013-10-01 02:00:00  2013-10-01 00:00:00 +0000 UTC  2509954  Valencia   \n",
       "1  2013-10-01 03:00:00  2013-10-01 01:00:00 +0000 UTC  2509954  Valencia   \n",
       "2  2013-10-01 04:00:00  2013-10-01 02:00:00 +0000 UTC  2509954  Valencia   \n",
       "\n",
       "      temp  temp_min  temp_max  pressure  humidity  wind_speed  wind_deg  \\\n",
       "0  299.150   299.150   299.150      1008        61           5       290   \n",
       "1  298.150   298.150   298.150      1009        65           4       250   \n",
       "2  296.161   296.161   296.161      1009        71           4       269   \n",
       "\n",
       "   rain_1h  rain_3h  snow_3h  clouds_all  weather_id weather_main  \\\n",
       "0      0.0      0.0      0.0          20         801       clouds   \n",
       "1      0.0      0.0      0.0          20         801       clouds   \n",
       "2      0.0      0.0      0.0          10         800        clear   \n",
       "\n",
       "  weather_description weather_icon  \n",
       "0          few clouds          02n  \n",
       "1          few clouds          02n  \n",
       "2        sky is clear           02  "
      ]
     },
     "execution_count": 20,
     "metadata": {},
     "output_type": "execute_result"
    }
   ],
   "source": [
    "weather = get_weather_data()\n",
    "weather.head(3)"
   ]
  },
  {
   "cell_type": "code",
   "execution_count": 21,
   "metadata": {},
   "outputs": [
    {
     "data": {
      "text/plain": [
       "Madrid       53357\n",
       "Bilbao       52774\n",
       "Seville      52488\n",
       "Barcelona    52416\n",
       "Valencia     51965\n",
       "Name: city_name, dtype: int64"
      ]
     },
     "execution_count": 21,
     "metadata": {},
     "output_type": "execute_result"
    }
   ],
   "source": [
    "weather.city_name.value_counts()"
   ]
  },
  {
   "cell_type": "markdown",
   "metadata": {},
   "source": [
    "### Create National Features\n",
    "\n",
    "Data is comprised of 5 major cities. Our electricity power demand data is for spain as a country. So the wather data will need to represent the whole country.\n",
    "\n",
    "To do this we will take a weighted average of the cities feature value based on population. This is rationalized because a heat wave hitting a city with 2x population is likely to see more total energy demanded than the smaller city. Below are the city weightings:\n",
    "\n",
    "|City | Population | Weight|\n",
    "|-----|------------|-------|\n",
    "|Madrid | 3,174,000 | |\n",
    "|Barcelona | 1,165,000 | |\n",
    "|Bilbao | 345,000 | |\n",
    "|Seville | 690,000 | |\n",
    "|Valencia | 789,000 | |\n",
    "\n",
    "\n",
    "Steps:\n",
    "1. Create a column with the weighted values (i.e. the population)\n",
    "2. Group over the dates column"
   ]
  },
  {
   "cell_type": "code",
   "execution_count": 23,
   "metadata": {},
   "outputs": [],
   "source": [
    "populations = {'Madrid' : 3174000,\n",
    "              'Barcelona' : 1165000,\n",
    "              'Bilbao' : 345000,\n",
    "              'Seville' : 690000,\n",
    "              'Valencia' : 789000}\n",
    "\n",
    "#create a populations column\n",
    "weather['population'] = [populations[city] for city in weather.city_name]"
   ]
  },
  {
   "cell_type": "code",
   "execution_count": 29,
   "metadata": {},
   "outputs": [
    {
     "name": "stdout",
     "output_type": "stream",
     "text": [
      "<class 'pandas.core.frame.DataFrame'>\n",
      "RangeIndex: 263000 entries, 0 to 262999\n",
      "Data columns (total 20 columns):\n",
      "dt                     263000 non-null object\n",
      "dt_iso                 263000 non-null object\n",
      "city_id                263000 non-null int64\n",
      "city_name              263000 non-null object\n",
      "temp                   263000 non-null float64\n",
      "temp_min               263000 non-null float64\n",
      "temp_max               263000 non-null float64\n",
      "pressure               263000 non-null int64\n",
      "humidity               263000 non-null int64\n",
      "wind_speed             263000 non-null int64\n",
      "wind_deg               263000 non-null int64\n",
      "rain_1h                263000 non-null float64\n",
      "rain_3h                263000 non-null float64\n",
      "snow_3h                263000 non-null float64\n",
      "clouds_all             263000 non-null int64\n",
      "weather_id             263000 non-null int64\n",
      "weather_main           263000 non-null object\n",
      "weather_description    263000 non-null object\n",
      "weather_icon           263000 non-null object\n",
      "population             263000 non-null int64\n",
      "dtypes: float64(6), int64(8), object(6)\n",
      "memory usage: 40.1+ MB\n"
     ]
    }
   ],
   "source": [
    "weather.info()"
   ]
  },
  {
   "cell_type": "code",
   "execution_count": 47,
   "metadata": {},
   "outputs": [],
   "source": [
    "numeric_cols = ['temp', 'pressure', 'wind_speed', 'rain_1h', 'rain_3h', 'snow_3h']\n",
    "\n",
    "#create dataframe to store the transformed data\n",
    "national_weather = pd.DataFrame()\n",
    "\n",
    "#for the numeric columns, group by datetime and average according to their population weight\n",
    "for col in numeric_cols:\n",
    "    #group by the datecolumn. for each element in the column average it by it's weight\n",
    "    national_weather[col] = weather.groupby(weather.dt).apply(lambda x : np.average(x[col], weights=x.population))"
   ]
  },
  {
   "cell_type": "code",
   "execution_count": 39,
   "metadata": {},
   "outputs": [
    {
     "data": {
      "text/plain": [
       "('2013-10-01 02:00:00', '2019-08-26 02:00:00')"
      ]
     },
     "execution_count": 39,
     "metadata": {},
     "output_type": "execute_result"
    }
   ],
   "source": [
    "national_weather.index.min(), national_weather.index.max()"
   ]
  },
  {
   "cell_type": "code",
   "execution_count": 48,
   "metadata": {},
   "outputs": [],
   "source": [
    "national_weather = national_weather.reset_index()"
   ]
  },
  {
   "cell_type": "code",
   "execution_count": 49,
   "metadata": {},
   "outputs": [
    {
     "data": {
      "text/html": [
       "<div>\n",
       "<style scoped>\n",
       "    .dataframe tbody tr th:only-of-type {\n",
       "        vertical-align: middle;\n",
       "    }\n",
       "\n",
       "    .dataframe tbody tr th {\n",
       "        vertical-align: top;\n",
       "    }\n",
       "\n",
       "    .dataframe thead th {\n",
       "        text-align: right;\n",
       "    }\n",
       "</style>\n",
       "<table border=\"1\" class=\"dataframe\">\n",
       "  <thead>\n",
       "    <tr style=\"text-align: right;\">\n",
       "      <th></th>\n",
       "      <th>dt</th>\n",
       "      <th>temp</th>\n",
       "      <th>pressure</th>\n",
       "      <th>wind_speed</th>\n",
       "      <th>rain_1h</th>\n",
       "      <th>rain_3h</th>\n",
       "      <th>snow_3h</th>\n",
       "    </tr>\n",
       "  </thead>\n",
       "  <tbody>\n",
       "    <tr>\n",
       "      <td>0</td>\n",
       "      <td>2013-10-01 02:00:00</td>\n",
       "      <td>293.616979</td>\n",
       "      <td>1008.499108</td>\n",
       "      <td>3.256044</td>\n",
       "      <td>0.000000</td>\n",
       "      <td>0.055979</td>\n",
       "      <td>0.0</td>\n",
       "    </tr>\n",
       "    <tr>\n",
       "      <td>1</td>\n",
       "      <td>2013-10-01 03:00:00</td>\n",
       "      <td>293.521288</td>\n",
       "      <td>1008.459192</td>\n",
       "      <td>3.195197</td>\n",
       "      <td>0.000000</td>\n",
       "      <td>0.055979</td>\n",
       "      <td>0.0</td>\n",
       "    </tr>\n",
       "    <tr>\n",
       "      <td>2</td>\n",
       "      <td>2013-10-01 04:00:00</td>\n",
       "      <td>293.025492</td>\n",
       "      <td>1008.336038</td>\n",
       "      <td>3.720104</td>\n",
       "      <td>0.033588</td>\n",
       "      <td>0.000000</td>\n",
       "      <td>0.0</td>\n",
       "    </tr>\n",
       "  </tbody>\n",
       "</table>\n",
       "</div>"
      ],
      "text/plain": [
       "                    dt        temp     pressure  wind_speed   rain_1h  \\\n",
       "0  2013-10-01 02:00:00  293.616979  1008.499108    3.256044  0.000000   \n",
       "1  2013-10-01 03:00:00  293.521288  1008.459192    3.195197  0.000000   \n",
       "2  2013-10-01 04:00:00  293.025492  1008.336038    3.720104  0.033588   \n",
       "\n",
       "    rain_3h  snow_3h  \n",
       "0  0.055979      0.0  \n",
       "1  0.055979      0.0  \n",
       "2  0.000000      0.0  "
      ]
     },
     "execution_count": 49,
     "metadata": {},
     "output_type": "execute_result"
    }
   ],
   "source": [
    "national_weather.head(3)"
   ]
  },
  {
   "cell_type": "code",
   "execution_count": 50,
   "metadata": {},
   "outputs": [],
   "source": [
    "#save the national weather data set as is for the prohpet/sklearn models\n",
    "national_weather.to_csv('./data/cleaned_data/national_weather_2013_2019')"
   ]
  },
  {
   "cell_type": "code",
   "execution_count": 53,
   "metadata": {},
   "outputs": [
    {
     "data": {
      "text/plain": [
       "(51714, 7)"
      ]
     },
     "execution_count": 53,
     "metadata": {},
     "output_type": "execute_result"
    }
   ],
   "source": [
    "national_weather.shape"
   ]
  },
  {
   "cell_type": "code",
   "execution_count": 55,
   "metadata": {},
   "outputs": [],
   "source": [
    "#create separate set \n",
    "datetimes = pd.to_datetime(national_weather['dt'], format='%d-%m-%Y %H%M', errors='ignore')\n",
    "\n",
    "national_weather_dtidx = national_weather.set_index(pd.DatetimeIndex(datetimes))"
   ]
  },
  {
   "cell_type": "code",
   "execution_count": 57,
   "metadata": {},
   "outputs": [],
   "source": [
    "national_weather_dtidx.to_csv('./data/cleaned_data/national_weather_2013_2019_dtidx')"
   ]
  },
  {
   "cell_type": "code",
   "execution_count": null,
   "metadata": {},
   "outputs": [],
   "source": []
  }
 ],
 "metadata": {
  "kernelspec": {
   "display_name": "Python 3",
   "language": "python",
   "name": "python3"
  },
  "language_info": {
   "codemirror_mode": {
    "name": "ipython",
    "version": 3
   },
   "file_extension": ".py",
   "mimetype": "text/x-python",
   "name": "python",
   "nbconvert_exporter": "python",
   "pygments_lexer": "ipython3",
   "version": "3.6.9"
  }
 },
 "nbformat": 4,
 "nbformat_minor": 2
}
